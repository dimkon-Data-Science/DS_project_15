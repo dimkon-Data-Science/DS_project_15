{
 "cells": [
  {
   "cell_type": "markdown",
   "metadata": {},
   "source": [
    "# Исследование"
   ]
  },
  {
   "cell_type": "markdown",
   "metadata": {},
   "source": [
    "## 0. Импорты"
   ]
  },
  {
   "cell_type": "code",
   "execution_count": 115,
   "metadata": {},
   "outputs": [
    {
     "data": {
      "text/plain": [
       "'1.4.4'"
      ]
     },
     "execution_count": 115,
     "metadata": {},
     "output_type": "execute_result"
    }
   ],
   "source": [
    "import pandas\n",
    "pandas.__version__"
   ]
  },
  {
   "cell_type": "code",
   "execution_count": 116,
   "metadata": {},
   "outputs": [
    {
     "data": {
      "text/plain": [
       "'1.1.2'"
      ]
     },
     "execution_count": 116,
     "metadata": {},
     "output_type": "execute_result"
    }
   ],
   "source": [
    "import sklearn\n",
    "sklearn.__version__"
   ]
  },
  {
   "cell_type": "code",
   "execution_count": 1,
   "metadata": {},
   "outputs": [],
   "source": [
    "import pandas as pd\n",
    "import numpy as np\n",
    "import gc \n",
    "import os.path\n",
    "import pickle\n",
    "from sklearn.metrics import accuracy_score\n",
    "from sklearn.metrics import mean_squared_error\n",
    "from sklearn.model_selection import cross_val_score\n",
    "from sklearn.metrics import precision_score\n",
    "from sklearn.metrics import recall_score\n",
    "from sklearn.metrics import make_scorer\n",
    "from sklearn.model_selection import KFold\n",
    "from sklearn.pipeline import Pipeline\n",
    "from sklearn.model_selection import GridSearchCV\n",
    "import matplotlib.pyplot as plt\n",
    "from googlesearch import search \n",
    "from urllib.error import HTTPError\n",
    "from bs4 import BeautifulSoup as bs\n",
    "import requests"
   ]
  },
  {
   "cell_type": "code",
   "execution_count": 2,
   "metadata": {},
   "outputs": [],
   "source": [
    "''' подавление предупреждений '''\n",
    "import warnings\n",
    "warnings.filterwarnings('ignore')"
   ]
  },
  {
   "cell_type": "code",
   "execution_count": 3,
   "metadata": {},
   "outputs": [],
   "source": [
    "''' мой модуль '''\n",
    "from src.projmodul import *"
   ]
  },
  {
   "cell_type": "markdown",
   "metadata": {},
   "source": [
    "## 1. Прогноз"
   ]
  },
  {
   "cell_type": "markdown",
   "metadata": {},
   "source": [
    "### 1.1. Подготовка данных"
   ]
  },
  {
   "cell_type": "markdown",
   "metadata": {},
   "source": [
    "- Используйте датасет из Epicurious, подготовленный HugoDarwood\n",
    "- Отфильтруйте поля: удалите как можно больше столбцов, которые не относятся к названиями ингридиентов. Вы будете прогнозировать оценку или категорию оценки, используя только ингридиенты и ничего больше. Если модель обучится на других данных, которые не будут передаваться на вход, то точность прогнозов будет заведомо ниже."
   ]
  },
  {
   "cell_type": "markdown",
   "metadata": {},
   "source": [
    "----------------------------"
   ]
  },
  {
   "cell_type": "markdown",
   "metadata": {},
   "source": [
    "#### 1.1.1. Датасет из Epicurious, подготовленный HugoDarwood"
   ]
  },
  {
   "cell_type": "code",
   "execution_count": 4,
   "metadata": {},
   "outputs": [],
   "source": [
    "df  = pd.read_csv('./data/epi_r.csv')"
   ]
  },
  {
   "cell_type": "code",
   "execution_count": 5,
   "metadata": {},
   "outputs": [
    {
     "data": {
      "text/html": [
       "<div>\n",
       "<style scoped>\n",
       "    .dataframe tbody tr th:only-of-type {\n",
       "        vertical-align: middle;\n",
       "    }\n",
       "\n",
       "    .dataframe tbody tr th {\n",
       "        vertical-align: top;\n",
       "    }\n",
       "\n",
       "    .dataframe thead th {\n",
       "        text-align: right;\n",
       "    }\n",
       "</style>\n",
       "<table border=\"1\" class=\"dataframe\">\n",
       "  <thead>\n",
       "    <tr style=\"text-align: right;\">\n",
       "      <th></th>\n",
       "      <th>title</th>\n",
       "      <th>rating</th>\n",
       "      <th>calories</th>\n",
       "      <th>protein</th>\n",
       "      <th>fat</th>\n",
       "      <th>sodium</th>\n",
       "      <th>#cakeweek</th>\n",
       "      <th>#wasteless</th>\n",
       "      <th>22-minute meals</th>\n",
       "      <th>3-ingredient recipes</th>\n",
       "      <th>...</th>\n",
       "      <th>yellow squash</th>\n",
       "      <th>yogurt</th>\n",
       "      <th>yonkers</th>\n",
       "      <th>yuca</th>\n",
       "      <th>zucchini</th>\n",
       "      <th>cookbooks</th>\n",
       "      <th>leftovers</th>\n",
       "      <th>snack</th>\n",
       "      <th>snack week</th>\n",
       "      <th>turkey</th>\n",
       "    </tr>\n",
       "  </thead>\n",
       "  <tbody>\n",
       "    <tr>\n",
       "      <th>0</th>\n",
       "      <td>Lentil, Apple, and Turkey Wrap</td>\n",
       "      <td>2.500</td>\n",
       "      <td>426.0</td>\n",
       "      <td>30.0</td>\n",
       "      <td>7.0</td>\n",
       "      <td>559.0</td>\n",
       "      <td>0.0</td>\n",
       "      <td>0.0</td>\n",
       "      <td>0.0</td>\n",
       "      <td>0.0</td>\n",
       "      <td>...</td>\n",
       "      <td>0.0</td>\n",
       "      <td>0.0</td>\n",
       "      <td>0.0</td>\n",
       "      <td>0.0</td>\n",
       "      <td>0.0</td>\n",
       "      <td>0.0</td>\n",
       "      <td>0.0</td>\n",
       "      <td>0.0</td>\n",
       "      <td>0.0</td>\n",
       "      <td>1.0</td>\n",
       "    </tr>\n",
       "    <tr>\n",
       "      <th>1</th>\n",
       "      <td>Boudin Blanc Terrine with Red Onion Confit</td>\n",
       "      <td>4.375</td>\n",
       "      <td>403.0</td>\n",
       "      <td>18.0</td>\n",
       "      <td>23.0</td>\n",
       "      <td>1439.0</td>\n",
       "      <td>0.0</td>\n",
       "      <td>0.0</td>\n",
       "      <td>0.0</td>\n",
       "      <td>0.0</td>\n",
       "      <td>...</td>\n",
       "      <td>0.0</td>\n",
       "      <td>0.0</td>\n",
       "      <td>0.0</td>\n",
       "      <td>0.0</td>\n",
       "      <td>0.0</td>\n",
       "      <td>0.0</td>\n",
       "      <td>0.0</td>\n",
       "      <td>0.0</td>\n",
       "      <td>0.0</td>\n",
       "      <td>0.0</td>\n",
       "    </tr>\n",
       "  </tbody>\n",
       "</table>\n",
       "<p>2 rows × 680 columns</p>\n",
       "</div>"
      ],
      "text/plain": [
       "                                         title  rating  calories  protein  \\\n",
       "0              Lentil, Apple, and Turkey Wrap    2.500     426.0     30.0   \n",
       "1  Boudin Blanc Terrine with Red Onion Confit    4.375     403.0     18.0   \n",
       "\n",
       "    fat  sodium  #cakeweek  #wasteless  22-minute meals  3-ingredient recipes  \\\n",
       "0   7.0   559.0        0.0         0.0              0.0                   0.0   \n",
       "1  23.0  1439.0        0.0         0.0              0.0                   0.0   \n",
       "\n",
       "   ...  yellow squash  yogurt  yonkers  yuca  zucchini  cookbooks  leftovers  \\\n",
       "0  ...            0.0     0.0      0.0   0.0       0.0        0.0        0.0   \n",
       "1  ...            0.0     0.0      0.0   0.0       0.0        0.0        0.0   \n",
       "\n",
       "   snack  snack week  turkey  \n",
       "0    0.0         0.0     1.0  \n",
       "1    0.0         0.0     0.0  \n",
       "\n",
       "[2 rows x 680 columns]"
      ]
     },
     "execution_count": 5,
     "metadata": {},
     "output_type": "execute_result"
    }
   ],
   "source": [
    "df.head(2)"
   ]
  },
  {
   "cell_type": "code",
   "execution_count": 6,
   "metadata": {},
   "outputs": [
    {
     "data": {
      "text/plain": [
       "(20052, 680)"
      ]
     },
     "execution_count": 6,
     "metadata": {},
     "output_type": "execute_result"
    }
   ],
   "source": [
    "df.shape"
   ]
  },
  {
   "cell_type": "code",
   "execution_count": 7,
   "metadata": {},
   "outputs": [
    {
     "data": {
      "text/plain": [
       "13635360"
      ]
     },
     "execution_count": 7,
     "metadata": {},
     "output_type": "execute_result"
    }
   ],
   "source": [
    "df.size"
   ]
  },
  {
   "cell_type": "code",
   "execution_count": 8,
   "metadata": {},
   "outputs": [
    {
     "name": "stdout",
     "output_type": "stream",
     "text": [
      "<class 'pandas.core.frame.DataFrame'>\n",
      "RangeIndex: 20052 entries, 0 to 20051\n",
      "Columns: 680 entries, title to turkey\n",
      "dtypes: float64(679), object(1)\n",
      "memory usage: 104.0+ MB\n"
     ]
    }
   ],
   "source": [
    "df.info()"
   ]
  },
  {
   "cell_type": "code",
   "execution_count": 9,
   "metadata": {},
   "outputs": [
    {
     "data": {
      "text/plain": [
       "title          object\n",
       "rating        float64\n",
       "calories      float64\n",
       "protein       float64\n",
       "fat           float64\n",
       "               ...   \n",
       "cookbooks     float64\n",
       "leftovers     float64\n",
       "snack         float64\n",
       "snack week    float64\n",
       "turkey        float64\n",
       "Length: 680, dtype: object"
      ]
     },
     "execution_count": 9,
     "metadata": {},
     "output_type": "execute_result"
    }
   ],
   "source": [
    "df.dtypes"
   ]
  },
  {
   "cell_type": "code",
   "execution_count": 10,
   "metadata": {},
   "outputs": [
    {
     "data": {
      "text/html": [
       "<div>\n",
       "<style scoped>\n",
       "    .dataframe tbody tr th:only-of-type {\n",
       "        vertical-align: middle;\n",
       "    }\n",
       "\n",
       "    .dataframe tbody tr th {\n",
       "        vertical-align: top;\n",
       "    }\n",
       "\n",
       "    .dataframe thead th {\n",
       "        text-align: right;\n",
       "    }\n",
       "</style>\n",
       "<table border=\"1\" class=\"dataframe\">\n",
       "  <thead>\n",
       "    <tr style=\"text-align: right;\">\n",
       "      <th></th>\n",
       "      <th>rating</th>\n",
       "      <th>calories</th>\n",
       "      <th>protein</th>\n",
       "      <th>fat</th>\n",
       "      <th>sodium</th>\n",
       "      <th>#cakeweek</th>\n",
       "      <th>#wasteless</th>\n",
       "      <th>22-minute meals</th>\n",
       "      <th>3-ingredient recipes</th>\n",
       "      <th>30 days of groceries</th>\n",
       "      <th>...</th>\n",
       "      <th>yellow squash</th>\n",
       "      <th>yogurt</th>\n",
       "      <th>yonkers</th>\n",
       "      <th>yuca</th>\n",
       "      <th>zucchini</th>\n",
       "      <th>cookbooks</th>\n",
       "      <th>leftovers</th>\n",
       "      <th>snack</th>\n",
       "      <th>snack week</th>\n",
       "      <th>turkey</th>\n",
       "    </tr>\n",
       "  </thead>\n",
       "  <tbody>\n",
       "    <tr>\n",
       "      <th>count</th>\n",
       "      <td>20052.00</td>\n",
       "      <td>15935.00</td>\n",
       "      <td>15890.00</td>\n",
       "      <td>15869.00</td>\n",
       "      <td>15933.00</td>\n",
       "      <td>20052.00</td>\n",
       "      <td>20052.00</td>\n",
       "      <td>20052.00</td>\n",
       "      <td>20052.00</td>\n",
       "      <td>20052.00</td>\n",
       "      <td>...</td>\n",
       "      <td>20052.00</td>\n",
       "      <td>20052.00</td>\n",
       "      <td>20052.00</td>\n",
       "      <td>20052.00</td>\n",
       "      <td>20052.00</td>\n",
       "      <td>20052.00</td>\n",
       "      <td>20052.00</td>\n",
       "      <td>20052.00</td>\n",
       "      <td>20052.00</td>\n",
       "      <td>20052.00</td>\n",
       "    </tr>\n",
       "    <tr>\n",
       "      <th>mean</th>\n",
       "      <td>3.71</td>\n",
       "      <td>6322.96</td>\n",
       "      <td>100.16</td>\n",
       "      <td>346.88</td>\n",
       "      <td>6225.97</td>\n",
       "      <td>0.00</td>\n",
       "      <td>0.00</td>\n",
       "      <td>0.00</td>\n",
       "      <td>0.00</td>\n",
       "      <td>0.00</td>\n",
       "      <td>...</td>\n",
       "      <td>0.00</td>\n",
       "      <td>0.03</td>\n",
       "      <td>0.00</td>\n",
       "      <td>0.00</td>\n",
       "      <td>0.01</td>\n",
       "      <td>0.00</td>\n",
       "      <td>0.00</td>\n",
       "      <td>0.00</td>\n",
       "      <td>0.00</td>\n",
       "      <td>0.02</td>\n",
       "    </tr>\n",
       "    <tr>\n",
       "      <th>std</th>\n",
       "      <td>1.34</td>\n",
       "      <td>359046.04</td>\n",
       "      <td>3840.32</td>\n",
       "      <td>20456.11</td>\n",
       "      <td>333318.19</td>\n",
       "      <td>0.02</td>\n",
       "      <td>0.01</td>\n",
       "      <td>0.03</td>\n",
       "      <td>0.04</td>\n",
       "      <td>0.02</td>\n",
       "      <td>...</td>\n",
       "      <td>0.04</td>\n",
       "      <td>0.16</td>\n",
       "      <td>0.01</td>\n",
       "      <td>0.02</td>\n",
       "      <td>0.12</td>\n",
       "      <td>0.01</td>\n",
       "      <td>0.02</td>\n",
       "      <td>0.04</td>\n",
       "      <td>0.03</td>\n",
       "      <td>0.15</td>\n",
       "    </tr>\n",
       "    <tr>\n",
       "      <th>min</th>\n",
       "      <td>0.00</td>\n",
       "      <td>0.00</td>\n",
       "      <td>0.00</td>\n",
       "      <td>0.00</td>\n",
       "      <td>0.00</td>\n",
       "      <td>0.00</td>\n",
       "      <td>0.00</td>\n",
       "      <td>0.00</td>\n",
       "      <td>0.00</td>\n",
       "      <td>0.00</td>\n",
       "      <td>...</td>\n",
       "      <td>0.00</td>\n",
       "      <td>0.00</td>\n",
       "      <td>0.00</td>\n",
       "      <td>0.00</td>\n",
       "      <td>0.00</td>\n",
       "      <td>0.00</td>\n",
       "      <td>0.00</td>\n",
       "      <td>0.00</td>\n",
       "      <td>0.00</td>\n",
       "      <td>0.00</td>\n",
       "    </tr>\n",
       "    <tr>\n",
       "      <th>25%</th>\n",
       "      <td>3.75</td>\n",
       "      <td>198.00</td>\n",
       "      <td>3.00</td>\n",
       "      <td>7.00</td>\n",
       "      <td>80.00</td>\n",
       "      <td>0.00</td>\n",
       "      <td>0.00</td>\n",
       "      <td>0.00</td>\n",
       "      <td>0.00</td>\n",
       "      <td>0.00</td>\n",
       "      <td>...</td>\n",
       "      <td>0.00</td>\n",
       "      <td>0.00</td>\n",
       "      <td>0.00</td>\n",
       "      <td>0.00</td>\n",
       "      <td>0.00</td>\n",
       "      <td>0.00</td>\n",
       "      <td>0.00</td>\n",
       "      <td>0.00</td>\n",
       "      <td>0.00</td>\n",
       "      <td>0.00</td>\n",
       "    </tr>\n",
       "    <tr>\n",
       "      <th>50%</th>\n",
       "      <td>4.38</td>\n",
       "      <td>331.00</td>\n",
       "      <td>8.00</td>\n",
       "      <td>17.00</td>\n",
       "      <td>294.00</td>\n",
       "      <td>0.00</td>\n",
       "      <td>0.00</td>\n",
       "      <td>0.00</td>\n",
       "      <td>0.00</td>\n",
       "      <td>0.00</td>\n",
       "      <td>...</td>\n",
       "      <td>0.00</td>\n",
       "      <td>0.00</td>\n",
       "      <td>0.00</td>\n",
       "      <td>0.00</td>\n",
       "      <td>0.00</td>\n",
       "      <td>0.00</td>\n",
       "      <td>0.00</td>\n",
       "      <td>0.00</td>\n",
       "      <td>0.00</td>\n",
       "      <td>0.00</td>\n",
       "    </tr>\n",
       "    <tr>\n",
       "      <th>75%</th>\n",
       "      <td>4.38</td>\n",
       "      <td>586.00</td>\n",
       "      <td>27.00</td>\n",
       "      <td>33.00</td>\n",
       "      <td>711.00</td>\n",
       "      <td>0.00</td>\n",
       "      <td>0.00</td>\n",
       "      <td>0.00</td>\n",
       "      <td>0.00</td>\n",
       "      <td>0.00</td>\n",
       "      <td>...</td>\n",
       "      <td>0.00</td>\n",
       "      <td>0.00</td>\n",
       "      <td>0.00</td>\n",
       "      <td>0.00</td>\n",
       "      <td>0.00</td>\n",
       "      <td>0.00</td>\n",
       "      <td>0.00</td>\n",
       "      <td>0.00</td>\n",
       "      <td>0.00</td>\n",
       "      <td>0.00</td>\n",
       "    </tr>\n",
       "    <tr>\n",
       "      <th>max</th>\n",
       "      <td>5.00</td>\n",
       "      <td>30111218.00</td>\n",
       "      <td>236489.00</td>\n",
       "      <td>1722763.00</td>\n",
       "      <td>27675110.00</td>\n",
       "      <td>1.00</td>\n",
       "      <td>1.00</td>\n",
       "      <td>1.00</td>\n",
       "      <td>1.00</td>\n",
       "      <td>1.00</td>\n",
       "      <td>...</td>\n",
       "      <td>1.00</td>\n",
       "      <td>1.00</td>\n",
       "      <td>1.00</td>\n",
       "      <td>1.00</td>\n",
       "      <td>1.00</td>\n",
       "      <td>1.00</td>\n",
       "      <td>1.00</td>\n",
       "      <td>1.00</td>\n",
       "      <td>1.00</td>\n",
       "      <td>1.00</td>\n",
       "    </tr>\n",
       "  </tbody>\n",
       "</table>\n",
       "<p>8 rows × 679 columns</p>\n",
       "</div>"
      ],
      "text/plain": [
       "         rating     calories    protein         fat       sodium  #cakeweek  \\\n",
       "count  20052.00     15935.00   15890.00    15869.00     15933.00   20052.00   \n",
       "mean       3.71      6322.96     100.16      346.88      6225.97       0.00   \n",
       "std        1.34    359046.04    3840.32    20456.11    333318.19       0.02   \n",
       "min        0.00         0.00       0.00        0.00         0.00       0.00   \n",
       "25%        3.75       198.00       3.00        7.00        80.00       0.00   \n",
       "50%        4.38       331.00       8.00       17.00       294.00       0.00   \n",
       "75%        4.38       586.00      27.00       33.00       711.00       0.00   \n",
       "max        5.00  30111218.00  236489.00  1722763.00  27675110.00       1.00   \n",
       "\n",
       "       #wasteless  22-minute meals  3-ingredient recipes  \\\n",
       "count    20052.00         20052.00              20052.00   \n",
       "mean         0.00             0.00                  0.00   \n",
       "std          0.01             0.03                  0.04   \n",
       "min          0.00             0.00                  0.00   \n",
       "25%          0.00             0.00                  0.00   \n",
       "50%          0.00             0.00                  0.00   \n",
       "75%          0.00             0.00                  0.00   \n",
       "max          1.00             1.00                  1.00   \n",
       "\n",
       "       30 days of groceries  ...  yellow squash    yogurt   yonkers      yuca  \\\n",
       "count              20052.00  ...       20052.00  20052.00  20052.00  20052.00   \n",
       "mean                   0.00  ...           0.00      0.03      0.00      0.00   \n",
       "std                    0.02  ...           0.04      0.16      0.01      0.02   \n",
       "min                    0.00  ...           0.00      0.00      0.00      0.00   \n",
       "25%                    0.00  ...           0.00      0.00      0.00      0.00   \n",
       "50%                    0.00  ...           0.00      0.00      0.00      0.00   \n",
       "75%                    0.00  ...           0.00      0.00      0.00      0.00   \n",
       "max                    1.00  ...           1.00      1.00      1.00      1.00   \n",
       "\n",
       "       zucchini  cookbooks  leftovers     snack  snack week    turkey  \n",
       "count  20052.00   20052.00   20052.00  20052.00    20052.00  20052.00  \n",
       "mean       0.01       0.00       0.00      0.00        0.00      0.02  \n",
       "std        0.12       0.01       0.02      0.04        0.03      0.15  \n",
       "min        0.00       0.00       0.00      0.00        0.00      0.00  \n",
       "25%        0.00       0.00       0.00      0.00        0.00      0.00  \n",
       "50%        0.00       0.00       0.00      0.00        0.00      0.00  \n",
       "75%        0.00       0.00       0.00      0.00        0.00      0.00  \n",
       "max        1.00       1.00       1.00      1.00        1.00      1.00  \n",
       "\n",
       "[8 rows x 679 columns]"
      ]
     },
     "execution_count": 10,
     "metadata": {},
     "output_type": "execute_result"
    }
   ],
   "source": [
    "df.describe().round(2)"
   ]
  },
  {
   "cell_type": "code",
   "execution_count": 11,
   "metadata": {},
   "outputs": [
    {
     "data": {
      "text/html": [
       "<div>\n",
       "<style scoped>\n",
       "    .dataframe tbody tr th:only-of-type {\n",
       "        vertical-align: middle;\n",
       "    }\n",
       "\n",
       "    .dataframe tbody tr th {\n",
       "        vertical-align: top;\n",
       "    }\n",
       "\n",
       "    .dataframe thead th {\n",
       "        text-align: right;\n",
       "    }\n",
       "</style>\n",
       "<table border=\"1\" class=\"dataframe\">\n",
       "  <thead>\n",
       "    <tr style=\"text-align: right;\">\n",
       "      <th></th>\n",
       "      <th>count</th>\n",
       "      <th>mean</th>\n",
       "      <th>std</th>\n",
       "      <th>min</th>\n",
       "      <th>25%</th>\n",
       "      <th>50%</th>\n",
       "      <th>75%</th>\n",
       "      <th>max</th>\n",
       "    </tr>\n",
       "  </thead>\n",
       "  <tbody>\n",
       "    <tr>\n",
       "      <th>rating</th>\n",
       "      <td>20052.0</td>\n",
       "      <td>3.714467</td>\n",
       "      <td>1.340829</td>\n",
       "      <td>0.0</td>\n",
       "      <td>3.75</td>\n",
       "      <td>4.375</td>\n",
       "      <td>4.375</td>\n",
       "      <td>5.0</td>\n",
       "    </tr>\n",
       "    <tr>\n",
       "      <th>calories</th>\n",
       "      <td>15935.0</td>\n",
       "      <td>6322.958017</td>\n",
       "      <td>359046.041242</td>\n",
       "      <td>0.0</td>\n",
       "      <td>198.00</td>\n",
       "      <td>331.000</td>\n",
       "      <td>586.000</td>\n",
       "      <td>30111218.0</td>\n",
       "    </tr>\n",
       "    <tr>\n",
       "      <th>protein</th>\n",
       "      <td>15890.0</td>\n",
       "      <td>100.160793</td>\n",
       "      <td>3840.318527</td>\n",
       "      <td>0.0</td>\n",
       "      <td>3.00</td>\n",
       "      <td>8.000</td>\n",
       "      <td>27.000</td>\n",
       "      <td>236489.0</td>\n",
       "    </tr>\n",
       "    <tr>\n",
       "      <th>fat</th>\n",
       "      <td>15869.0</td>\n",
       "      <td>346.877497</td>\n",
       "      <td>20456.106859</td>\n",
       "      <td>0.0</td>\n",
       "      <td>7.00</td>\n",
       "      <td>17.000</td>\n",
       "      <td>33.000</td>\n",
       "      <td>1722763.0</td>\n",
       "    </tr>\n",
       "    <tr>\n",
       "      <th>sodium</th>\n",
       "      <td>15933.0</td>\n",
       "      <td>6225.974895</td>\n",
       "      <td>333318.188891</td>\n",
       "      <td>0.0</td>\n",
       "      <td>80.00</td>\n",
       "      <td>294.000</td>\n",
       "      <td>711.000</td>\n",
       "      <td>27675110.0</td>\n",
       "    </tr>\n",
       "    <tr>\n",
       "      <th>...</th>\n",
       "      <td>...</td>\n",
       "      <td>...</td>\n",
       "      <td>...</td>\n",
       "      <td>...</td>\n",
       "      <td>...</td>\n",
       "      <td>...</td>\n",
       "      <td>...</td>\n",
       "      <td>...</td>\n",
       "    </tr>\n",
       "    <tr>\n",
       "      <th>cookbooks</th>\n",
       "      <td>20052.0</td>\n",
       "      <td>0.000150</td>\n",
       "      <td>0.012231</td>\n",
       "      <td>0.0</td>\n",
       "      <td>0.00</td>\n",
       "      <td>0.000</td>\n",
       "      <td>0.000</td>\n",
       "      <td>1.0</td>\n",
       "    </tr>\n",
       "    <tr>\n",
       "      <th>leftovers</th>\n",
       "      <td>20052.0</td>\n",
       "      <td>0.000349</td>\n",
       "      <td>0.018681</td>\n",
       "      <td>0.0</td>\n",
       "      <td>0.00</td>\n",
       "      <td>0.000</td>\n",
       "      <td>0.000</td>\n",
       "      <td>1.0</td>\n",
       "    </tr>\n",
       "    <tr>\n",
       "      <th>snack</th>\n",
       "      <td>20052.0</td>\n",
       "      <td>0.001396</td>\n",
       "      <td>0.037343</td>\n",
       "      <td>0.0</td>\n",
       "      <td>0.00</td>\n",
       "      <td>0.000</td>\n",
       "      <td>0.000</td>\n",
       "      <td>1.0</td>\n",
       "    </tr>\n",
       "    <tr>\n",
       "      <th>snack week</th>\n",
       "      <td>20052.0</td>\n",
       "      <td>0.000948</td>\n",
       "      <td>0.030768</td>\n",
       "      <td>0.0</td>\n",
       "      <td>0.00</td>\n",
       "      <td>0.000</td>\n",
       "      <td>0.000</td>\n",
       "      <td>1.0</td>\n",
       "    </tr>\n",
       "    <tr>\n",
       "      <th>turkey</th>\n",
       "      <td>20052.0</td>\n",
       "      <td>0.022741</td>\n",
       "      <td>0.149080</td>\n",
       "      <td>0.0</td>\n",
       "      <td>0.00</td>\n",
       "      <td>0.000</td>\n",
       "      <td>0.000</td>\n",
       "      <td>1.0</td>\n",
       "    </tr>\n",
       "  </tbody>\n",
       "</table>\n",
       "<p>679 rows × 8 columns</p>\n",
       "</div>"
      ],
      "text/plain": [
       "              count         mean            std  min     25%      50%  \\\n",
       "rating      20052.0     3.714467       1.340829  0.0    3.75    4.375   \n",
       "calories    15935.0  6322.958017  359046.041242  0.0  198.00  331.000   \n",
       "protein     15890.0   100.160793    3840.318527  0.0    3.00    8.000   \n",
       "fat         15869.0   346.877497   20456.106859  0.0    7.00   17.000   \n",
       "sodium      15933.0  6225.974895  333318.188891  0.0   80.00  294.000   \n",
       "...             ...          ...            ...  ...     ...      ...   \n",
       "cookbooks   20052.0     0.000150       0.012231  0.0    0.00    0.000   \n",
       "leftovers   20052.0     0.000349       0.018681  0.0    0.00    0.000   \n",
       "snack       20052.0     0.001396       0.037343  0.0    0.00    0.000   \n",
       "snack week  20052.0     0.000948       0.030768  0.0    0.00    0.000   \n",
       "turkey      20052.0     0.022741       0.149080  0.0    0.00    0.000   \n",
       "\n",
       "                75%         max  \n",
       "rating        4.375         5.0  \n",
       "calories    586.000  30111218.0  \n",
       "protein      27.000    236489.0  \n",
       "fat          33.000   1722763.0  \n",
       "sodium      711.000  27675110.0  \n",
       "...             ...         ...  \n",
       "cookbooks     0.000         1.0  \n",
       "leftovers     0.000         1.0  \n",
       "snack         0.000         1.0  \n",
       "snack week    0.000         1.0  \n",
       "turkey        0.000         1.0  \n",
       "\n",
       "[679 rows x 8 columns]"
      ]
     },
     "execution_count": 11,
     "metadata": {},
     "output_type": "execute_result"
    }
   ],
   "source": [
    "df.describe().T"
   ]
  },
  {
   "cell_type": "code",
   "execution_count": 12,
   "metadata": {},
   "outputs": [
    {
     "data": {
      "text/plain": [
       "30111218.0"
      ]
     },
     "execution_count": 12,
     "metadata": {},
     "output_type": "execute_result"
    }
   ],
   "source": [
    "df.describe().T['max'].max()"
   ]
  },
  {
   "cell_type": "code",
   "execution_count": 14,
   "metadata": {},
   "outputs": [
    {
     "data": {
      "text/plain": [
       "2316"
      ]
     },
     "execution_count": 14,
     "metadata": {},
     "output_type": "execute_result"
    }
   ],
   "source": [
    "sum(df['title'].duplicated())"
   ]
  },
  {
   "cell_type": "code",
   "execution_count": 15,
   "metadata": {},
   "outputs": [
    {
     "data": {
      "text/html": [
       "<div>\n",
       "<style scoped>\n",
       "    .dataframe tbody tr th:only-of-type {\n",
       "        vertical-align: middle;\n",
       "    }\n",
       "\n",
       "    .dataframe tbody tr th {\n",
       "        vertical-align: top;\n",
       "    }\n",
       "\n",
       "    .dataframe thead th {\n",
       "        text-align: right;\n",
       "    }\n",
       "</style>\n",
       "<table border=\"1\" class=\"dataframe\">\n",
       "  <thead>\n",
       "    <tr style=\"text-align: right;\">\n",
       "      <th></th>\n",
       "      <th>title</th>\n",
       "      <th>rating</th>\n",
       "      <th>calories</th>\n",
       "      <th>protein</th>\n",
       "      <th>fat</th>\n",
       "      <th>sodium</th>\n",
       "      <th>#cakeweek</th>\n",
       "      <th>#wasteless</th>\n",
       "      <th>22-minute meals</th>\n",
       "      <th>3-ingredient recipes</th>\n",
       "      <th>...</th>\n",
       "      <th>yellow squash</th>\n",
       "      <th>yogurt</th>\n",
       "      <th>yonkers</th>\n",
       "      <th>yuca</th>\n",
       "      <th>zucchini</th>\n",
       "      <th>cookbooks</th>\n",
       "      <th>leftovers</th>\n",
       "      <th>snack</th>\n",
       "      <th>snack week</th>\n",
       "      <th>turkey</th>\n",
       "    </tr>\n",
       "  </thead>\n",
       "  <tbody>\n",
       "    <tr>\n",
       "      <th>229</th>\n",
       "      <td>Blackberry-Raspberry Sauce</td>\n",
       "      <td>0.000</td>\n",
       "      <td>172.0</td>\n",
       "      <td>2.0</td>\n",
       "      <td>1.0</td>\n",
       "      <td>14.0</td>\n",
       "      <td>0.0</td>\n",
       "      <td>0.0</td>\n",
       "      <td>0.0</td>\n",
       "      <td>0.0</td>\n",
       "      <td>...</td>\n",
       "      <td>0.0</td>\n",
       "      <td>0.0</td>\n",
       "      <td>0.0</td>\n",
       "      <td>0.0</td>\n",
       "      <td>0.0</td>\n",
       "      <td>0.0</td>\n",
       "      <td>0.0</td>\n",
       "      <td>0.0</td>\n",
       "      <td>0.0</td>\n",
       "      <td>0.0</td>\n",
       "    </tr>\n",
       "    <tr>\n",
       "      <th>340</th>\n",
       "      <td>Seasoned Nori Wrappers</td>\n",
       "      <td>5.000</td>\n",
       "      <td>NaN</td>\n",
       "      <td>NaN</td>\n",
       "      <td>NaN</td>\n",
       "      <td>NaN</td>\n",
       "      <td>0.0</td>\n",
       "      <td>0.0</td>\n",
       "      <td>0.0</td>\n",
       "      <td>0.0</td>\n",
       "      <td>...</td>\n",
       "      <td>0.0</td>\n",
       "      <td>0.0</td>\n",
       "      <td>0.0</td>\n",
       "      <td>0.0</td>\n",
       "      <td>0.0</td>\n",
       "      <td>0.0</td>\n",
       "      <td>0.0</td>\n",
       "      <td>0.0</td>\n",
       "      <td>0.0</td>\n",
       "      <td>0.0</td>\n",
       "    </tr>\n",
       "    <tr>\n",
       "      <th>521</th>\n",
       "      <td>Spiced Pita Toasts</td>\n",
       "      <td>3.750</td>\n",
       "      <td>21.0</td>\n",
       "      <td>0.0</td>\n",
       "      <td>1.0</td>\n",
       "      <td>38.0</td>\n",
       "      <td>0.0</td>\n",
       "      <td>0.0</td>\n",
       "      <td>0.0</td>\n",
       "      <td>0.0</td>\n",
       "      <td>...</td>\n",
       "      <td>0.0</td>\n",
       "      <td>0.0</td>\n",
       "      <td>0.0</td>\n",
       "      <td>0.0</td>\n",
       "      <td>0.0</td>\n",
       "      <td>0.0</td>\n",
       "      <td>0.0</td>\n",
       "      <td>0.0</td>\n",
       "      <td>0.0</td>\n",
       "      <td>0.0</td>\n",
       "    </tr>\n",
       "    <tr>\n",
       "      <th>601</th>\n",
       "      <td>Orange Balsamic Glaze</td>\n",
       "      <td>3.750</td>\n",
       "      <td>194.0</td>\n",
       "      <td>2.0</td>\n",
       "      <td>3.0</td>\n",
       "      <td>697.0</td>\n",
       "      <td>0.0</td>\n",
       "      <td>0.0</td>\n",
       "      <td>0.0</td>\n",
       "      <td>0.0</td>\n",
       "      <td>...</td>\n",
       "      <td>0.0</td>\n",
       "      <td>0.0</td>\n",
       "      <td>0.0</td>\n",
       "      <td>0.0</td>\n",
       "      <td>0.0</td>\n",
       "      <td>0.0</td>\n",
       "      <td>0.0</td>\n",
       "      <td>0.0</td>\n",
       "      <td>0.0</td>\n",
       "      <td>0.0</td>\n",
       "    </tr>\n",
       "    <tr>\n",
       "      <th>717</th>\n",
       "      <td>Garlic Baguette Crumbs</td>\n",
       "      <td>0.000</td>\n",
       "      <td>95.0</td>\n",
       "      <td>1.0</td>\n",
       "      <td>7.0</td>\n",
       "      <td>103.0</td>\n",
       "      <td>0.0</td>\n",
       "      <td>0.0</td>\n",
       "      <td>0.0</td>\n",
       "      <td>0.0</td>\n",
       "      <td>...</td>\n",
       "      <td>0.0</td>\n",
       "      <td>0.0</td>\n",
       "      <td>0.0</td>\n",
       "      <td>0.0</td>\n",
       "      <td>0.0</td>\n",
       "      <td>0.0</td>\n",
       "      <td>0.0</td>\n",
       "      <td>0.0</td>\n",
       "      <td>0.0</td>\n",
       "      <td>0.0</td>\n",
       "    </tr>\n",
       "    <tr>\n",
       "      <th>...</th>\n",
       "      <td>...</td>\n",
       "      <td>...</td>\n",
       "      <td>...</td>\n",
       "      <td>...</td>\n",
       "      <td>...</td>\n",
       "      <td>...</td>\n",
       "      <td>...</td>\n",
       "      <td>...</td>\n",
       "      <td>...</td>\n",
       "      <td>...</td>\n",
       "      <td>...</td>\n",
       "      <td>...</td>\n",
       "      <td>...</td>\n",
       "      <td>...</td>\n",
       "      <td>...</td>\n",
       "      <td>...</td>\n",
       "      <td>...</td>\n",
       "      <td>...</td>\n",
       "      <td>...</td>\n",
       "      <td>...</td>\n",
       "      <td>...</td>\n",
       "    </tr>\n",
       "    <tr>\n",
       "      <th>20039</th>\n",
       "      <td>Cauliflower Purée</td>\n",
       "      <td>3.125</td>\n",
       "      <td>364.0</td>\n",
       "      <td>11.0</td>\n",
       "      <td>28.0</td>\n",
       "      <td>642.0</td>\n",
       "      <td>0.0</td>\n",
       "      <td>0.0</td>\n",
       "      <td>0.0</td>\n",
       "      <td>0.0</td>\n",
       "      <td>...</td>\n",
       "      <td>0.0</td>\n",
       "      <td>0.0</td>\n",
       "      <td>0.0</td>\n",
       "      <td>0.0</td>\n",
       "      <td>0.0</td>\n",
       "      <td>0.0</td>\n",
       "      <td>0.0</td>\n",
       "      <td>0.0</td>\n",
       "      <td>0.0</td>\n",
       "      <td>0.0</td>\n",
       "    </tr>\n",
       "    <tr>\n",
       "      <th>20041</th>\n",
       "      <td>Chicken with White Wine and Herbs</td>\n",
       "      <td>2.500</td>\n",
       "      <td>843.0</td>\n",
       "      <td>59.0</td>\n",
       "      <td>59.0</td>\n",
       "      <td>351.0</td>\n",
       "      <td>0.0</td>\n",
       "      <td>0.0</td>\n",
       "      <td>0.0</td>\n",
       "      <td>0.0</td>\n",
       "      <td>...</td>\n",
       "      <td>0.0</td>\n",
       "      <td>0.0</td>\n",
       "      <td>0.0</td>\n",
       "      <td>0.0</td>\n",
       "      <td>0.0</td>\n",
       "      <td>0.0</td>\n",
       "      <td>0.0</td>\n",
       "      <td>0.0</td>\n",
       "      <td>0.0</td>\n",
       "      <td>0.0</td>\n",
       "    </tr>\n",
       "    <tr>\n",
       "      <th>20042</th>\n",
       "      <td>Date Purée</td>\n",
       "      <td>2.500</td>\n",
       "      <td>NaN</td>\n",
       "      <td>NaN</td>\n",
       "      <td>NaN</td>\n",
       "      <td>NaN</td>\n",
       "      <td>0.0</td>\n",
       "      <td>0.0</td>\n",
       "      <td>0.0</td>\n",
       "      <td>0.0</td>\n",
       "      <td>...</td>\n",
       "      <td>0.0</td>\n",
       "      <td>0.0</td>\n",
       "      <td>0.0</td>\n",
       "      <td>0.0</td>\n",
       "      <td>0.0</td>\n",
       "      <td>0.0</td>\n",
       "      <td>0.0</td>\n",
       "      <td>0.0</td>\n",
       "      <td>0.0</td>\n",
       "      <td>0.0</td>\n",
       "    </tr>\n",
       "    <tr>\n",
       "      <th>20045</th>\n",
       "      <td>Blueberry Compote</td>\n",
       "      <td>3.750</td>\n",
       "      <td>182.0</td>\n",
       "      <td>1.0</td>\n",
       "      <td>0.0</td>\n",
       "      <td>3.0</td>\n",
       "      <td>0.0</td>\n",
       "      <td>0.0</td>\n",
       "      <td>0.0</td>\n",
       "      <td>0.0</td>\n",
       "      <td>...</td>\n",
       "      <td>0.0</td>\n",
       "      <td>0.0</td>\n",
       "      <td>0.0</td>\n",
       "      <td>0.0</td>\n",
       "      <td>0.0</td>\n",
       "      <td>0.0</td>\n",
       "      <td>0.0</td>\n",
       "      <td>0.0</td>\n",
       "      <td>0.0</td>\n",
       "      <td>0.0</td>\n",
       "    </tr>\n",
       "    <tr>\n",
       "      <th>20047</th>\n",
       "      <td>Parmesan Puffs</td>\n",
       "      <td>3.125</td>\n",
       "      <td>28.0</td>\n",
       "      <td>2.0</td>\n",
       "      <td>2.0</td>\n",
       "      <td>64.0</td>\n",
       "      <td>0.0</td>\n",
       "      <td>0.0</td>\n",
       "      <td>0.0</td>\n",
       "      <td>0.0</td>\n",
       "      <td>...</td>\n",
       "      <td>0.0</td>\n",
       "      <td>0.0</td>\n",
       "      <td>0.0</td>\n",
       "      <td>0.0</td>\n",
       "      <td>0.0</td>\n",
       "      <td>0.0</td>\n",
       "      <td>0.0</td>\n",
       "      <td>0.0</td>\n",
       "      <td>0.0</td>\n",
       "      <td>0.0</td>\n",
       "    </tr>\n",
       "  </tbody>\n",
       "</table>\n",
       "<p>2316 rows × 680 columns</p>\n",
       "</div>"
      ],
      "text/plain": [
       "                                    title  rating  calories  protein   fat  \\\n",
       "229           Blackberry-Raspberry Sauce    0.000     172.0      2.0   1.0   \n",
       "340               Seasoned Nori Wrappers    5.000       NaN      NaN   NaN   \n",
       "521                   Spiced Pita Toasts    3.750      21.0      0.0   1.0   \n",
       "601                Orange Balsamic Glaze    3.750     194.0      2.0   3.0   \n",
       "717               Garlic Baguette Crumbs    0.000      95.0      1.0   7.0   \n",
       "...                                   ...     ...       ...      ...   ...   \n",
       "20039                  Cauliflower Purée    3.125     364.0     11.0  28.0   \n",
       "20041  Chicken with White Wine and Herbs    2.500     843.0     59.0  59.0   \n",
       "20042                         Date Purée    2.500       NaN      NaN   NaN   \n",
       "20045                  Blueberry Compote    3.750     182.0      1.0   0.0   \n",
       "20047                     Parmesan Puffs    3.125      28.0      2.0   2.0   \n",
       "\n",
       "       sodium  #cakeweek  #wasteless  22-minute meals  3-ingredient recipes  \\\n",
       "229      14.0        0.0         0.0              0.0                   0.0   \n",
       "340       NaN        0.0         0.0              0.0                   0.0   \n",
       "521      38.0        0.0         0.0              0.0                   0.0   \n",
       "601     697.0        0.0         0.0              0.0                   0.0   \n",
       "717     103.0        0.0         0.0              0.0                   0.0   \n",
       "...       ...        ...         ...              ...                   ...   \n",
       "20039   642.0        0.0         0.0              0.0                   0.0   \n",
       "20041   351.0        0.0         0.0              0.0                   0.0   \n",
       "20042     NaN        0.0         0.0              0.0                   0.0   \n",
       "20045     3.0        0.0         0.0              0.0                   0.0   \n",
       "20047    64.0        0.0         0.0              0.0                   0.0   \n",
       "\n",
       "       ...  yellow squash  yogurt  yonkers  yuca  zucchini  cookbooks  \\\n",
       "229    ...            0.0     0.0      0.0   0.0       0.0        0.0   \n",
       "340    ...            0.0     0.0      0.0   0.0       0.0        0.0   \n",
       "521    ...            0.0     0.0      0.0   0.0       0.0        0.0   \n",
       "601    ...            0.0     0.0      0.0   0.0       0.0        0.0   \n",
       "717    ...            0.0     0.0      0.0   0.0       0.0        0.0   \n",
       "...    ...            ...     ...      ...   ...       ...        ...   \n",
       "20039  ...            0.0     0.0      0.0   0.0       0.0        0.0   \n",
       "20041  ...            0.0     0.0      0.0   0.0       0.0        0.0   \n",
       "20042  ...            0.0     0.0      0.0   0.0       0.0        0.0   \n",
       "20045  ...            0.0     0.0      0.0   0.0       0.0        0.0   \n",
       "20047  ...            0.0     0.0      0.0   0.0       0.0        0.0   \n",
       "\n",
       "       leftovers  snack  snack week  turkey  \n",
       "229          0.0    0.0         0.0     0.0  \n",
       "340          0.0    0.0         0.0     0.0  \n",
       "521          0.0    0.0         0.0     0.0  \n",
       "601          0.0    0.0         0.0     0.0  \n",
       "717          0.0    0.0         0.0     0.0  \n",
       "...          ...    ...         ...     ...  \n",
       "20039        0.0    0.0         0.0     0.0  \n",
       "20041        0.0    0.0         0.0     0.0  \n",
       "20042        0.0    0.0         0.0     0.0  \n",
       "20045        0.0    0.0         0.0     0.0  \n",
       "20047        0.0    0.0         0.0     0.0  \n",
       "\n",
       "[2316 rows x 680 columns]"
      ]
     },
     "execution_count": 15,
     "metadata": {},
     "output_type": "execute_result"
    }
   ],
   "source": [
    "df[df.duplicated(subset=['title'])]"
   ]
  },
  {
   "cell_type": "code",
   "execution_count": 16,
   "metadata": {},
   "outputs": [
    {
     "data": {
      "text/plain": [
       "True"
      ]
     },
     "execution_count": 16,
     "metadata": {},
     "output_type": "execute_result"
    }
   ],
   "source": [
    "df['title'].isin(['Date Purée ']).any()"
   ]
  },
  {
   "cell_type": "code",
   "execution_count": 17,
   "metadata": {},
   "outputs": [
    {
     "data": {
      "text/html": [
       "<div>\n",
       "<style scoped>\n",
       "    .dataframe tbody tr th:only-of-type {\n",
       "        vertical-align: middle;\n",
       "    }\n",
       "\n",
       "    .dataframe tbody tr th {\n",
       "        vertical-align: top;\n",
       "    }\n",
       "\n",
       "    .dataframe thead th {\n",
       "        text-align: right;\n",
       "    }\n",
       "</style>\n",
       "<table border=\"1\" class=\"dataframe\">\n",
       "  <thead>\n",
       "    <tr style=\"text-align: right;\">\n",
       "      <th></th>\n",
       "      <th>title</th>\n",
       "      <th>rating</th>\n",
       "      <th>calories</th>\n",
       "      <th>protein</th>\n",
       "      <th>fat</th>\n",
       "      <th>sodium</th>\n",
       "      <th>#cakeweek</th>\n",
       "      <th>#wasteless</th>\n",
       "      <th>22-minute meals</th>\n",
       "      <th>3-ingredient recipes</th>\n",
       "      <th>...</th>\n",
       "      <th>yellow squash</th>\n",
       "      <th>yogurt</th>\n",
       "      <th>yonkers</th>\n",
       "      <th>yuca</th>\n",
       "      <th>zucchini</th>\n",
       "      <th>cookbooks</th>\n",
       "      <th>leftovers</th>\n",
       "      <th>snack</th>\n",
       "      <th>snack week</th>\n",
       "      <th>turkey</th>\n",
       "    </tr>\n",
       "  </thead>\n",
       "  <tbody>\n",
       "    <tr>\n",
       "      <th>18783</th>\n",
       "      <td>Date Purée</td>\n",
       "      <td>2.5</td>\n",
       "      <td>NaN</td>\n",
       "      <td>NaN</td>\n",
       "      <td>NaN</td>\n",
       "      <td>NaN</td>\n",
       "      <td>0.0</td>\n",
       "      <td>0.0</td>\n",
       "      <td>0.0</td>\n",
       "      <td>0.0</td>\n",
       "      <td>...</td>\n",
       "      <td>0.0</td>\n",
       "      <td>0.0</td>\n",
       "      <td>0.0</td>\n",
       "      <td>0.0</td>\n",
       "      <td>0.0</td>\n",
       "      <td>0.0</td>\n",
       "      <td>0.0</td>\n",
       "      <td>0.0</td>\n",
       "      <td>0.0</td>\n",
       "      <td>0.0</td>\n",
       "    </tr>\n",
       "    <tr>\n",
       "      <th>20042</th>\n",
       "      <td>Date Purée</td>\n",
       "      <td>2.5</td>\n",
       "      <td>NaN</td>\n",
       "      <td>NaN</td>\n",
       "      <td>NaN</td>\n",
       "      <td>NaN</td>\n",
       "      <td>0.0</td>\n",
       "      <td>0.0</td>\n",
       "      <td>0.0</td>\n",
       "      <td>0.0</td>\n",
       "      <td>...</td>\n",
       "      <td>0.0</td>\n",
       "      <td>0.0</td>\n",
       "      <td>0.0</td>\n",
       "      <td>0.0</td>\n",
       "      <td>0.0</td>\n",
       "      <td>0.0</td>\n",
       "      <td>0.0</td>\n",
       "      <td>0.0</td>\n",
       "      <td>0.0</td>\n",
       "      <td>0.0</td>\n",
       "    </tr>\n",
       "  </tbody>\n",
       "</table>\n",
       "<p>2 rows × 680 columns</p>\n",
       "</div>"
      ],
      "text/plain": [
       "             title  rating  calories  protein  fat  sodium  #cakeweek  \\\n",
       "18783  Date Purée      2.5       NaN      NaN  NaN     NaN        0.0   \n",
       "20042  Date Purée      2.5       NaN      NaN  NaN     NaN        0.0   \n",
       "\n",
       "       #wasteless  22-minute meals  3-ingredient recipes  ...  yellow squash  \\\n",
       "18783         0.0              0.0                   0.0  ...            0.0   \n",
       "20042         0.0              0.0                   0.0  ...            0.0   \n",
       "\n",
       "       yogurt  yonkers  yuca  zucchini  cookbooks  leftovers  snack  \\\n",
       "18783     0.0      0.0   0.0       0.0        0.0        0.0    0.0   \n",
       "20042     0.0      0.0   0.0       0.0        0.0        0.0    0.0   \n",
       "\n",
       "       snack week  turkey  \n",
       "18783         0.0     0.0  \n",
       "20042         0.0     0.0  \n",
       "\n",
       "[2 rows x 680 columns]"
      ]
     },
     "execution_count": 17,
     "metadata": {},
     "output_type": "execute_result"
    }
   ],
   "source": [
    "df.loc[df['title'] == 'Date Purée ']"
   ]
  },
  {
   "cell_type": "code",
   "execution_count": 18,
   "metadata": {},
   "outputs": [
    {
     "data": {
      "text/plain": [
       "4.375    8019\n",
       "3.750    5169\n",
       "5.000    2719\n",
       "0.000    1836\n",
       "3.125    1489\n",
       "2.500     532\n",
       "1.250     164\n",
       "1.875     124\n",
       "Name: rating, dtype: int64"
      ]
     },
     "execution_count": 18,
     "metadata": {},
     "output_type": "execute_result"
    }
   ],
   "source": [
    "df['rating'].value_counts()"
   ]
  },
  {
   "cell_type": "code",
   "execution_count": 19,
   "metadata": {},
   "outputs": [
    {
     "data": {
      "text/plain": [
       "4.375    0.399910\n",
       "3.750    0.257780\n",
       "5.000    0.135597\n",
       "0.000    0.091562\n",
       "3.125    0.074257\n",
       "2.500    0.026531\n",
       "1.250    0.008179\n",
       "1.875    0.006184\n",
       "Name: rating, dtype: float64"
      ]
     },
     "execution_count": 19,
     "metadata": {},
     "output_type": "execute_result"
    }
   ],
   "source": [
    "df['rating'].value_counts(normalize=True)"
   ]
  },
  {
   "cell_type": "markdown",
   "metadata": {},
   "source": [
    "#### 1.1.2. Получить описание ингредиентов"
   ]
  },
  {
   "cell_type": "markdown",
   "metadata": {},
   "source": [
    "##### 1.1.2.1 С сайта API"
   ]
  },
  {
   "cell_type": "markdown",
   "metadata": {},
   "source": [
    "- https://fdc.nal.usda.gov/download-datasets.html\n",
    "- https://www.ars.usda.gov/northeast-area/beltsville-md-bhnrc/beltsville-human-nutrition-research-center/food-surveys-research-group/docs/fndds-download-databases/"
   ]
  },
  {
   "cell_type": "code",
   "execution_count": 28,
   "metadata": {},
   "outputs": [
    {
     "name": "stdout",
     "output_type": "stream",
     "text": [
      "['FNDDS Nutrient Values', 'Variable Descriptions']\n"
     ]
    }
   ],
   "source": [
    "# xl = pd.ExcelFile(\"./my_data/2019-2020 FNDDS At A Glance - FNDDS Ingredients.xlsx\")\n",
    "xl = pd.ExcelFile(\"./my_data/2019-2020 FNDDS At A Glance - FNDDS Nutrient Values.xlsx\")\n",
    "print(xl.sheet_names) # какие таблицы загрузились"
   ]
  },
  {
   "cell_type": "code",
   "execution_count": 29,
   "metadata": {},
   "outputs": [
    {
     "data": {
      "text/html": [
       "<div>\n",
       "<style scoped>\n",
       "    .dataframe tbody tr th:only-of-type {\n",
       "        vertical-align: middle;\n",
       "    }\n",
       "\n",
       "    .dataframe tbody tr th {\n",
       "        vertical-align: top;\n",
       "    }\n",
       "\n",
       "    .dataframe thead th {\n",
       "        text-align: right;\n",
       "    }\n",
       "</style>\n",
       "<table border=\"1\" class=\"dataframe\">\n",
       "  <thead>\n",
       "    <tr style=\"text-align: right;\">\n",
       "      <th></th>\n",
       "      <th>Food code</th>\n",
       "      <th>Main food description</th>\n",
       "      <th>WWEIA Category number</th>\n",
       "      <th>WWEIA Category description</th>\n",
       "      <th>Energy (kcal)</th>\n",
       "      <th>Protein (g)</th>\n",
       "      <th>Carbohydrate (g)</th>\n",
       "      <th>Sugars, total\\n(g)</th>\n",
       "      <th>Fiber, total dietary (g)</th>\n",
       "      <th>Total Fat (g)</th>\n",
       "      <th>...</th>\n",
       "      <th>20:1\\n(g)</th>\n",
       "      <th>22:1\\n(g)</th>\n",
       "      <th>18:2\\n(g)</th>\n",
       "      <th>18:3\\n(g)</th>\n",
       "      <th>18:4\\n(g)</th>\n",
       "      <th>20:4\\n(g)</th>\n",
       "      <th>20:5 n-3\\n(g)</th>\n",
       "      <th>22:5 n-3\\n(g)</th>\n",
       "      <th>22:6 n-3\\n(g)</th>\n",
       "      <th>Water\\n(g)</th>\n",
       "    </tr>\n",
       "  </thead>\n",
       "  <tbody>\n",
       "    <tr>\n",
       "      <th>0</th>\n",
       "      <td>11000000</td>\n",
       "      <td>Milk, human</td>\n",
       "      <td>9602</td>\n",
       "      <td>Human milk</td>\n",
       "      <td>70</td>\n",
       "      <td>1.03</td>\n",
       "      <td>6.89</td>\n",
       "      <td>6.89</td>\n",
       "      <td>0.0</td>\n",
       "      <td>4.38</td>\n",
       "      <td>...</td>\n",
       "      <td>0.040</td>\n",
       "      <td>0.0</td>\n",
       "      <td>0.374</td>\n",
       "      <td>0.052</td>\n",
       "      <td>0.0</td>\n",
       "      <td>0.026</td>\n",
       "      <td>0.000</td>\n",
       "      <td>0.000</td>\n",
       "      <td>0.0</td>\n",
       "      <td>87.50</td>\n",
       "    </tr>\n",
       "    <tr>\n",
       "      <th>1</th>\n",
       "      <td>11100000</td>\n",
       "      <td>Milk, NFS</td>\n",
       "      <td>1004</td>\n",
       "      <td>Milk, reduced fat</td>\n",
       "      <td>52</td>\n",
       "      <td>3.33</td>\n",
       "      <td>4.83</td>\n",
       "      <td>4.88</td>\n",
       "      <td>0.0</td>\n",
       "      <td>2.14</td>\n",
       "      <td>...</td>\n",
       "      <td>0.002</td>\n",
       "      <td>0.0</td>\n",
       "      <td>0.074</td>\n",
       "      <td>0.008</td>\n",
       "      <td>0.0</td>\n",
       "      <td>0.003</td>\n",
       "      <td>0.000</td>\n",
       "      <td>0.001</td>\n",
       "      <td>0.0</td>\n",
       "      <td>88.92</td>\n",
       "    </tr>\n",
       "    <tr>\n",
       "      <th>2</th>\n",
       "      <td>11111000</td>\n",
       "      <td>Milk, whole</td>\n",
       "      <td>1002</td>\n",
       "      <td>Milk, whole</td>\n",
       "      <td>61</td>\n",
       "      <td>3.27</td>\n",
       "      <td>4.63</td>\n",
       "      <td>4.81</td>\n",
       "      <td>0.0</td>\n",
       "      <td>3.20</td>\n",
       "      <td>...</td>\n",
       "      <td>0.004</td>\n",
       "      <td>0.0</td>\n",
       "      <td>0.115</td>\n",
       "      <td>0.013</td>\n",
       "      <td>0.0</td>\n",
       "      <td>0.004</td>\n",
       "      <td>0.001</td>\n",
       "      <td>0.002</td>\n",
       "      <td>0.0</td>\n",
       "      <td>88.10</td>\n",
       "    </tr>\n",
       "  </tbody>\n",
       "</table>\n",
       "<p>3 rows × 69 columns</p>\n",
       "</div>"
      ],
      "text/plain": [
       "   Food code Main food description  WWEIA Category number  \\\n",
       "0   11000000           Milk, human                   9602   \n",
       "1   11100000             Milk, NFS                   1004   \n",
       "2   11111000           Milk, whole                   1002   \n",
       "\n",
       "  WWEIA Category description  Energy (kcal)  Protein (g)  Carbohydrate (g)  \\\n",
       "0                 Human milk             70         1.03              6.89   \n",
       "1          Milk, reduced fat             52         3.33              4.83   \n",
       "2                Milk, whole             61         3.27              4.63   \n",
       "\n",
       "   Sugars, total\\n(g)  Fiber, total dietary (g)  Total Fat (g)  ...  \\\n",
       "0                6.89                       0.0           4.38  ...   \n",
       "1                4.88                       0.0           2.14  ...   \n",
       "2                4.81                       0.0           3.20  ...   \n",
       "\n",
       "   20:1\\n(g)  22:1\\n(g)  18:2\\n(g)  18:3\\n(g)  18:4\\n(g)  20:4\\n(g)  \\\n",
       "0      0.040        0.0      0.374      0.052        0.0      0.026   \n",
       "1      0.002        0.0      0.074      0.008        0.0      0.003   \n",
       "2      0.004        0.0      0.115      0.013        0.0      0.004   \n",
       "\n",
       "   20:5 n-3\\n(g)  22:5 n-3\\n(g)  22:6 n-3\\n(g)  Water\\n(g)  \n",
       "0          0.000          0.000            0.0       87.50  \n",
       "1          0.000          0.001            0.0       88.92  \n",
       "2          0.001          0.002            0.0       88.10  \n",
       "\n",
       "[3 rows x 69 columns]"
      ]
     },
     "execution_count": 29,
     "metadata": {},
     "output_type": "execute_result"
    }
   ],
   "source": [
    "name_tables = 'FNDDS Nutrient Values' # 'FNDDS Ingredients'\n",
    "df_xl = xl.parse(name_tables, header=1)\n",
    "df_xl.head(3)"
   ]
  },
  {
   "cell_type": "code",
   "execution_count": 30,
   "metadata": {},
   "outputs": [
    {
     "data": {
      "text/html": [
       "<div>\n",
       "<style scoped>\n",
       "    .dataframe tbody tr th:only-of-type {\n",
       "        vertical-align: middle;\n",
       "    }\n",
       "\n",
       "    .dataframe tbody tr th {\n",
       "        vertical-align: top;\n",
       "    }\n",
       "\n",
       "    .dataframe thead th {\n",
       "        text-align: right;\n",
       "    }\n",
       "</style>\n",
       "<table border=\"1\" class=\"dataframe\">\n",
       "  <thead>\n",
       "    <tr style=\"text-align: right;\">\n",
       "      <th></th>\n",
       "      <th>Main food description</th>\n",
       "    </tr>\n",
       "  </thead>\n",
       "  <tbody>\n",
       "    <tr>\n",
       "      <th>0</th>\n",
       "      <td>Milk, human</td>\n",
       "    </tr>\n",
       "    <tr>\n",
       "      <th>1</th>\n",
       "      <td>Milk, NFS</td>\n",
       "    </tr>\n",
       "    <tr>\n",
       "      <th>2</th>\n",
       "      <td>Milk, whole</td>\n",
       "    </tr>\n",
       "  </tbody>\n",
       "</table>\n",
       "</div>"
      ],
      "text/plain": [
       "  Main food description\n",
       "0           Milk, human\n",
       "1             Milk, NFS\n",
       "2           Milk, whole"
      ]
     },
     "execution_count": 30,
     "metadata": {},
     "output_type": "execute_result"
    }
   ],
   "source": [
    "# Столбец с наиболее подходящим описанием ингредиентов\n",
    "name_column = 'Main food description' # 'Ingredient description'\n",
    "df_xl = df_xl[[name_column]] # в датасете один столбец\n",
    "df_xl.head(3)"
   ]
  },
  {
   "cell_type": "code",
   "execution_count": 31,
   "metadata": {},
   "outputs": [
    {
     "data": {
      "text/plain": [
       "5624"
      ]
     },
     "execution_count": 31,
     "metadata": {},
     "output_type": "execute_result"
    }
   ],
   "source": [
    "len(df_xl)"
   ]
  },
  {
   "cell_type": "code",
   "execution_count": 32,
   "metadata": {},
   "outputs": [],
   "source": [
    "df_xl.loc[len(df_xl), 'Main food description'] = \"saffron\"\n",
    "df_xl.loc[len(df_xl), 'Main food description'] = \"chile pepper\""
   ]
  },
  {
   "cell_type": "code",
   "execution_count": 33,
   "metadata": {},
   "outputs": [
    {
     "data": {
      "text/html": [
       "<div>\n",
       "<style scoped>\n",
       "    .dataframe tbody tr th:only-of-type {\n",
       "        vertical-align: middle;\n",
       "    }\n",
       "\n",
       "    .dataframe tbody tr th {\n",
       "        vertical-align: top;\n",
       "    }\n",
       "\n",
       "    .dataframe thead th {\n",
       "        text-align: right;\n",
       "    }\n",
       "</style>\n",
       "<table border=\"1\" class=\"dataframe\">\n",
       "  <thead>\n",
       "    <tr style=\"text-align: right;\">\n",
       "      <th></th>\n",
       "      <th>Main food description</th>\n",
       "    </tr>\n",
       "  </thead>\n",
       "  <tbody>\n",
       "    <tr>\n",
       "      <th>0</th>\n",
       "      <td>Milk, human</td>\n",
       "    </tr>\n",
       "    <tr>\n",
       "      <th>1</th>\n",
       "      <td>Milk, NFS</td>\n",
       "    </tr>\n",
       "    <tr>\n",
       "      <th>2</th>\n",
       "      <td>Milk, whole</td>\n",
       "    </tr>\n",
       "    <tr>\n",
       "      <th>3</th>\n",
       "      <td>Milk, reduced fat (2%)</td>\n",
       "    </tr>\n",
       "    <tr>\n",
       "      <th>4</th>\n",
       "      <td>Milk, low fat (1%)</td>\n",
       "    </tr>\n",
       "    <tr>\n",
       "      <th>...</th>\n",
       "      <td>...</td>\n",
       "    </tr>\n",
       "    <tr>\n",
       "      <th>5621</th>\n",
       "      <td>Vegetables as ingredient in curry</td>\n",
       "    </tr>\n",
       "    <tr>\n",
       "      <th>5622</th>\n",
       "      <td>Sauce as ingredient in hamburgers</td>\n",
       "    </tr>\n",
       "    <tr>\n",
       "      <th>5623</th>\n",
       "      <td>Industrial oil as ingredient in food</td>\n",
       "    </tr>\n",
       "    <tr>\n",
       "      <th>5624</th>\n",
       "      <td>saffron</td>\n",
       "    </tr>\n",
       "    <tr>\n",
       "      <th>5625</th>\n",
       "      <td>chile pepper</td>\n",
       "    </tr>\n",
       "  </tbody>\n",
       "</table>\n",
       "<p>5626 rows × 1 columns</p>\n",
       "</div>"
      ],
      "text/plain": [
       "                     Main food description\n",
       "0                              Milk, human\n",
       "1                                Milk, NFS\n",
       "2                              Milk, whole\n",
       "3                   Milk, reduced fat (2%)\n",
       "4                       Milk, low fat (1%)\n",
       "...                                    ...\n",
       "5621     Vegetables as ingredient in curry\n",
       "5622     Sauce as ingredient in hamburgers\n",
       "5623  Industrial oil as ingredient in food\n",
       "5624                               saffron\n",
       "5625                          chile pepper\n",
       "\n",
       "[5626 rows x 1 columns]"
      ]
     },
     "execution_count": 33,
     "metadata": {},
     "output_type": "execute_result"
    }
   ],
   "source": [
    "df_xl"
   ]
  },
  {
   "cell_type": "markdown",
   "metadata": {},
   "source": [
    "##### 1.1.2.2 Pir-to-Pir"
   ]
  },
  {
   "cell_type": "markdown",
   "metadata": {},
   "source": [
    "400 с лишним ингредиентов  от pir-to-pir"
   ]
  },
  {
   "cell_type": "code",
   "execution_count": 34,
   "metadata": {},
   "outputs": [],
   "source": [
    "# 400 с лишним ингредиентов  от pir-to-pir\n",
    "# ----------------------------------------\n",
    "df_xl = pd.read_csv('./my_data/list_ingr.csv')"
   ]
  },
  {
   "cell_type": "markdown",
   "metadata": {},
   "source": [
    "#### 1.1.3. Создание и применение пайплайна препроцессинга"
   ]
  },
  {
   "cell_type": "code",
   "execution_count": 35,
   "metadata": {},
   "outputs": [],
   "source": [
    "preprocessing = Pipeline([\n",
    "    ('feature_extractor', FeatureExtractor(\n",
    "        df_xl, # датафрейм с одной колонкой, содержащей описание ингредиентов\n",
    "        ['title','rating'], # список колонок которые должны остаться после фильтрации\n",
    "        clear=False, # флаг, управляющий очисткой фильтра\n",
    "        strong=True, # флаг, управляющий типом фильтрации столбцов\n",
    "        select_imp=False # True - применить алгоритм RFECV для отбора наиболее значимых признаков\n",
    "        )), \n",
    "    ('clear_dataset', DatasetCleaner(\n",
    "        'rating', # имя столбца таргета (y)\n",
    "        'title', # список игнорируемых при некторых операциях столбцов\n",
    "        zero_del=False # Удаляет Строки где таргет равен 0\n",
    "        )),\n",
    "    ])\n",
    "\n",
    "X, y, title = preprocessing.fit_transform(df)"
   ]
  },
  {
   "cell_type": "code",
   "execution_count": 36,
   "metadata": {},
   "outputs": [
    {
     "name": "stdout",
     "output_type": "stream",
     "text": [
      "Models saved!\n"
     ]
    }
   ],
   "source": [
    "# Создать новый, очищенный датасет для удобства\n",
    "df_fine = pd.concat([title, X, y], axis=1)\n",
    "# Сохранить очищенный датасет\n",
    "df_fine.to_csv('./data/df_fine.csv', index=False)\n",
    "# Сохранить список имен признаков\n",
    "saving_model(X.columns.to_list(), './data/feature.d15')"
   ]
  },
  {
   "cell_type": "code",
   "execution_count": 37,
   "metadata": {},
   "outputs": [
    {
     "name": "stdout",
     "output_type": "stream",
     "text": [
      "X: (18210, 409) \n",
      "y: (18210,) \n",
      "title: (18210,)\n"
     ]
    }
   ],
   "source": [
    "print(\"X:\", X.shape, \"\\ny:\", y.shape, \"\\ntitle:\", title.shape)"
   ]
  },
  {
   "cell_type": "code",
   "execution_count": 38,
   "metadata": {},
   "outputs": [
    {
     "data": {
      "text/plain": [
       "4.375    0.403844\n",
       "3.750    0.260901\n",
       "5.000    0.130588\n",
       "0.000    0.090170\n",
       "3.125    0.074355\n",
       "2.500    0.026359\n",
       "1.250    0.007853\n",
       "1.875    0.005931\n",
       "Name: rating, dtype: float64"
      ]
     },
     "execution_count": 38,
     "metadata": {},
     "output_type": "execute_result"
    }
   ],
   "source": [
    "y.value_counts(normalize=True)"
   ]
  },
  {
   "cell_type": "code",
   "execution_count": 39,
   "metadata": {},
   "outputs": [
    {
     "data": {
      "text/html": [
       "<div>\n",
       "<style scoped>\n",
       "    .dataframe tbody tr th:only-of-type {\n",
       "        vertical-align: middle;\n",
       "    }\n",
       "\n",
       "    .dataframe tbody tr th {\n",
       "        vertical-align: top;\n",
       "    }\n",
       "\n",
       "    .dataframe thead th {\n",
       "        text-align: right;\n",
       "    }\n",
       "</style>\n",
       "<table border=\"1\" class=\"dataframe\">\n",
       "  <thead>\n",
       "    <tr style=\"text-align: right;\">\n",
       "      <th></th>\n",
       "      <th>count</th>\n",
       "      <th>mean</th>\n",
       "      <th>std</th>\n",
       "      <th>min</th>\n",
       "      <th>25%</th>\n",
       "      <th>50%</th>\n",
       "      <th>75%</th>\n",
       "      <th>max</th>\n",
       "    </tr>\n",
       "  </thead>\n",
       "  <tbody>\n",
       "    <tr>\n",
       "      <th>almond</th>\n",
       "      <td>18210.0</td>\n",
       "      <td>0.030093</td>\n",
       "      <td>0.170849</td>\n",
       "      <td>0.0</td>\n",
       "      <td>0.0</td>\n",
       "      <td>0.0</td>\n",
       "      <td>0.0</td>\n",
       "      <td>1.0</td>\n",
       "    </tr>\n",
       "    <tr>\n",
       "      <th>amaretto</th>\n",
       "      <td>18210.0</td>\n",
       "      <td>0.002032</td>\n",
       "      <td>0.045031</td>\n",
       "      <td>0.0</td>\n",
       "      <td>0.0</td>\n",
       "      <td>0.0</td>\n",
       "      <td>0.0</td>\n",
       "      <td>1.0</td>\n",
       "    </tr>\n",
       "    <tr>\n",
       "      <th>anchovy</th>\n",
       "      <td>18210.0</td>\n",
       "      <td>0.002361</td>\n",
       "      <td>0.048538</td>\n",
       "      <td>0.0</td>\n",
       "      <td>0.0</td>\n",
       "      <td>0.0</td>\n",
       "      <td>0.0</td>\n",
       "      <td>1.0</td>\n",
       "    </tr>\n",
       "    <tr>\n",
       "      <th>anise</th>\n",
       "      <td>18210.0</td>\n",
       "      <td>0.005656</td>\n",
       "      <td>0.074997</td>\n",
       "      <td>0.0</td>\n",
       "      <td>0.0</td>\n",
       "      <td>0.0</td>\n",
       "      <td>0.0</td>\n",
       "      <td>1.0</td>\n",
       "    </tr>\n",
       "    <tr>\n",
       "      <th>anniversary</th>\n",
       "      <td>18210.0</td>\n",
       "      <td>0.006041</td>\n",
       "      <td>0.077489</td>\n",
       "      <td>0.0</td>\n",
       "      <td>0.0</td>\n",
       "      <td>0.0</td>\n",
       "      <td>0.0</td>\n",
       "      <td>1.0</td>\n",
       "    </tr>\n",
       "    <tr>\n",
       "      <th>...</th>\n",
       "      <td>...</td>\n",
       "      <td>...</td>\n",
       "      <td>...</td>\n",
       "      <td>...</td>\n",
       "      <td>...</td>\n",
       "      <td>...</td>\n",
       "      <td>...</td>\n",
       "      <td>...</td>\n",
       "    </tr>\n",
       "    <tr>\n",
       "      <th>green onion/scallion</th>\n",
       "      <td>18210.0</td>\n",
       "      <td>0.005986</td>\n",
       "      <td>0.077138</td>\n",
       "      <td>0.0</td>\n",
       "      <td>0.0</td>\n",
       "      <td>0.0</td>\n",
       "      <td>0.0</td>\n",
       "      <td>1.0</td>\n",
       "    </tr>\n",
       "    <tr>\n",
       "      <th>hominy/cornmeal/masa</th>\n",
       "      <td>18210.0</td>\n",
       "      <td>0.004338</td>\n",
       "      <td>0.065724</td>\n",
       "      <td>0.0</td>\n",
       "      <td>0.0</td>\n",
       "      <td>0.0</td>\n",
       "      <td>0.0</td>\n",
       "      <td>1.0</td>\n",
       "    </tr>\n",
       "    <tr>\n",
       "      <th>phyllo/puff pastry dough</th>\n",
       "      <td>18210.0</td>\n",
       "      <td>0.006809</td>\n",
       "      <td>0.082240</td>\n",
       "      <td>0.0</td>\n",
       "      <td>0.0</td>\n",
       "      <td>0.0</td>\n",
       "      <td>0.0</td>\n",
       "      <td>1.0</td>\n",
       "    </tr>\n",
       "    <tr>\n",
       "      <th>soufflé/meringue</th>\n",
       "      <td>18210.0</td>\n",
       "      <td>0.000165</td>\n",
       "      <td>0.012835</td>\n",
       "      <td>0.0</td>\n",
       "      <td>0.0</td>\n",
       "      <td>0.0</td>\n",
       "      <td>0.0</td>\n",
       "      <td>1.0</td>\n",
       "    </tr>\n",
       "    <tr>\n",
       "      <th>stuffing/dressing</th>\n",
       "      <td>18210.0</td>\n",
       "      <td>0.006096</td>\n",
       "      <td>0.077838</td>\n",
       "      <td>0.0</td>\n",
       "      <td>0.0</td>\n",
       "      <td>0.0</td>\n",
       "      <td>0.0</td>\n",
       "      <td>1.0</td>\n",
       "    </tr>\n",
       "  </tbody>\n",
       "</table>\n",
       "<p>409 rows × 8 columns</p>\n",
       "</div>"
      ],
      "text/plain": [
       "                            count      mean       std  min  25%  50%  75%  max\n",
       "almond                    18210.0  0.030093  0.170849  0.0  0.0  0.0  0.0  1.0\n",
       "amaretto                  18210.0  0.002032  0.045031  0.0  0.0  0.0  0.0  1.0\n",
       "anchovy                   18210.0  0.002361  0.048538  0.0  0.0  0.0  0.0  1.0\n",
       "anise                     18210.0  0.005656  0.074997  0.0  0.0  0.0  0.0  1.0\n",
       "anniversary               18210.0  0.006041  0.077489  0.0  0.0  0.0  0.0  1.0\n",
       "...                           ...       ...       ...  ...  ...  ...  ...  ...\n",
       "green onion/scallion      18210.0  0.005986  0.077138  0.0  0.0  0.0  0.0  1.0\n",
       "hominy/cornmeal/masa      18210.0  0.004338  0.065724  0.0  0.0  0.0  0.0  1.0\n",
       "phyllo/puff pastry dough  18210.0  0.006809  0.082240  0.0  0.0  0.0  0.0  1.0\n",
       "soufflé/meringue          18210.0  0.000165  0.012835  0.0  0.0  0.0  0.0  1.0\n",
       "stuffing/dressing         18210.0  0.006096  0.077838  0.0  0.0  0.0  0.0  1.0\n",
       "\n",
       "[409 rows x 8 columns]"
      ]
     },
     "execution_count": 39,
     "metadata": {},
     "output_type": "execute_result"
    }
   ],
   "source": [
    "X.describe().T"
   ]
  },
  {
   "cell_type": "code",
   "execution_count": 40,
   "metadata": {},
   "outputs": [
    {
     "data": {
      "text/plain": [
       "1.0"
      ]
     },
     "execution_count": 40,
     "metadata": {},
     "output_type": "execute_result"
    }
   ],
   "source": [
    "X.describe().T['max'].max()"
   ]
  },
  {
   "cell_type": "code",
   "execution_count": 41,
   "metadata": {},
   "outputs": [],
   "source": [
    "tvt = TrainValidationTest(X, y)\n",
    "X_train, X_valid, X_test, y_train, y_valid, y_test = tvt.get_TVT()"
   ]
  },
  {
   "cell_type": "code",
   "execution_count": 151,
   "metadata": {},
   "outputs": [],
   "source": [
    "# X_train, X_test, y_train, y_test = train_test_split(\n",
    "#     X, y, stratify=y, test_size=0.2, random_state=21)"
   ]
  },
  {
   "cell_type": "markdown",
   "metadata": {},
   "source": [
    "- Очистка памяти"
   ]
  },
  {
   "cell_type": "code",
   "execution_count": 42,
   "metadata": {},
   "outputs": [],
   "source": [
    "%reset_selective -f df\n",
    "%reset_selective -f xl"
   ]
  },
  {
   "cell_type": "markdown",
   "metadata": {},
   "source": [
    "### ФУНКЦИИ"
   ]
  },
  {
   "cell_type": "code",
   "execution_count": 43,
   "metadata": {},
   "outputs": [],
   "source": [
    "# Функция сохранения группы обученных моделей\n",
    "# -------------------------------------\n",
    "def saved_models(models, results, file_path, refit, X_train, y_train):\n",
    "    ''' \n",
    "    Сохраняет список моделей, предварительно обучив их.\n",
    "    Принимает:\n",
    "        models: список моделей\n",
    "        results: датафрейм с результатами подбора гиперпараметров\n",
    "        file_path: путь сохранения моделей\n",
    "        refit: нужно ли обучать модели перед сохранением\n",
    "        X_train, y_train: выборки для обучения моделей перед сохранением\n",
    "    '''\n",
    "    \n",
    "    # обучить\n",
    "    if refit:\n",
    "        for i in range(len(models)): # Взять лучшие модели\n",
    "            print(type(models[i]).__name__)\n",
    "            params = {} if results[\"params\"][i]=={} else eval(results[\"params\"][i])\n",
    "            models[i].set_params(**params) # Установить лучшие гиперпараметры\n",
    "            models[i].fit(X_train, y_train) # Обучить на тренировочных сетах\n",
    "\n",
    "    # сохранить\n",
    "    saving_model(models, file_path)\n",
    "    \n",
    "    return models\n",
    "# -- Time: 3.21 m -- #"
   ]
  },
  {
   "cell_type": "code",
   "execution_count": 44,
   "metadata": {},
   "outputs": [],
   "source": [
    "# Функция запускает функции-селекторы, сохраняет/загружает отчет и модели\n",
    "# -------------------------------------\n",
    "def run_select(\n",
    "    X_train, y_train, X_test, y_test, \n",
    "    file_path, \n",
    "    mod_path,     \n",
    "    select, \n",
    "    models, \n",
    "    params, \n",
    "    gs_type, \n",
    "    score, \n",
    "    cv,\n",
    "    scor_test,\n",
    "    time_drop = True\n",
    "    ):\n",
    "    ''' \n",
    "    Если отсутствует файл отчета, то нужно провести исследование. Файл отчета должен сохраняться в любом случае. При загрузке должен загружаться файла отчета обязательно, а файл моделей по требованию. Файл моделей сохраняется по требованию.\n",
    "    \n",
    "    Получает:\n",
    "    X_train, y_train, X_test, y_test,\n",
    "    \n",
    "    file_path: путь_имя файла с исследованием\n",
    "\n",
    "    mod_path: путь_имя файла с обученными моделями.\n",
    "        'No' - не сохранять и не загружать модели\n",
    "        Любая строка кроме 'No' расценивается как путь к файлу - если файл существует, то он будет загружен, если нет, то модели будут сохранены\n",
    "\n",
    "    select: имя функции-селектора\n",
    "    \n",
    "    Параметры для select: см. ф-ию select\n",
    "\n",
    "    time_drop: удалять ли из вывода потраченное на обучение модели время\n",
    "        False - нет\n",
    "        True - удалять\n",
    "    \n",
    "    Возвращает:\n",
    "    result: результат исследования сортированый по метрике на тесте\n",
    "    models: обученные или НЕ обученные модели расположенные в порядке ухудшения метрики на  тесте\n",
    "    '''\n",
    "    # ОТЧЕТ\n",
    "    if os.path.isfile(file_path):\n",
    "        result = pd.read_csv(file_path)\n",
    "    else:\n",
    "        result = select(\n",
    "            X_train, y_train, X_test, y_test, \n",
    "            models, \n",
    "            params, \n",
    "            gs_type, \n",
    "            score, \n",
    "            cv, \n",
    "            scor_test\n",
    "            )\n",
    "        result.to_csv(file_path, index=False)\n",
    "    \n",
    "    # расположить модели в порядке отчета\n",
    "    models = [models[result.index[i]] for i in range(len(models))]\n",
    "\n",
    "    # МОДЕЛИ\n",
    "    if mod_path != 'No': # модель нужно сохранить или загрузить\n",
    "        if os.path.isfile(mod_path): # если существует - загрузить\n",
    "            models = loading_model(mod_path)\n",
    "            # models = pickle.load(open(mod_path, 'rb'))\n",
    "        else: # если не существует - обучить и сохранить\n",
    "            refit = True # переобучать\n",
    "            if gs_type == \"gspb\":\n",
    "                refit = False # уже обученные\n",
    "\n",
    "            saved_models(models, result, mod_path, refit, X_train, y_train)\n",
    "\n",
    "    # Убрать из вывода результатов время\n",
    "    if time_drop:\n",
    "        result.drop('time', axis=1, inplace=True)\n",
    "    \n",
    "    if scor_test is False:\n",
    "        result.drop('test_score',axis=1,inplace=True)\n",
    "        result.sort_values(by='train_score', ascending=False, inplace=True)\n",
    "\n",
    "    return result, models"
   ]
  },
  {
   "cell_type": "code",
   "execution_count": 45,
   "metadata": {},
   "outputs": [],
   "source": [
    "# Функция-селектор ищет лучшие алгоритмы и модели\n",
    "# -------------------------------------\n",
    "def m_select(\n",
    "    X_train, y_train, X_test, y_test,\n",
    "    models, \n",
    "    params, \n",
    "    gs_type, \n",
    "    score, \n",
    "    cv, \n",
    "    scor_test\n",
    "    ):\n",
    "    '''\n",
    "    Получает:\n",
    "    X_train, y_train, X_test, y_test\n",
    "\n",
    "    models: список моделей\n",
    "\n",
    "    params: соответствующий моделям, список парметров моделей\n",
    "\n",
    "    gs_type: тип GridSearch - \n",
    "        gscv: GridSearchCV, \n",
    "        gsrn: RandomizedSearchCV,\n",
    "        gspb: GridSearchPB\n",
    "\n",
    "    score: метрика для GridSearch\n",
    "\n",
    "    cv: количество фолдов кросс-валидации\n",
    "\n",
    "    scor_test: проводить ли проверку метрики на тестовых данных\n",
    "\n",
    "    Возвращает:\n",
    "    result: результат исследования\n",
    "    '''\n",
    "    # Создать список объектов GridSearch и словарь с названиями алгоритмов\n",
    "    grids, grid_dict = gsList(\n",
    "        models, \n",
    "        params, \n",
    "        gs_type, # gscv: GridSearchCV(), gspb: GridSearchPB()\n",
    "        score,#'neg_root_mean_squared_error',#\n",
    "        cv=cv, \n",
    "        verbose=0, \n",
    "        n_jobs=-1\n",
    "    )\n",
    "    # Выбрать лучшие алгоритмы\n",
    "    ms = ModelSelection(\n",
    "        grids, \n",
    "        grid_dict, \n",
    "        scor_test=scor_test,\n",
    "        prt_mode=True\n",
    "        )\n",
    "    ms.choose(X_train, y_train, X_test, y_test)\n",
    "    result = ms.best_results()\n",
    "    \n",
    "    return result"
   ]
  },
  {
   "cell_type": "markdown",
   "metadata": {},
   "source": [
    "---------------------------"
   ]
  },
  {
   "cell_type": "markdown",
   "metadata": {},
   "source": [
    "### 1.2. Регрессия"
   ]
  },
  {
   "cell_type": "markdown",
   "metadata": {},
   "source": [
    "- Для прогнозирования рейтинга опробуйте различные алгоритмы и их гиперпараметры. Выберите лучшее решение на основе gridsearch и кроссвалидации и оцените RMSE на тестовой подвыборке.\n",
    "- Попробуйте различные ансамбли и их гиперпараметры. Выберите лучшее решение на основе gridsearch и кроссвалидации и оцените RMSE на тестовой подвыборке.\n",
    "- Посчитайте RMSE для наивного регрессора, в котором вы просто высчитали средний рейтинг."
   ]
  },
  {
   "cell_type": "markdown",
   "metadata": {},
   "source": [
    "----------------------------------"
   ]
  },
  {
   "cell_type": "markdown",
   "metadata": {},
   "source": [
    "#### 1.2.0 Импорты"
   ]
  },
  {
   "cell_type": "code",
   "execution_count": 46,
   "metadata": {},
   "outputs": [],
   "source": [
    "from sklearn.linear_model import LinearRegression\n",
    "from sklearn.linear_model import Ridge\n",
    "from sklearn.linear_model import RidgeCV\n",
    "from sklearn.linear_model import BayesianRidge\n",
    "from sklearn.linear_model import Lasso\n",
    "from sklearn.linear_model import ElasticNet\n",
    "from sklearn.linear_model import LarsCV\n",
    "from sklearn.neighbors import KNeighborsRegressor\n",
    "from sklearn.tree import DecisionTreeRegressor\n",
    "from sklearn.svm import LinearSVR\n",
    "from sklearn.svm import SVR\n",
    "from sklearn.ensemble import AdaBoostRegressor\n",
    "from sklearn.ensemble import ExtraTreesRegressor\n",
    "from sklearn.ensemble import GradientBoostingRegressor\n",
    "from sklearn.ensemble import RandomForestRegressor\n",
    "from sklearn.linear_model import SGDRegressor\n",
    "from sklearn.kernel_ridge import KernelRidge\n",
    "from sklearn.model_selection import RepeatedKFold\n",
    "from sklearn.dummy import DummyRegressor\n",
    "# \n",
    "from sklearn.ensemble import VotingRegressor\n",
    "from sklearn.ensemble import BaggingRegressor\n",
    "from sklearn.ensemble import StackingRegressor\n",
    "from sklearn.metrics import mean_squared_error\n",
    "from sklearn.model_selection import StratifiedKFold"
   ]
  },
  {
   "cell_type": "markdown",
   "metadata": {},
   "source": [
    "#### 1.2.1 Выбор индивидальной модели"
   ]
  },
  {
   "cell_type": "markdown",
   "metadata": {},
   "source": [
    "Для прогнозирования рейтинга опробуйте различные алгоритмы и их гиперпараметры. Выберите лучшее решение на основе gridsearch и кроссвалидации и оцените RMSE на тестовой подвыборке."
   ]
  },
  {
   "cell_type": "markdown",
   "metadata": {},
   "source": [
    "##### 1.2.1.1 Выбор алгоритма регрессионной модели"
   ]
  },
  {
   "cell_type": "code",
   "execution_count": 47,
   "metadata": {},
   "outputs": [],
   "source": [
    "algs_reg = []\n",
    "set_algs_reg = []\n",
    "# Линейные алгоритмы:\n",
    "algs_reg.append(Ridge())\n",
    "set_algs_reg.append({})\n",
    "algs_reg.append((Lasso()))\n",
    "set_algs_reg.append({})\n",
    "algs_reg.append(ElasticNet())\n",
    "set_algs_reg.append({})\n",
    "algs_reg.append(LarsCV())\n",
    "set_algs_reg.append({})\n",
    "algs_reg.append(BayesianRidge())\n",
    "set_algs_reg.append({})\n",
    "algs_reg.append(RidgeCV())\n",
    "set_algs_reg.append({})\n",
    "# Нелинейные алгоритмы:\n",
    "algs_reg.append(KNeighborsRegressor())\n",
    "set_algs_reg.append({})\n",
    "algs_reg.append(DecisionTreeRegressor())\n",
    "set_algs_reg.append({})\n",
    "algs_reg.append((LinearSVR()))\n",
    "set_algs_reg.append({})\n",
    "# # Ансамблевые алгоритмы:\n",
    "algs_reg.append(GradientBoostingRegressor())\n",
    "set_algs_reg.append({})\n",
    "algs_reg.append(RandomForestRegressor()) # долго\n",
    "set_algs_reg.append({})"
   ]
  },
  {
   "cell_type": "markdown",
   "metadata": {},
   "source": [
    "- https://habr.com/ru/post/475552/"
   ]
  },
  {
   "cell_type": "code",
   "execution_count": 48,
   "metadata": {},
   "outputs": [
    {
     "data": {
      "text/html": [
       "<div>\n",
       "<style scoped>\n",
       "    .dataframe tbody tr th:only-of-type {\n",
       "        vertical-align: middle;\n",
       "    }\n",
       "\n",
       "    .dataframe tbody tr th {\n",
       "        vertical-align: top;\n",
       "    }\n",
       "\n",
       "    .dataframe thead th {\n",
       "        text-align: right;\n",
       "    }\n",
       "</style>\n",
       "<table border=\"1\" class=\"dataframe\">\n",
       "  <thead>\n",
       "    <tr style=\"text-align: right;\">\n",
       "      <th></th>\n",
       "      <th>model</th>\n",
       "      <th>test_score</th>\n",
       "      <th>train_score</th>\n",
       "      <th>time</th>\n",
       "      <th>params</th>\n",
       "    </tr>\n",
       "  </thead>\n",
       "  <tbody>\n",
       "    <tr>\n",
       "      <th>0</th>\n",
       "      <td>LarsCV</td>\n",
       "      <td>0.08891</td>\n",
       "      <td>0.11096</td>\n",
       "      <td>3.577</td>\n",
       "      <td>{}</td>\n",
       "    </tr>\n",
       "    <tr>\n",
       "      <th>1</th>\n",
       "      <td>BayesianRidge</td>\n",
       "      <td>0.08641</td>\n",
       "      <td>0.12195</td>\n",
       "      <td>1.803</td>\n",
       "      <td>{}</td>\n",
       "    </tr>\n",
       "    <tr>\n",
       "      <th>2</th>\n",
       "      <td>RidgeCV</td>\n",
       "      <td>0.08467</td>\n",
       "      <td>0.11878</td>\n",
       "      <td>1.894</td>\n",
       "      <td>{}</td>\n",
       "    </tr>\n",
       "    <tr>\n",
       "      <th>3</th>\n",
       "      <td>GradientBoostingRegressor</td>\n",
       "      <td>0.08231</td>\n",
       "      <td>0.10766</td>\n",
       "      <td>9.920</td>\n",
       "      <td>{}</td>\n",
       "    </tr>\n",
       "    <tr>\n",
       "      <th>4</th>\n",
       "      <td>Ridge</td>\n",
       "      <td>0.07933</td>\n",
       "      <td>0.10498</td>\n",
       "      <td>0.359</td>\n",
       "      <td>{}</td>\n",
       "    </tr>\n",
       "    <tr>\n",
       "      <th>5</th>\n",
       "      <td>Lasso</td>\n",
       "      <td>-0.00000</td>\n",
       "      <td>-0.00044</td>\n",
       "      <td>0.344</td>\n",
       "      <td>{}</td>\n",
       "    </tr>\n",
       "    <tr>\n",
       "      <th>6</th>\n",
       "      <td>ElasticNet</td>\n",
       "      <td>-0.00000</td>\n",
       "      <td>-0.00044</td>\n",
       "      <td>0.315</td>\n",
       "      <td>{}</td>\n",
       "    </tr>\n",
       "    <tr>\n",
       "      <th>7</th>\n",
       "      <td>LinearSVR</td>\n",
       "      <td>-0.03360</td>\n",
       "      <td>0.00551</td>\n",
       "      <td>0.424</td>\n",
       "      <td>{}</td>\n",
       "    </tr>\n",
       "    <tr>\n",
       "      <th>8</th>\n",
       "      <td>RandomForestRegressor</td>\n",
       "      <td>-0.04012</td>\n",
       "      <td>0.00710</td>\n",
       "      <td>136.664</td>\n",
       "      <td>{}</td>\n",
       "    </tr>\n",
       "    <tr>\n",
       "      <th>9</th>\n",
       "      <td>KNeighborsRegressor</td>\n",
       "      <td>-0.19710</td>\n",
       "      <td>-0.15422</td>\n",
       "      <td>0.925</td>\n",
       "      <td>{}</td>\n",
       "    </tr>\n",
       "    <tr>\n",
       "      <th>10</th>\n",
       "      <td>DecisionTreeRegressor</td>\n",
       "      <td>-0.72242</td>\n",
       "      <td>-0.81462</td>\n",
       "      <td>2.435</td>\n",
       "      <td>{}</td>\n",
       "    </tr>\n",
       "  </tbody>\n",
       "</table>\n",
       "</div>"
      ],
      "text/plain": [
       "                        model  test_score  train_score     time params\n",
       "0                      LarsCV     0.08891      0.11096    3.577     {}\n",
       "1               BayesianRidge     0.08641      0.12195    1.803     {}\n",
       "2                     RidgeCV     0.08467      0.11878    1.894     {}\n",
       "3   GradientBoostingRegressor     0.08231      0.10766    9.920     {}\n",
       "4                       Ridge     0.07933      0.10498    0.359     {}\n",
       "5                       Lasso    -0.00000     -0.00044    0.344     {}\n",
       "6                  ElasticNet    -0.00000     -0.00044    0.315     {}\n",
       "7                   LinearSVR    -0.03360      0.00551    0.424     {}\n",
       "8       RandomForestRegressor    -0.04012      0.00710  136.664     {}\n",
       "9         KNeighborsRegressor    -0.19710     -0.15422    0.925     {}\n",
       "10      DecisionTreeRegressor    -0.72242     -0.81462    2.435     {}"
      ]
     },
     "execution_count": 48,
     "metadata": {},
     "output_type": "execute_result"
    }
   ],
   "source": [
    "#  Алгоритмы для регрессоров\n",
    "# ? -----------------------------------\n",
    "res_a, mod_a = run_select(\n",
    "    X_train, y_train, X_valid, y_valid,\n",
    "    './results/reg_best_alg.csv', \n",
    "    'No',\n",
    "    m_select,\n",
    "    algs_reg, \n",
    "    set_algs_reg, \n",
    "    'gscv', \n",
    "    'r2', \n",
    "    cv=10,\n",
    "    scor_test=True, # проводить проверку на валидационной выборке\n",
    "    time_drop=False # не удалять из вывода время на поиск\n",
    ")\n",
    "res_a\n",
    "# ? -----------------------------------"
   ]
  },
  {
   "cell_type": "markdown",
   "metadata": {},
   "source": [
    "##### 1.2.1.2 Подбор гиперпараметров регрессионной модели "
   ]
  },
  {
   "cell_type": "code",
   "execution_count": 49,
   "metadata": {},
   "outputs": [],
   "source": [
    "res_reg_m = []\n",
    "mod_reg_m = []\n",
    "# -----------------------------------------------------\n",
    "res_reg_m.append(BayesianRidge())\n",
    "# \n",
    "mod_reg_m.append({\n",
    "    'n_iter':[100, 200, 300, 400, 500],\n",
    "    'compute_score':[False, True],\n",
    "    'fit_intercept':[True, False],\n",
    "    'normalize':[False, True],\n",
    "    'copy_X':[True, False], \n",
    "    'verbose':[False, True],\n",
    "})\n",
    "# -----------------------------------------------------\n",
    "res_reg_m.append(RidgeCV())\n",
    "mod_reg_m.append({\n",
    "    'alphas':np.arange(0.1, 1, 0.01),\n",
    "    'fit_intercept':[True,False], \n",
    "    'normalize':[True,False],\n",
    "})\n",
    "# -----------------------------------------------------\n",
    "res_reg_m.append(GradientBoostingRegressor(random_state=21))\n",
    "mod_reg_m.append({\n",
    "    \"learning_rate\":np.logspace(-3, 1, 4),\n",
    "    \"n_estimators\":[int(x) for x in np.linspace(50, 200, 3)],\n",
    "    \"min_samples_split\":[int(x) for x in np.linspace(2, 15, 3)],\n",
    "    \"min_samples_leaf\":[int(x) for x in np.linspace(1, 15, 3)],\n",
    "    \"max_depth\":[int(x) for x in np.linspace(3, 20, 3)],\n",
    "})\n",
    "# -----------------------------------------------------\n",
    "res_reg_m.append(LarsCV())\n",
    "mod_reg_m.append({\n",
    "    'max_iter':[200, 300, 400, 500, 600],\n",
    "    'fit_intercept':[True, False],\n",
    "    'normalize':[True, False],\n",
    "    'max_n_alphas':[600, 800, 1000, 1200,1400], \n",
    "    'cv':[5, 6, 7, 8, 9, 10],\n",
    "})\n"
   ]
  },
  {
   "cell_type": "code",
   "execution_count": 50,
   "metadata": {},
   "outputs": [
    {
     "data": {
      "text/html": [
       "<div>\n",
       "<style scoped>\n",
       "    .dataframe tbody tr th:only-of-type {\n",
       "        vertical-align: middle;\n",
       "    }\n",
       "\n",
       "    .dataframe tbody tr th {\n",
       "        vertical-align: top;\n",
       "    }\n",
       "\n",
       "    .dataframe thead th {\n",
       "        text-align: right;\n",
       "    }\n",
       "</style>\n",
       "<table border=\"1\" class=\"dataframe\">\n",
       "  <thead>\n",
       "    <tr style=\"text-align: right;\">\n",
       "      <th></th>\n",
       "      <th>model</th>\n",
       "      <th>test_score</th>\n",
       "      <th>train_score</th>\n",
       "      <th>params</th>\n",
       "    </tr>\n",
       "  </thead>\n",
       "  <tbody>\n",
       "    <tr>\n",
       "      <th>0</th>\n",
       "      <td>BayesianRidge</td>\n",
       "      <td>-1.24983</td>\n",
       "      <td>-1.26307</td>\n",
       "      <td>{'verbose': False, 'normalize': False, 'n_iter...</td>\n",
       "    </tr>\n",
       "    <tr>\n",
       "      <th>1</th>\n",
       "      <td>RidgeCV</td>\n",
       "      <td>-1.25001</td>\n",
       "      <td>-1.26528</td>\n",
       "      <td>{'normalize': True, 'fit_intercept': True, 'al...</td>\n",
       "    </tr>\n",
       "    <tr>\n",
       "      <th>2</th>\n",
       "      <td>LarsCV</td>\n",
       "      <td>-1.25115</td>\n",
       "      <td>-1.26270</td>\n",
       "      <td>{'normalize': False, 'max_n_alphas': 1200, 'ma...</td>\n",
       "    </tr>\n",
       "    <tr>\n",
       "      <th>3</th>\n",
       "      <td>GradientBoostingRegressor</td>\n",
       "      <td>-1.25239</td>\n",
       "      <td>-1.26911</td>\n",
       "      <td>{'n_estimators': 50, 'min_samples_split': 15, ...</td>\n",
       "    </tr>\n",
       "  </tbody>\n",
       "</table>\n",
       "</div>"
      ],
      "text/plain": [
       "                       model  test_score  train_score  \\\n",
       "0              BayesianRidge    -1.24983     -1.26307   \n",
       "1                    RidgeCV    -1.25001     -1.26528   \n",
       "2                     LarsCV    -1.25115     -1.26270   \n",
       "3  GradientBoostingRegressor    -1.25239     -1.26911   \n",
       "\n",
       "                                              params  \n",
       "0  {'verbose': False, 'normalize': False, 'n_iter...  \n",
       "1  {'normalize': True, 'fit_intercept': True, 'al...  \n",
       "2  {'normalize': False, 'max_n_alphas': 1200, 'ma...  \n",
       "3  {'n_estimators': 50, 'min_samples_split': 15, ...  "
      ]
     },
     "execution_count": 50,
     "metadata": {},
     "output_type": "execute_result"
    }
   ],
   "source": [
    "#  Гиперпараметры для регрессоров\n",
    "# ? -----------------------------------\n",
    "res_m, mod_m = run_select(\n",
    "    X_train, y_train, X_test, y_test,\n",
    "    './results/reg_best_model.csv', \n",
    "    './results/reg_best_model.sav',\n",
    "    m_select,\n",
    "    res_reg_m, \n",
    "    mod_reg_m, \n",
    "    'gsrn',\n",
    "    'neg_root_mean_squared_error', \n",
    "    cv=5,\n",
    "    scor_test=True, # проводить проверку на тесте\n",
    ")\n",
    "res_m\n",
    "# ? -----------------------------------"
   ]
  },
  {
   "cell_type": "markdown",
   "metadata": {},
   "source": [
    "##### 1.2.1.3 Оценка RMSE на тестовой выборке для лучшей модели"
   ]
  },
  {
   "cell_type": "code",
   "execution_count": 51,
   "metadata": {},
   "outputs": [
    {
     "name": "stdout",
     "output_type": "stream",
     "text": [
      "RMSE на тестовой подвыборке для лучшей модели: -1.24983\n"
     ]
    }
   ],
   "source": [
    "print(\"RMSE на тестовой подвыборке для лучшей модели: %0.5f\" % res_m['test_score'][0])"
   ]
  },
  {
   "cell_type": "markdown",
   "metadata": {},
   "source": [
    "#### 1.2.2 Ансамбли"
   ]
  },
  {
   "cell_type": "markdown",
   "metadata": {},
   "source": [
    "Попробуйте различные ансамбли и их гиперпараметры. Выберите лучшее решение на основе gridsearch и кроссвалидации и оцените RMSE на тестовой подвыборке."
   ]
  },
  {
   "cell_type": "markdown",
   "metadata": {},
   "source": [
    "##### 1.2.2.1 Обучить лучшие модели перед использованием в ансамблях"
   ]
  },
  {
   "cell_type": "markdown",
   "metadata": {},
   "source": [
    "`Модели уже обучены и сохранены на предыдущем этапе внутри ф-ии run_select()`"
   ]
  },
  {
   "cell_type": "markdown",
   "metadata": {},
   "source": [
    "##### 1.2.2.2 Подбор гиперпараметров для ансамблей регрессоров"
   ]
  },
  {
   "cell_type": "code",
   "execution_count": 52,
   "metadata": {},
   "outputs": [],
   "source": [
    "ensembles = []\n",
    "e_params = []\n",
    "\n",
    "estimators = [\n",
    "    ('bridge',mod_m[0]),\n",
    "    ('ridgecv',mod_m[1]),\n",
    "    ('larscv',mod_m[2]),\n",
    "    ('gbreg',mod_m[3])]\n",
    "\n",
    "skfolds = []\n",
    "for i in range(2, 10):\n",
    "    skfolds.append(KFold(n_splits=i, shuffle=False))\n",
    "\n",
    "# -----------------------------------------------------\n",
    "ensembles.append(StackingRegressor(estimators=estimators))\n",
    "e_params.append({\n",
    "    'final_estimator': [\n",
    "        RidgeCV(), \n",
    "        GradientBoostingRegressor(),\n",
    "        KNeighborsRegressor()\n",
    "        ],\n",
    "    'cv': skfolds,\n",
    "})\n",
    "# -----------------------------------------------------\n",
    "ensembles.append(VotingRegressor(estimators=estimators))\n",
    "e_params.append({\n",
    "    'weights': [[1,2,3,4],[4,3,2,1],[2,3,4,1],[3,4,1,2]],\n",
    "})\n",
    "# -----------------------------------------------------\n",
    "ensembles.append(BaggingRegressor(random_state=21))\n",
    "e_params.append({\n",
    "    'base_estimator': mod_m, \n",
    "    'n_estimators': np.arange(1, 10, 1)**2,\n",
    "})"
   ]
  },
  {
   "cell_type": "code",
   "execution_count": 53,
   "metadata": {},
   "outputs": [
    {
     "data": {
      "text/html": [
       "<div>\n",
       "<style scoped>\n",
       "    .dataframe tbody tr th:only-of-type {\n",
       "        vertical-align: middle;\n",
       "    }\n",
       "\n",
       "    .dataframe tbody tr th {\n",
       "        vertical-align: top;\n",
       "    }\n",
       "\n",
       "    .dataframe thead th {\n",
       "        text-align: right;\n",
       "    }\n",
       "</style>\n",
       "<table border=\"1\" class=\"dataframe\">\n",
       "  <thead>\n",
       "    <tr style=\"text-align: right;\">\n",
       "      <th></th>\n",
       "      <th>model</th>\n",
       "      <th>test_score</th>\n",
       "      <th>train_score</th>\n",
       "      <th>params</th>\n",
       "    </tr>\n",
       "  </thead>\n",
       "  <tbody>\n",
       "    <tr>\n",
       "      <th>0</th>\n",
       "      <td>StackingRegressor</td>\n",
       "      <td>-1.24597</td>\n",
       "      <td>-1.25890</td>\n",
       "      <td>{'final_estimator': RidgeCV(), 'cv': KFold(n_s...</td>\n",
       "    </tr>\n",
       "    <tr>\n",
       "      <th>1</th>\n",
       "      <td>VotingRegressor</td>\n",
       "      <td>-1.24734</td>\n",
       "      <td>-1.25980</td>\n",
       "      <td>{'weights': [3, 4, 1, 2]}</td>\n",
       "    </tr>\n",
       "    <tr>\n",
       "      <th>2</th>\n",
       "      <td>BaggingRegressor</td>\n",
       "      <td>-1.25021</td>\n",
       "      <td>-1.26361</td>\n",
       "      <td>{'n_estimators': 49, 'base_estimator': RidgeCV()}</td>\n",
       "    </tr>\n",
       "  </tbody>\n",
       "</table>\n",
       "</div>"
      ],
      "text/plain": [
       "               model  test_score  train_score  \\\n",
       "0  StackingRegressor    -1.24597     -1.25890   \n",
       "1    VotingRegressor    -1.24734     -1.25980   \n",
       "2   BaggingRegressor    -1.25021     -1.26361   \n",
       "\n",
       "                                              params  \n",
       "0  {'final_estimator': RidgeCV(), 'cv': KFold(n_s...  \n",
       "1                          {'weights': [3, 4, 1, 2]}  \n",
       "2  {'n_estimators': 49, 'base_estimator': RidgeCV()}  "
      ]
     },
     "execution_count": 53,
     "metadata": {},
     "output_type": "execute_result"
    }
   ],
   "source": [
    "#  Гиперпараметры для ансамблей регрессоров\n",
    "# ? -----------------------------------\n",
    "res_e, mod_e = run_select(\n",
    "    X_train, y_train, X_test, y_test,\n",
    "    './results/reg_best_ensembles.csv', \n",
    "    './results/reg_best_ensembles.sav',\n",
    "    m_select,\n",
    "    ensembles, \n",
    "    e_params, \n",
    "    'gsrn', \n",
    "    'neg_root_mean_squared_error', \n",
    "    cv=5,\n",
    "    scor_test=True, # проводить проверку на тесте\n",
    ")\n",
    "res_e\n",
    "# ? -----------------------------------"
   ]
  },
  {
   "cell_type": "markdown",
   "metadata": {},
   "source": [
    "##### 1.2.2.3 Оценка RMSE на тестовой подвыборке для лучшего ансамбля "
   ]
  },
  {
   "cell_type": "code",
   "execution_count": 54,
   "metadata": {},
   "outputs": [
    {
     "name": "stdout",
     "output_type": "stream",
     "text": [
      "RMSE на тестовой подвыборке для лучшего ансамбля: -1.24597\n"
     ]
    }
   ],
   "source": [
    "print(\"RMSE на тестовой подвыборке для лучшего ансамбля: %0.5f\" % res_e['test_score'][0])"
   ]
  },
  {
   "cell_type": "markdown",
   "metadata": {},
   "source": [
    "##### 1.2.2.4 Сохранить лучшую модель для использования в программе"
   ]
  },
  {
   "cell_type": "code",
   "execution_count": 165,
   "metadata": {},
   "outputs": [
    {
     "name": "stdout",
     "output_type": "stream",
     "text": [
      "Models saved!\n"
     ]
    }
   ],
   "source": [
    "# ------------------------------------------\n",
    "#  Сохранение модели\n",
    "# ------------------------------------------\n",
    "# saving_model(mod_e[0], './models/reg_best.sav')"
   ]
  },
  {
   "cell_type": "markdown",
   "metadata": {},
   "source": [
    "#### 1.2.3 RMSE для наивного регрессора"
   ]
  },
  {
   "cell_type": "markdown",
   "metadata": {},
   "source": [
    "Посчитайте RMSE для наивного регрессора, в котором вы просто высчитали средний рейтинг"
   ]
  },
  {
   "cell_type": "code",
   "execution_count": 55,
   "metadata": {},
   "outputs": [
    {
     "name": "stdout",
     "output_type": "stream",
     "text": [
      "RMSE на тестовой подвыборке для наивного регрессора: -1.32974\n"
     ]
    }
   ],
   "source": [
    "y_pred_n = np.mean(y_train)\n",
    "print(\"RMSE на тестовой подвыборке для наивного регрессора: %0.5f\" % rmse(y_test, y_pred_n))"
   ]
  },
  {
   "cell_type": "markdown",
   "metadata": {},
   "source": [
    "Метрики регрессоров с подобранными гиперпараметрами не существенно отличаются от метрики наивного прогноза"
   ]
  },
  {
   "cell_type": "markdown",
   "metadata": {},
   "source": [
    "### 1.3 Классификация"
   ]
  },
  {
   "cell_type": "markdown",
   "metadata": {},
   "source": [
    "- Бинаризируйте значения целевой переменной путем округления рейтингов до ближайшего целого числа. Это и будут ваши классы.\n",
    "- Для прогнозирования классов попробуйте различные алгоритмы и их гиперпараметры. Выберите лучшее решение на основе gridsearch и кроссвалидации и посчитайте accuracy на тестовой подвыборке.\n",
    "- Рассчитайте значение accuracy наивного классификатора, в котором вы для всех наблюдений прогнозируете наиболее распространенный класс. Сравните метрики.\n",
    "- Снова проведите бинаризацию целевого столбца, преобразовав теперь целые числа в классы bad (0, 1) (невкусное), so-so (2, 3) (нормальное), great (4, 5) (вкусное).\n",
    "- Снова для прогнозирования классов попробуйте различные алгоритмы и их гиперпараметры. Выберите лучшее решение на основе кроссвалидации и посчитайте accuracy на тестовой подвыборке.\n",
    "- Снова рассчитайте значение accuracy наивного классификатора, в котором вы для всех наблюдений прогнозируете наиболее распространенный класс. Сравните метрики.\n",
    "- Что хуже: спрогнозировать плохой рейтинг, который на самом деле окажется хорошим, или спрогнозировать хороший рейтинг, который на самом деле окажется плохим? Замените метрику accuracy другой соответствующей метрикой.\n",
    "- Для прогнозирования классов с новой метрикой опробуйте различные алгоритмы и их гиперпараметры. Выберите лучшее решение и посчитайте метрику на тестовой подвыборке.\n",
    "- Попробуйте различные ансамбли и их гиперпараметры. Выберите лучшее решение и посчитайте метрику на тестовой подвыборке."
   ]
  },
  {
   "cell_type": "markdown",
   "metadata": {},
   "source": [
    "---------------------------------------"
   ]
  },
  {
   "cell_type": "markdown",
   "metadata": {},
   "source": [
    "#### 1.3.0. Импорты"
   ]
  },
  {
   "cell_type": "code",
   "execution_count": 56,
   "metadata": {},
   "outputs": [],
   "source": [
    "from sklearn.dummy import DummyClassifier\n",
    "from sklearn.linear_model import RidgeClassifier\n",
    "from sklearn.linear_model import LogisticRegression\n",
    "from sklearn.discriminant_analysis import LinearDiscriminantAnalysis\n",
    "from sklearn.neighbors import KNeighborsClassifier\n",
    "from sklearn.tree import DecisionTreeClassifier\n",
    "from sklearn.naive_bayes import GaussianNB\n",
    "from sklearn.svm import LinearSVC\n",
    "from sklearn.svm import SVC\n",
    "from sklearn.neural_network import MLPClassifier\n",
    "from sklearn.ensemble import RandomForestClassifier\n",
    "from sklearn.ensemble import ExtraTreesClassifier\n",
    "from sklearn.ensemble import AdaBoostClassifier\n",
    "from sklearn.ensemble import GradientBoostingClassifier\n",
    "\n",
    "from sklearn.ensemble import VotingClassifier\n",
    "from sklearn.ensemble import BaggingClassifier\n",
    "from sklearn.ensemble import StackingClassifier\n",
    "\n",
    "from sklearn.utils import resample ## Used for sampling the data"
   ]
  },
  {
   "cell_type": "markdown",
   "metadata": {},
   "source": [
    "#### 1.3.1 Бинаризация значения целевой переменной путем округления рейтингов до ближайшего целого числа"
   ]
  },
  {
   "cell_type": "code",
   "execution_count": 57,
   "metadata": {},
   "outputs": [],
   "source": [
    "y = np.round(y).astype('int8')\n",
    "\n",
    "tvt = TrainValidationTest(X, y)\n",
    "X_train, X_valid, X_test, y_train, y_valid, y_test = tvt.get_TVT()\n",
    "\n",
    "# Датафрейм с новым таргетом для удобства\n",
    "df_bin = pd.concat([title, X, y], axis=1)\n",
    "y_bin = y # "
   ]
  },
  {
   "cell_type": "code",
   "execution_count": 58,
   "metadata": {},
   "outputs": [
    {
     "data": {
      "text/plain": [
       "4    12105\n",
       "5     2378\n",
       "0     1642\n",
       "3     1354\n",
       "2      588\n",
       "1      143\n",
       "Name: rating, dtype: int64"
      ]
     },
     "execution_count": 58,
     "metadata": {},
     "output_type": "execute_result"
    }
   ],
   "source": [
    "y.value_counts()"
   ]
  },
  {
   "cell_type": "code",
   "execution_count": 59,
   "metadata": {},
   "outputs": [
    {
     "data": {
      "text/plain": [
       "4    0.664745\n",
       "5    0.130588\n",
       "0    0.090170\n",
       "3    0.074355\n",
       "2    0.032290\n",
       "1    0.007853\n",
       "Name: rating, dtype: float64"
      ]
     },
     "execution_count": 59,
     "metadata": {},
     "output_type": "execute_result"
    }
   ],
   "source": [
    "y.value_counts(normalize=True)"
   ]
  },
  {
   "cell_type": "markdown",
   "metadata": {},
   "source": [
    "`Классы сильно несбалансированы!`"
   ]
  },
  {
   "cell_type": "markdown",
   "metadata": {},
   "source": [
    "#### 1.3.2 Выбор индивидальной модели"
   ]
  },
  {
   "cell_type": "markdown",
   "metadata": {},
   "source": [
    "- Для прогнозирования классов попробуйте различные алгоритмы и их гиперпараметры. Выберите лучшее решение на основе gridsearch и кроссвалидации и посчитайте accuracy на тестовой подвыборке."
   ]
  },
  {
   "cell_type": "markdown",
   "metadata": {},
   "source": [
    "##### 1.3.2.1 Выбор алгоритма классификатора"
   ]
  },
  {
   "cell_type": "code",
   "execution_count": 60,
   "metadata": {},
   "outputs": [],
   "source": [
    "algs_clf = []\n",
    "set_algs_clf = []\n",
    "# Линейные алгоритмы:\n",
    "algs_clf.append(RidgeClassifier()) \n",
    "set_algs_clf.append({})\n",
    "algs_clf.append((LogisticRegression()))\n",
    "set_algs_clf.append({})\n",
    "algs_clf.append((LinearDiscriminantAnalysis()))\n",
    "set_algs_clf.append({})\n",
    "# Нелинейные алгоритмы:\n",
    "algs_clf.append((KNeighborsClassifier()))\n",
    "set_algs_clf.append({})\n",
    "algs_clf.append((DecisionTreeClassifier()))\n",
    "set_algs_clf.append({})\n",
    "# algs_clf.append((LinearSVC()))\n",
    "# set_algs_clf.append({})\n",
    "algs_clf.append((SVC()))\n",
    "set_algs_clf.append({})\n",
    "# Алгоритм искусственной нейронной сети:\n",
    "algs_clf.append((MLPClassifier()))\n",
    "set_algs_clf.append({})\n",
    "# Ансамблевые алгоритмы:\n",
    "algs_clf.append((AdaBoostClassifier(algorithm='SAMME')))\n",
    "set_algs_clf.append({})\n",
    "algs_clf.append((RandomForestClassifier()))\n",
    "set_algs_clf.append({})\n",
    "algs_clf.append((BaggingClassifier()))\n",
    "set_algs_clf.append({})\n",
    "algs_clf.append((ExtraTreesClassifier()))\n",
    "set_algs_clf.append({})\n",
    "algs_clf.append((GradientBoostingClassifier()))\n",
    "set_algs_clf.append({})"
   ]
  },
  {
   "cell_type": "code",
   "execution_count": 61,
   "metadata": {},
   "outputs": [
    {
     "data": {
      "text/html": [
       "<div>\n",
       "<style scoped>\n",
       "    .dataframe tbody tr th:only-of-type {\n",
       "        vertical-align: middle;\n",
       "    }\n",
       "\n",
       "    .dataframe tbody tr th {\n",
       "        vertical-align: top;\n",
       "    }\n",
       "\n",
       "    .dataframe thead th {\n",
       "        text-align: right;\n",
       "    }\n",
       "</style>\n",
       "<table border=\"1\" class=\"dataframe\">\n",
       "  <thead>\n",
       "    <tr style=\"text-align: right;\">\n",
       "      <th></th>\n",
       "      <th>model</th>\n",
       "      <th>test_score</th>\n",
       "      <th>train_score</th>\n",
       "      <th>time</th>\n",
       "      <th>params</th>\n",
       "    </tr>\n",
       "  </thead>\n",
       "  <tbody>\n",
       "    <tr>\n",
       "      <th>0</th>\n",
       "      <td>SVC</td>\n",
       "      <td>0.68418</td>\n",
       "      <td>0.68058</td>\n",
       "      <td>93.668</td>\n",
       "      <td>{}</td>\n",
       "    </tr>\n",
       "    <tr>\n",
       "      <th>1</th>\n",
       "      <td>LogisticRegression</td>\n",
       "      <td>0.67859</td>\n",
       "      <td>0.67857</td>\n",
       "      <td>2.079</td>\n",
       "      <td>{}</td>\n",
       "    </tr>\n",
       "    <tr>\n",
       "      <th>2</th>\n",
       "      <td>RidgeClassifier</td>\n",
       "      <td>0.67831</td>\n",
       "      <td>0.67744</td>\n",
       "      <td>1.980</td>\n",
       "      <td>{}</td>\n",
       "    </tr>\n",
       "    <tr>\n",
       "      <th>3</th>\n",
       "      <td>GradientBoostingClassifier</td>\n",
       "      <td>0.67831</td>\n",
       "      <td>0.67421</td>\n",
       "      <td>34.522</td>\n",
       "      <td>{}</td>\n",
       "    </tr>\n",
       "    <tr>\n",
       "      <th>4</th>\n",
       "      <td>AdaBoostClassifier</td>\n",
       "      <td>0.67496</td>\n",
       "      <td>0.67395</td>\n",
       "      <td>2.753</td>\n",
       "      <td>{}</td>\n",
       "    </tr>\n",
       "    <tr>\n",
       "      <th>5</th>\n",
       "      <td>LinearDiscriminantAnalysis</td>\n",
       "      <td>0.67077</td>\n",
       "      <td>0.66643</td>\n",
       "      <td>1.212</td>\n",
       "      <td>{}</td>\n",
       "    </tr>\n",
       "    <tr>\n",
       "      <th>6</th>\n",
       "      <td>RandomForestClassifier</td>\n",
       "      <td>0.63946</td>\n",
       "      <td>0.63123</td>\n",
       "      <td>7.769</td>\n",
       "      <td>{}</td>\n",
       "    </tr>\n",
       "    <tr>\n",
       "      <th>7</th>\n",
       "      <td>KNeighborsClassifier</td>\n",
       "      <td>0.62493</td>\n",
       "      <td>0.62145</td>\n",
       "      <td>0.757</td>\n",
       "      <td>{}</td>\n",
       "    </tr>\n",
       "    <tr>\n",
       "      <th>8</th>\n",
       "      <td>MLPClassifier</td>\n",
       "      <td>0.60732</td>\n",
       "      <td>0.59333</td>\n",
       "      <td>51.045</td>\n",
       "      <td>{}</td>\n",
       "    </tr>\n",
       "    <tr>\n",
       "      <th>9</th>\n",
       "      <td>ExtraTreesClassifier</td>\n",
       "      <td>0.60704</td>\n",
       "      <td>0.60608</td>\n",
       "      <td>10.691</td>\n",
       "      <td>{}</td>\n",
       "    </tr>\n",
       "    <tr>\n",
       "      <th>10</th>\n",
       "      <td>BaggingClassifier</td>\n",
       "      <td>0.59363</td>\n",
       "      <td>0.58311</td>\n",
       "      <td>6.063</td>\n",
       "      <td>{}</td>\n",
       "    </tr>\n",
       "    <tr>\n",
       "      <th>11</th>\n",
       "      <td>DecisionTreeClassifier</td>\n",
       "      <td>0.53661</td>\n",
       "      <td>0.51978</td>\n",
       "      <td>1.145</td>\n",
       "      <td>{}</td>\n",
       "    </tr>\n",
       "  </tbody>\n",
       "</table>\n",
       "</div>"
      ],
      "text/plain": [
       "                         model  test_score  train_score    time params\n",
       "0                          SVC     0.68418      0.68058  93.668     {}\n",
       "1           LogisticRegression     0.67859      0.67857   2.079     {}\n",
       "2              RidgeClassifier     0.67831      0.67744   1.980     {}\n",
       "3   GradientBoostingClassifier     0.67831      0.67421  34.522     {}\n",
       "4           AdaBoostClassifier     0.67496      0.67395   2.753     {}\n",
       "5   LinearDiscriminantAnalysis     0.67077      0.66643   1.212     {}\n",
       "6       RandomForestClassifier     0.63946      0.63123   7.769     {}\n",
       "7         KNeighborsClassifier     0.62493      0.62145   0.757     {}\n",
       "8                MLPClassifier     0.60732      0.59333  51.045     {}\n",
       "9         ExtraTreesClassifier     0.60704      0.60608  10.691     {}\n",
       "10           BaggingClassifier     0.59363      0.58311   6.063     {}\n",
       "11      DecisionTreeClassifier     0.53661      0.51978   1.145     {}"
      ]
     },
     "execution_count": 61,
     "metadata": {},
     "output_type": "execute_result"
    }
   ],
   "source": [
    "#   1. Алгоритмы для y_bin\n",
    "# ? -----------------------------------\n",
    "res_clf_a, mod_clf_a = run_select(\n",
    "    X_train, y_train, X_valid, y_valid,\n",
    "    './results/clf_best_alg.csv', \n",
    "    'No',\n",
    "    m_select,\n",
    "    algs_clf, \n",
    "    set_algs_clf, \n",
    "    'gscv', \n",
    "    'accuracy', \n",
    "    cv=10,\n",
    "    scor_test=True, # проводить проверку на валидац. выборке\n",
    "    time_drop=False # не удалять из вывода время на поиск\n",
    ")\n",
    "res_clf_a"
   ]
  },
  {
   "cell_type": "markdown",
   "metadata": {},
   "source": [
    "##### 1.3.2.2 Подбор гиперпараметров классификаторов"
   ]
  },
  {
   "cell_type": "code",
   "execution_count": 62,
   "metadata": {},
   "outputs": [],
   "source": [
    "mdls_clf = []\n",
    "set_mdls_clf = []\n",
    "# ---------------------------\n",
    "mdls_clf.append(SVC(probability=True, random_state=21))\n",
    "set_mdls_clf.append( {\n",
    "    'kernel': (\"linear\", 'rbf', 'sigmoid'), \n",
    "    'C': np.logspace(-2, 2, 5),   \n",
    "    'gamma': ['scale', 'auto'],\n",
    "})\n",
    "# ---------------------------\n",
    "mdls_clf.append(LogisticRegression(random_state=21))\n",
    "set_mdls_clf.append({\n",
    "    'penalty' : ['l1', 'l2', 'none'],\n",
    "    'C' : np.logspace(-2, 1, 10),\n",
    "    'fit_intercept' : [True, False],\n",
    "    'solver' : ['saga'],\n",
    "    'max_iter':  [int(x) for x in np.linspace(50, 1000, 5)],\n",
    "    'class_weight':['balanced', None],\n",
    "})\n",
    "# ---------------------------\n",
    "mdls_clf.append(GradientBoostingClassifier(random_state=21))\n",
    "set_mdls_clf.append({\n",
    "    'learning_rate': np.logspace(-3, 1, 4),\n",
    "    'n_estimators': [int(x) for x in np.linspace(50, 200, 3)],\n",
    "    'min_samples_split': [int(x) for x in np.linspace(2, 50, 3)],\n",
    "    'min_samples_leaf': [int(x) for x in np.linspace(1, 50, 3)],\n",
    "    'max_depth': [int(x) for x in np.linspace(3, 15, 3)],\n",
    "})\n",
    "# ---------------------------\n",
    "mdls_clf.append(RidgeClassifier(random_state=21))\n",
    "set_mdls_clf.append({\n",
    "    \"alpha\": np.logspace(-3, 1, 5),\n",
    "    \"fit_intercept\": [True, False],\n",
    "    \"normalize\": [False, True],\n",
    "    \"copy_X\": [True, False],\n",
    "    \"max_iter\": [int(x) for x in np.linspace(50, 10000, 3)],\n",
    "    \"tol\": np.logspace(-5, 0, 4),\n",
    "    \"class_weight\": ['balanced', None],\n",
    "    # \"solver\": [],\n",
    "    \"positive\": [False, True],\n",
    "    # \"random_state\": [],\n",
    "})\n"
   ]
  },
  {
   "cell_type": "code",
   "execution_count": 63,
   "metadata": {},
   "outputs": [
    {
     "data": {
      "text/html": [
       "<div>\n",
       "<style scoped>\n",
       "    .dataframe tbody tr th:only-of-type {\n",
       "        vertical-align: middle;\n",
       "    }\n",
       "\n",
       "    .dataframe tbody tr th {\n",
       "        vertical-align: top;\n",
       "    }\n",
       "\n",
       "    .dataframe thead th {\n",
       "        text-align: right;\n",
       "    }\n",
       "</style>\n",
       "<table border=\"1\" class=\"dataframe\">\n",
       "  <thead>\n",
       "    <tr style=\"text-align: right;\">\n",
       "      <th></th>\n",
       "      <th>model</th>\n",
       "      <th>test_score</th>\n",
       "      <th>train_score</th>\n",
       "      <th>time</th>\n",
       "      <th>params</th>\n",
       "    </tr>\n",
       "  </thead>\n",
       "  <tbody>\n",
       "    <tr>\n",
       "      <th>0</th>\n",
       "      <td>SVC</td>\n",
       "      <td>0.68418</td>\n",
       "      <td>0.68041</td>\n",
       "      <td>1259.024</td>\n",
       "      <td>{'kernel': 'rbf', 'gamma': 'scale', 'C': 1.0}</td>\n",
       "    </tr>\n",
       "    <tr>\n",
       "      <th>1</th>\n",
       "      <td>LogisticRegression</td>\n",
       "      <td>0.68139</td>\n",
       "      <td>0.67849</td>\n",
       "      <td>111.543</td>\n",
       "      <td>{'solver': 'saga', 'penalty': 'l2', 'max_iter'...</td>\n",
       "    </tr>\n",
       "    <tr>\n",
       "      <th>2</th>\n",
       "      <td>GradientBoostingClassifier</td>\n",
       "      <td>0.67943</td>\n",
       "      <td>0.67622</td>\n",
       "      <td>343.273</td>\n",
       "      <td>{'n_estimators': 125, 'min_samples_split': 2, ...</td>\n",
       "    </tr>\n",
       "    <tr>\n",
       "      <th>3</th>\n",
       "      <td>RidgeClassifier</td>\n",
       "      <td>0.67859</td>\n",
       "      <td>0.67831</td>\n",
       "      <td>1.142</td>\n",
       "      <td>{'tol': 0.0004641588833612782, 'positive': Fal...</td>\n",
       "    </tr>\n",
       "  </tbody>\n",
       "</table>\n",
       "</div>"
      ],
      "text/plain": [
       "                        model  test_score  train_score      time  \\\n",
       "0                         SVC     0.68418      0.68041  1259.024   \n",
       "1          LogisticRegression     0.68139      0.67849   111.543   \n",
       "2  GradientBoostingClassifier     0.67943      0.67622   343.273   \n",
       "3             RidgeClassifier     0.67859      0.67831     1.142   \n",
       "\n",
       "                                              params  \n",
       "0      {'kernel': 'rbf', 'gamma': 'scale', 'C': 1.0}  \n",
       "1  {'solver': 'saga', 'penalty': 'l2', 'max_iter'...  \n",
       "2  {'n_estimators': 125, 'min_samples_split': 2, ...  \n",
       "3  {'tol': 0.0004641588833612782, 'positive': Fal...  "
      ]
     },
     "execution_count": 63,
     "metadata": {},
     "output_type": "execute_result"
    }
   ],
   "source": [
    "#   1. Гиперпараметры для y_bin\n",
    "# ? -----------------------------------\n",
    "res_clf_m, mod_clf_m = run_select(\n",
    "    X_train, y_train, X_test, y_test,\n",
    "    './results/clf_best_mod.csv', \n",
    "    './results/clf_best_mod.sav',\n",
    "    m_select,\n",
    "    mdls_clf, \n",
    "    set_mdls_clf, \n",
    "    'gsrn', \n",
    "    'accuracy', \n",
    "    cv=5,\n",
    "    scor_test=True, \n",
    "    time_drop=False\n",
    ")\n",
    "res_clf_m\n",
    "# ? -----------------------------------"
   ]
  },
  {
   "cell_type": "markdown",
   "metadata": {},
   "source": [
    "Топ-20 важных признаков"
   ]
  },
  {
   "cell_type": "code",
   "execution_count": 64,
   "metadata": {},
   "outputs": [
    {
     "data": {
      "image/png": "[encoded data removed]",
      "text/plain": [
       "<Figure size 1200x500 with 1 Axes>"
      ]
     },
     "metadata": {},
     "output_type": "display_data"
    }
   ],
   "source": [
    "f_importances(abs(mod_clf_m[1].coef_[0]), X_train.columns, top=20)"
   ]
  },
  {
   "cell_type": "code",
   "execution_count": 65,
   "metadata": {},
   "outputs": [
    {
     "data": {
      "image/png": "[encoded data removed]",
      "text/plain": [
       "<Figure size 1200x500 with 1 Axes>"
      ]
     },
     "metadata": {},
     "output_type": "display_data"
    }
   ],
   "source": [
    "f_importances(abs(mod_clf_m[2].feature_importances_[0:20]), X_train.columns, top=20)"
   ]
  },
  {
   "cell_type": "markdown",
   "metadata": {},
   "source": [
    "#### 1.3.3 Рассчитайте значение accuracy наивного классификатора, в котором вы для всех наблюдений прогнозируете наиболее распространенный класс. Сравните метрики."
   ]
  },
  {
   "cell_type": "code",
   "execution_count": 66,
   "metadata": {},
   "outputs": [
    {
     "name": "stdout",
     "output_type": "stream",
     "text": [
      "Значение accuracy наивного классификатора: 0.66474\n"
     ]
    }
   ],
   "source": [
    "top_class = y_train.value_counts()[:1].index.tolist()[0]\n",
    "acc_naiv_clf = sum(y_test == top_class)/len(y_test)\n",
    "print(\"Значение accuracy наивного классификатора: %0.5f\" % acc_naiv_clf)"
   ]
  },
  {
   "cell_type": "markdown",
   "metadata": {},
   "source": [
    "Метрики классификаторов с подобранными гиперпараметрами не существенно отличаются от метрики наивного прогноза"
   ]
  },
  {
   "cell_type": "markdown",
   "metadata": {},
   "source": [
    "#### 1.3.4 Снова проведите бинаризацию целевого столбца, преобразовав теперь целые числа в классы bad (0, 1) (невкусное), so-so (2, 3) (нормальное), great (4, 5) (вкусное)."
   ]
  },
  {
   "cell_type": "code",
   "execution_count": 67,
   "metadata": {},
   "outputs": [],
   "source": [
    "cut_labels = ['bad', 'so-so', 'great']\n",
    "cut_bins = [0, 2, 4, 6]\n",
    "\n",
    "y = pd.cut(y, bins=cut_bins, labels=cut_labels, right=False)\n",
    "\n",
    "tvt = TrainValidationTest(X, y)\n",
    "X_train, X_valid, X_test, y_train, y_valid, y_test = tvt.get_TVT()\n",
    "\n",
    "# Датафрейм с новым таргетом для удобства\n",
    "df_cut = pd.concat([title, X, y], axis=1)\n"
   ]
  },
  {
   "cell_type": "code",
   "execution_count": 68,
   "metadata": {},
   "outputs": [
    {
     "data": {
      "text/plain": [
       "great    14483\n",
       "so-so     1942\n",
       "bad       1785\n",
       "Name: rating, dtype: int64"
      ]
     },
     "execution_count": 68,
     "metadata": {},
     "output_type": "execute_result"
    }
   ],
   "source": [
    "y.value_counts()"
   ]
  },
  {
   "cell_type": "code",
   "execution_count": 69,
   "metadata": {},
   "outputs": [
    {
     "data": {
      "text/plain": [
       "great    0.795332\n",
       "so-so    0.106645\n",
       "bad      0.098023\n",
       "Name: rating, dtype: float64"
      ]
     },
     "execution_count": 69,
     "metadata": {},
     "output_type": "execute_result"
    }
   ],
   "source": [
    "y.value_counts(normalize=True)"
   ]
  },
  {
   "cell_type": "markdown",
   "metadata": {},
   "source": [
    "Классы сильно несбалансированы!"
   ]
  },
  {
   "cell_type": "markdown",
   "metadata": {},
   "source": [
    "#### 1.3.5 Снова для прогнозирования классов попробуйте различные алгоритмы и их гиперпараметры. Выберите лучшее решение на основе кроссвалидации и посчитайте accuracy на тестовой подвыборке."
   ]
  },
  {
   "cell_type": "markdown",
   "metadata": {},
   "source": [
    "##### 1.3.5.1 Выбор алгоритма классификатора"
   ]
  },
  {
   "cell_type": "code",
   "execution_count": 70,
   "metadata": {},
   "outputs": [
    {
     "data": {
      "text/html": [
       "<div>\n",
       "<style scoped>\n",
       "    .dataframe tbody tr th:only-of-type {\n",
       "        vertical-align: middle;\n",
       "    }\n",
       "\n",
       "    .dataframe tbody tr th {\n",
       "        vertical-align: top;\n",
       "    }\n",
       "\n",
       "    .dataframe thead th {\n",
       "        text-align: right;\n",
       "    }\n",
       "</style>\n",
       "<table border=\"1\" class=\"dataframe\">\n",
       "  <thead>\n",
       "    <tr style=\"text-align: right;\">\n",
       "      <th></th>\n",
       "      <th>model</th>\n",
       "      <th>test_score</th>\n",
       "      <th>train_score</th>\n",
       "      <th>time</th>\n",
       "      <th>params</th>\n",
       "    </tr>\n",
       "  </thead>\n",
       "  <tbody>\n",
       "    <tr>\n",
       "      <th>0</th>\n",
       "      <td>LogisticRegression</td>\n",
       "      <td>0.80439</td>\n",
       "      <td>0.80119</td>\n",
       "      <td>3.094</td>\n",
       "      <td>{}</td>\n",
       "    </tr>\n",
       "    <tr>\n",
       "      <th>1</th>\n",
       "      <td>SVC</td>\n",
       "      <td>0.80302</td>\n",
       "      <td>0.80333</td>\n",
       "      <td>170.505</td>\n",
       "      <td>{}</td>\n",
       "    </tr>\n",
       "    <tr>\n",
       "      <th>2</th>\n",
       "      <td>RidgeClassifier</td>\n",
       "      <td>0.80199</td>\n",
       "      <td>0.80170</td>\n",
       "      <td>0.640</td>\n",
       "      <td>{}</td>\n",
       "    </tr>\n",
       "    <tr>\n",
       "      <th>3</th>\n",
       "      <td>GradientBoostingClassifier</td>\n",
       "      <td>0.80130</td>\n",
       "      <td>0.80067</td>\n",
       "      <td>29.167</td>\n",
       "      <td>{}</td>\n",
       "    </tr>\n",
       "    <tr>\n",
       "      <th>4</th>\n",
       "      <td>AdaBoostClassifier</td>\n",
       "      <td>0.79856</td>\n",
       "      <td>0.80136</td>\n",
       "      <td>4.976</td>\n",
       "      <td>{}</td>\n",
       "    </tr>\n",
       "    <tr>\n",
       "      <th>5</th>\n",
       "      <td>LinearDiscriminantAnalysis</td>\n",
       "      <td>0.79822</td>\n",
       "      <td>0.79432</td>\n",
       "      <td>2.225</td>\n",
       "      <td>{}</td>\n",
       "    </tr>\n",
       "    <tr>\n",
       "      <th>6</th>\n",
       "      <td>RandomForestClassifier</td>\n",
       "      <td>0.78998</td>\n",
       "      <td>0.79441</td>\n",
       "      <td>10.915</td>\n",
       "      <td>{}</td>\n",
       "    </tr>\n",
       "    <tr>\n",
       "      <th>7</th>\n",
       "      <td>ExtraTreesClassifier</td>\n",
       "      <td>0.77694</td>\n",
       "      <td>0.78008</td>\n",
       "      <td>16.037</td>\n",
       "      <td>{}</td>\n",
       "    </tr>\n",
       "    <tr>\n",
       "      <th>8</th>\n",
       "      <td>KNeighborsClassifier</td>\n",
       "      <td>0.76253</td>\n",
       "      <td>0.76497</td>\n",
       "      <td>1.042</td>\n",
       "      <td>{}</td>\n",
       "    </tr>\n",
       "    <tr>\n",
       "      <th>9</th>\n",
       "      <td>BaggingClassifier</td>\n",
       "      <td>0.75566</td>\n",
       "      <td>0.75871</td>\n",
       "      <td>13.925</td>\n",
       "      <td>{}</td>\n",
       "    </tr>\n",
       "    <tr>\n",
       "      <th>10</th>\n",
       "      <td>MLPClassifier</td>\n",
       "      <td>0.74262</td>\n",
       "      <td>0.73571</td>\n",
       "      <td>88.259</td>\n",
       "      <td>{}</td>\n",
       "    </tr>\n",
       "    <tr>\n",
       "      <th>11</th>\n",
       "      <td>DecisionTreeClassifier</td>\n",
       "      <td>0.67159</td>\n",
       "      <td>0.67736</td>\n",
       "      <td>2.387</td>\n",
       "      <td>{}</td>\n",
       "    </tr>\n",
       "  </tbody>\n",
       "</table>\n",
       "</div>"
      ],
      "text/plain": [
       "                         model  test_score  train_score     time params\n",
       "0           LogisticRegression     0.80439      0.80119    3.094     {}\n",
       "1                          SVC     0.80302      0.80333  170.505     {}\n",
       "2              RidgeClassifier     0.80199      0.80170    0.640     {}\n",
       "3   GradientBoostingClassifier     0.80130      0.80067   29.167     {}\n",
       "4           AdaBoostClassifier     0.79856      0.80136    4.976     {}\n",
       "5   LinearDiscriminantAnalysis     0.79822      0.79432    2.225     {}\n",
       "6       RandomForestClassifier     0.78998      0.79441   10.915     {}\n",
       "7         ExtraTreesClassifier     0.77694      0.78008   16.037     {}\n",
       "8         KNeighborsClassifier     0.76253      0.76497    1.042     {}\n",
       "9            BaggingClassifier     0.75566      0.75871   13.925     {}\n",
       "10               MLPClassifier     0.74262      0.73571   88.259     {}\n",
       "11      DecisionTreeClassifier     0.67159      0.67736    2.387     {}"
      ]
     },
     "execution_count": 70,
     "metadata": {},
     "output_type": "execute_result"
    }
   ],
   "source": [
    "#   2. Алгоритмы для y_cut (22 минуты)\n",
    "# ? -----------------------------------\n",
    "res_clf2_a, mod_clf2_a = run_select(\n",
    "    X_train, y_train, X_valid, y_valid,\n",
    "    './results/clf2_best_alg.csv', \n",
    "    'No',\n",
    "    m_select,\n",
    "    algs_clf, \n",
    "    set_algs_clf, \n",
    "    'gscv', \n",
    "    'accuracy', \n",
    "    cv=10,\n",
    "    scor_test=True, # проводить проверку на тесте\n",
    "    time_drop=False # не удалять из вывода время на поиск\n",
    ")\n",
    "res_clf2_a\n",
    "# ? -----------------------------------"
   ]
  },
  {
   "cell_type": "markdown",
   "metadata": {},
   "source": [
    "##### 1.3.5.2 Подбор гиперпараметров классификатора"
   ]
  },
  {
   "cell_type": "code",
   "execution_count": 71,
   "metadata": {},
   "outputs": [],
   "source": [
    "mdls_clf2 = []\n",
    "set_mdls_clf2 = []\n",
    "# ---------------------------\n",
    "mdls_clf2.append(SVC(probability=True, random_state=21))\n",
    "set_mdls_clf2.append( {\n",
    "    'kernel': (\"linear\", 'rbf', 'sigmoid'), \n",
    "    'C': np.logspace(-2, 2, 5),   \n",
    "    'gamma': ['scale', 'auto'],\n",
    "})\n",
    "# ---------------------------\n",
    "# fit_intercept=False,\n",
    "mdls_clf2.append(AdaBoostClassifier(random_state=21))\n",
    "set_mdls_clf2.append({\n",
    "    # \"base_estimator\":[],\n",
    "    \"n_estimators\":[int(x) for x in np.linspace(50, 200, 3)],\n",
    "    \"learning_rate\":np.logspace(-3, 1, 4),\n",
    "    \"algorithm\":[\"SAMME\",\"SAMME.R\"],\n",
    "    # \"random_state\":[],\n",
    "})\n",
    "# ---------------------------\n",
    "mdls_clf2.append(GradientBoostingClassifier(random_state=21))\n",
    "set_mdls_clf2.append({\n",
    "    'learning_rate': np.logspace(-3, 1, 4),\n",
    "    'n_estimators': [int(x) for x in np.linspace(50, 200, 3)],\n",
    "    'min_samples_split': [int(x) for x in np.linspace(2, 50, 3)],\n",
    "    'min_samples_leaf': [int(x) for x in np.linspace(1, 50, 3)],\n",
    "    'max_depth': [int(x) for x in np.linspace(1, 15, 3)],\n",
    "})\n",
    "# ---------------------------\n",
    "mdls_clf2.append(LogisticRegression(random_state=21))\n",
    "set_mdls_clf2.append({\n",
    "    'penalty' : ['l1', 'l2', 'none'],\n",
    "    'C' : np.logspace(-2, 1, 10),\n",
    "    'fit_intercept' : [True, False],\n",
    "    'solver' : ['saga'],\n",
    "    'max_iter':  [int(x) for x in np.linspace(50, 1000, 5)],\n",
    "    'class_weight':['balanced', None],\n",
    "})"
   ]
  },
  {
   "cell_type": "code",
   "execution_count": 72,
   "metadata": {},
   "outputs": [
    {
     "data": {
      "text/html": [
       "<div>\n",
       "<style scoped>\n",
       "    .dataframe tbody tr th:only-of-type {\n",
       "        vertical-align: middle;\n",
       "    }\n",
       "\n",
       "    .dataframe tbody tr th {\n",
       "        vertical-align: top;\n",
       "    }\n",
       "\n",
       "    .dataframe thead th {\n",
       "        text-align: right;\n",
       "    }\n",
       "</style>\n",
       "<table border=\"1\" class=\"dataframe\">\n",
       "  <thead>\n",
       "    <tr style=\"text-align: right;\">\n",
       "      <th></th>\n",
       "      <th>model</th>\n",
       "      <th>test_score</th>\n",
       "      <th>train_score</th>\n",
       "      <th>params</th>\n",
       "    </tr>\n",
       "  </thead>\n",
       "  <tbody>\n",
       "    <tr>\n",
       "      <th>0</th>\n",
       "      <td>SVC</td>\n",
       "      <td>0.80520</td>\n",
       "      <td>0.80243</td>\n",
       "      <td>{'kernel': 'linear', 'gamma': 'auto', 'C': 100.0}</td>\n",
       "    </tr>\n",
       "    <tr>\n",
       "      <th>1</th>\n",
       "      <td>LogisticRegression</td>\n",
       "      <td>0.80436</td>\n",
       "      <td>0.80278</td>\n",
       "      <td>{'solver': 'saga', 'penalty': 'l2', 'max_iter'...</td>\n",
       "    </tr>\n",
       "    <tr>\n",
       "      <th>2</th>\n",
       "      <td>GradientBoostingClassifier</td>\n",
       "      <td>0.80408</td>\n",
       "      <td>0.80260</td>\n",
       "      <td>{'n_estimators': 50, 'min_samples_split': 2, '...</td>\n",
       "    </tr>\n",
       "    <tr>\n",
       "      <th>3</th>\n",
       "      <td>AdaBoostClassifier</td>\n",
       "      <td>0.80324</td>\n",
       "      <td>0.80225</td>\n",
       "      <td>{'n_estimators': 50, 'learning_rate': 0.001, '...</td>\n",
       "    </tr>\n",
       "  </tbody>\n",
       "</table>\n",
       "</div>"
      ],
      "text/plain": [
       "                        model  test_score  train_score  \\\n",
       "0                         SVC     0.80520      0.80243   \n",
       "1          LogisticRegression     0.80436      0.80278   \n",
       "2  GradientBoostingClassifier     0.80408      0.80260   \n",
       "3          AdaBoostClassifier     0.80324      0.80225   \n",
       "\n",
       "                                              params  \n",
       "0  {'kernel': 'linear', 'gamma': 'auto', 'C': 100.0}  \n",
       "1  {'solver': 'saga', 'penalty': 'l2', 'max_iter'...  \n",
       "2  {'n_estimators': 50, 'min_samples_split': 2, '...  \n",
       "3  {'n_estimators': 50, 'learning_rate': 0.001, '...  "
      ]
     },
     "execution_count": 72,
     "metadata": {},
     "output_type": "execute_result"
    }
   ],
   "source": [
    "#   2. Гиперпараметры для y_cut\n",
    "# ? -----------------------------------\n",
    "res_clf2_m, mod_clf2_m = run_select(\n",
    "    X_train, y_train, X_test, y_test,\n",
    "    './results/clf2_best_mod.csv', \n",
    "    './results/clf2_best_mod.sav',\n",
    "    m_select,\n",
    "    mdls_clf2, \n",
    "    set_mdls_clf2, \n",
    "    'gsrn', \n",
    "    'accuracy', \n",
    "    cv=5,\n",
    "    scor_test=True # проводить проверку на тесте\n",
    ")\n",
    "res_clf2_m\n",
    "# ? -----------------------------------"
   ]
  },
  {
   "cell_type": "markdown",
   "metadata": {},
   "source": [
    "Топ-20 важных признаков"
   ]
  },
  {
   "cell_type": "code",
   "execution_count": 73,
   "metadata": {},
   "outputs": [
    {
     "data": {
      "image/png": "[encoded data removed]",
      "text/plain": [
       "<Figure size 1200x500 with 1 Axes>"
      ]
     },
     "metadata": {},
     "output_type": "display_data"
    }
   ],
   "source": [
    "f_importances(abs(mod_clf2_m[1].coef_[0]), X_train.columns, top=20)"
   ]
  },
  {
   "cell_type": "code",
   "execution_count": 74,
   "metadata": {},
   "outputs": [
    {
     "data": {
      "image/png": "[encoded data removed]",
      "text/plain": [
       "<Figure size 1200x500 with 1 Axes>"
      ]
     },
     "metadata": {},
     "output_type": "display_data"
    }
   ],
   "source": [
    "f_importances(abs(mod_clf2_m[2].feature_importances_[0:20]), X_train.columns, top=20)"
   ]
  },
  {
   "cell_type": "markdown",
   "metadata": {},
   "source": [
    "#### 1.3.6 Снова рассчитайте значение accuracy наивного классификатора, в котором вы для всех наблюдений прогнозируете наиболее распространенный класс. Сравните метрики."
   ]
  },
  {
   "cell_type": "code",
   "execution_count": 75,
   "metadata": {},
   "outputs": [
    {
     "name": "stdout",
     "output_type": "stream",
     "text": [
      "Наиболее распространенный класс: great\n",
      "Значение accuracy наивного классификатора: 0.79544\n"
     ]
    }
   ],
   "source": [
    "top_class = y_train.value_counts()[:1].index.tolist()[0]\n",
    "acc_naiv_clf = sum(y_test == top_class)/len(y_test)\n",
    "print(\"Наиболее распространенный класс:\", top_class)\n",
    "print(\"Значение accuracy наивного классификатора: %0.5f\" % acc_naiv_clf)"
   ]
  },
  {
   "cell_type": "markdown",
   "metadata": {},
   "source": [
    "Метрики наивного прогноза не сильно отличаются от метрик классификааторов с подобранными гиперпараметрами."
   ]
  },
  {
   "cell_type": "markdown",
   "metadata": {},
   "source": [
    "#### 1.3.7 Что хуже: спрогнозировать плохой рейтинг, который на самом деле окажется хорошим, или спрогнозировать хороший рейтинг, который на самом деле окажется плохим? Замените метрику accuracy другой соответствующей метрикой."
   ]
  },
  {
   "cell_type": "markdown",
   "metadata": {},
   "source": [
    "Спрогнозировать хороший рейтинг, который на самом деле окажется плохим - хуже, чем спрогнозировать плохой рейтинг который окажется хорошим. При такой постановке вопроса, контроль за предсказанием хорошего рейтинга должен быть жестче, чем за предсказаением плохого рейтинга. "
   ]
  },
  {
   "cell_type": "markdown",
   "metadata": {},
   "source": [
    "https://pythonru.com/baza-znanij/metriki-accuracy-precision-i-recall"
   ]
  },
  {
   "cell_type": "markdown",
   "metadata": {},
   "source": [
    "`Метрика accuracy`"
   ]
  },
  {
   "cell_type": "markdown",
   "metadata": {},
   "source": [
    "\"Accuracy — это показатель, который описывает общую точность предсказания модели по всем классам. Это особенно полезно, когда каждый класс одинаково важен. Он рассчитывается как отношение количества правильных прогнозов к их общему количеству.\""
   ]
  },
  {
   "cell_type": "markdown",
   "metadata": {},
   "source": [
    "\"Стоит учесть, что метрика accuracy может быть обманчивой. Один из таких случаев — это несбалансированные данные. Предположим, у нас есть всего 600 единиц данных, из которых 550 относятся к классу Positive и только 50 — к Negative. Поскольку большинство семплов принадлежит к одному классу, accuracy для этого класса будет выше, чем для другого.\n",
    "\n",
    "Если модель сделала 530 правильных прогнозов из 550 для класса Positive, по сравнению с 5 из 50 для Negative, то общая accuracy равна (530 + 5) / 600 = 0.8917. Это означает, что точность модели составляет 89.17%. Полагаясь на это значение, вы можете подумать, что для любой выборки (независимо от ее класса) модель сделает правильный прогноз в 89.17% случаев. Это неверно, так как для класса Negative модель работает очень плохо.\""
   ]
  },
  {
   "cell_type": "markdown",
   "metadata": {},
   "source": [
    "Баланс классов в процентах:"
   ]
  },
  {
   "cell_type": "code",
   "execution_count": 76,
   "metadata": {},
   "outputs": [
    {
     "data": {
      "text/plain": [
       "great    0.795349\n",
       "so-so    0.106659\n",
       "bad      0.097992\n",
       "Name: rating, dtype: float64"
      ]
     },
     "execution_count": 76,
     "metadata": {},
     "output_type": "execute_result"
    }
   ],
   "source": [
    "y_train.value_counts(normalize=True)"
   ]
  },
  {
   "cell_type": "markdown",
   "metadata": {},
   "source": [
    "Наши классы сильно несбалансированы. Поэтому метрика accuracy не дает реального представления о том на сколько хорошо работает наша модель."
   ]
  },
  {
   "cell_type": "markdown",
   "metadata": {},
   "source": [
    "`Метрика recall`"
   ]
  },
  {
   "cell_type": "markdown",
   "metadata": {},
   "source": [
    "\"Recall заботится только о том, как классифицируются Positive выборки. Эта метрика не зависит от того, как предсказываются Negative семплы, в отличие от precision. Когда модель верно классифицирует все Positive выборки, recall будет 100%, даже если все представители класса Negative были ошибочно определены как Positive\""
   ]
  },
  {
   "cell_type": "markdown",
   "metadata": {},
   "source": [
    "Эта метрика не подходит, так как не контролирует избыточное предсказание хорошего рейтинга"
   ]
  },
  {
   "cell_type": "markdown",
   "metadata": {},
   "source": [
    "`Метрика precision.`"
   ]
  },
  {
   "cell_type": "markdown",
   "metadata": {},
   "source": [
    "\"Precision представляет собой отношение числа семплов, верно классифицированных как Positive, к общему числу выборок с меткой Positive (распознанных правильно и неправильно). Precision измеряет точность модели при определении класса Positive.\n",
    "Precision отражает, насколько надежна модель при классификации Positive-меток\". "
   ]
  },
  {
   "cell_type": "markdown",
   "metadata": {},
   "source": [
    "Это именно та метрика которая нужна для контроля за предсказанием хорошего рейтинга."
   ]
  },
  {
   "cell_type": "markdown",
   "metadata": {},
   "source": [
    "#### 1.3.8 Для прогнозирования классов с новой метрикой опробуйте различные алгоритмы и их гиперпараметры. Выберите лучшее решение и посчитайте метрику на тестовой подвыборке"
   ]
  },
  {
   "cell_type": "markdown",
   "metadata": {},
   "source": [
    "https://scikit-learn.ru/3-3-metrics-and-scoring-quantifying-the-quality-of-predictions/\n",
    "\n",
    "- \"\"micro\" дает каждой паре выборка-класс равный вклад в общую метрику (за исключением результата взвешивания выборки). Вместо того, чтобы суммировать метрику для каждого класса, это суммирует дивиденды и делители, составляющие метрики для каждого класса, для расчета общего частного. Микро-усреднение может быть предпочтительным в настройках с несколькими ярлыками, включая многоклассовую классификацию, когда класс большинства следует игнорировать.\"\n"
   ]
  },
  {
   "cell_type": "markdown",
   "metadata": {},
   "source": [
    "Так как в датасете очень несбалансированные классы, из за чего модель может давать много ложных прогнозов преобладающего класса \"great\", то значение \"micro\", на мой взгляд, подходит для наших данных"
   ]
  },
  {
   "cell_type": "markdown",
   "metadata": {},
   "source": [
    "##### Метрика - precision"
   ]
  },
  {
   "cell_type": "code",
   "execution_count": 77,
   "metadata": {},
   "outputs": [],
   "source": [
    "precision_scorer = make_scorer(\n",
    "    precision_score, \n",
    "    greater_is_better=True, # чем болше, тем лучше \n",
    "    average='weighted',# учет дисбаланса классов\n",
    "    )"
   ]
  },
  {
   "cell_type": "markdown",
   "metadata": {},
   "source": [
    "##### Precision для наивного классификатора 0.6327"
   ]
  },
  {
   "cell_type": "code",
   "execution_count": 78,
   "metadata": {},
   "outputs": [
    {
     "data": {
      "text/plain": [
       "0.6327280784525886"
      ]
     },
     "execution_count": 78,
     "metadata": {},
     "output_type": "execute_result"
    }
   ],
   "source": [
    "top_class = y_train.value_counts()[:1].index.tolist()[0]\n",
    "y_naiv = pd.Series(top_class, index=range(len(y_test)))\n",
    "precision_score(y_test, y_naiv, average='weighted')"
   ]
  },
  {
   "cell_type": "markdown",
   "metadata": {},
   "source": [
    "##### 1.3.8.1 Выбор алгоритма классификатора с новой метрикой"
   ]
  },
  {
   "cell_type": "code",
   "execution_count": 79,
   "metadata": {},
   "outputs": [
    {
     "data": {
      "text/html": [
       "<div>\n",
       "<style scoped>\n",
       "    .dataframe tbody tr th:only-of-type {\n",
       "        vertical-align: middle;\n",
       "    }\n",
       "\n",
       "    .dataframe tbody tr th {\n",
       "        vertical-align: top;\n",
       "    }\n",
       "\n",
       "    .dataframe thead th {\n",
       "        text-align: right;\n",
       "    }\n",
       "</style>\n",
       "<table border=\"1\" class=\"dataframe\">\n",
       "  <thead>\n",
       "    <tr style=\"text-align: right;\">\n",
       "      <th></th>\n",
       "      <th>model</th>\n",
       "      <th>test_score</th>\n",
       "      <th>train_score</th>\n",
       "      <th>time</th>\n",
       "      <th>params</th>\n",
       "    </tr>\n",
       "  </thead>\n",
       "  <tbody>\n",
       "    <tr>\n",
       "      <th>0</th>\n",
       "      <td>RandomForestClassifier</td>\n",
       "      <td>0.71132</td>\n",
       "      <td>0.72421</td>\n",
       "      <td>10.747</td>\n",
       "      <td>{}</td>\n",
       "    </tr>\n",
       "    <tr>\n",
       "      <th>1</th>\n",
       "      <td>LinearDiscriminantAnalysis</td>\n",
       "      <td>0.71012</td>\n",
       "      <td>0.71430</td>\n",
       "      <td>2.370</td>\n",
       "      <td>{}</td>\n",
       "    </tr>\n",
       "    <tr>\n",
       "      <th>2</th>\n",
       "      <td>LogisticRegression</td>\n",
       "      <td>0.70716</td>\n",
       "      <td>0.71442</td>\n",
       "      <td>3.357</td>\n",
       "      <td>{}</td>\n",
       "    </tr>\n",
       "    <tr>\n",
       "      <th>3</th>\n",
       "      <td>SVC</td>\n",
       "      <td>0.70645</td>\n",
       "      <td>0.70877</td>\n",
       "      <td>166.106</td>\n",
       "      <td>{}</td>\n",
       "    </tr>\n",
       "    <tr>\n",
       "      <th>4</th>\n",
       "      <td>MLPClassifier</td>\n",
       "      <td>0.70574</td>\n",
       "      <td>0.70204</td>\n",
       "      <td>83.549</td>\n",
       "      <td>{}</td>\n",
       "    </tr>\n",
       "    <tr>\n",
       "      <th>5</th>\n",
       "      <td>GradientBoostingClassifier</td>\n",
       "      <td>0.70281</td>\n",
       "      <td>0.71018</td>\n",
       "      <td>29.084</td>\n",
       "      <td>{}</td>\n",
       "    </tr>\n",
       "    <tr>\n",
       "      <th>6</th>\n",
       "      <td>RidgeClassifier</td>\n",
       "      <td>0.70239</td>\n",
       "      <td>0.70161</td>\n",
       "      <td>2.153</td>\n",
       "      <td>{}</td>\n",
       "    </tr>\n",
       "    <tr>\n",
       "      <th>7</th>\n",
       "      <td>AdaBoostClassifier</td>\n",
       "      <td>0.69548</td>\n",
       "      <td>0.70947</td>\n",
       "      <td>5.001</td>\n",
       "      <td>{}</td>\n",
       "    </tr>\n",
       "    <tr>\n",
       "      <th>8</th>\n",
       "      <td>ExtraTreesClassifier</td>\n",
       "      <td>0.69544</td>\n",
       "      <td>0.70606</td>\n",
       "      <td>15.734</td>\n",
       "      <td>{}</td>\n",
       "    </tr>\n",
       "    <tr>\n",
       "      <th>9</th>\n",
       "      <td>KNeighborsClassifier</td>\n",
       "      <td>0.68904</td>\n",
       "      <td>0.69194</td>\n",
       "      <td>1.014</td>\n",
       "      <td>{}</td>\n",
       "    </tr>\n",
       "    <tr>\n",
       "      <th>10</th>\n",
       "      <td>BaggingClassifier</td>\n",
       "      <td>0.68483</td>\n",
       "      <td>0.69898</td>\n",
       "      <td>13.635</td>\n",
       "      <td>{}</td>\n",
       "    </tr>\n",
       "    <tr>\n",
       "      <th>11</th>\n",
       "      <td>DecisionTreeClassifier</td>\n",
       "      <td>0.68341</td>\n",
       "      <td>0.68775</td>\n",
       "      <td>2.556</td>\n",
       "      <td>{}</td>\n",
       "    </tr>\n",
       "  </tbody>\n",
       "</table>\n",
       "</div>"
      ],
      "text/plain": [
       "                         model  test_score  train_score     time params\n",
       "0       RandomForestClassifier     0.71132      0.72421   10.747     {}\n",
       "1   LinearDiscriminantAnalysis     0.71012      0.71430    2.370     {}\n",
       "2           LogisticRegression     0.70716      0.71442    3.357     {}\n",
       "3                          SVC     0.70645      0.70877  166.106     {}\n",
       "4                MLPClassifier     0.70574      0.70204   83.549     {}\n",
       "5   GradientBoostingClassifier     0.70281      0.71018   29.084     {}\n",
       "6              RidgeClassifier     0.70239      0.70161    2.153     {}\n",
       "7           AdaBoostClassifier     0.69548      0.70947    5.001     {}\n",
       "8         ExtraTreesClassifier     0.69544      0.70606   15.734     {}\n",
       "9         KNeighborsClassifier     0.68904      0.69194    1.014     {}\n",
       "10           BaggingClassifier     0.68483      0.69898   13.635     {}\n",
       "11      DecisionTreeClassifier     0.68341      0.68775    2.556     {}"
      ]
     },
     "execution_count": 79,
     "metadata": {},
     "output_type": "execute_result"
    }
   ],
   "source": [
    "#   3. Алгоритмы для Precision\n",
    "# ? -----------------------------------\n",
    "res_clf3_a, mod_clf3_a = run_select(\n",
    "    X_train, y_train, X_valid, y_valid,\n",
    "    './results/clf3_best_alg.csv', \n",
    "    'No', # модели не сохранять\n",
    "    m_select,\n",
    "    algs_clf, \n",
    "    set_algs_clf, \n",
    "    'gscv', \n",
    "    precision_scorer, \n",
    "    cv=10,\n",
    "    scor_test=True, # проводить проверку на тесте\n",
    "    time_drop=False # не удалять из вывода время на поиск\n",
    ")\n",
    "res_clf3_a\n",
    "# ? -----------------------------------"
   ]
  },
  {
   "cell_type": "markdown",
   "metadata": {},
   "source": [
    "##### 1.3.8.2 Балансировка классов - Ресамплинг"
   ]
  },
  {
   "cell_type": "code",
   "execution_count": 80,
   "metadata": {},
   "outputs": [],
   "source": [
    "df_cut_train = pd.concat([X_train, y_train], axis=1)\n",
    "great = df_cut_train[df_cut['rating']=='great']\n",
    "so_so = df_cut_train[df_cut['rating']=='so-so']\n",
    "bad = df_cut_train[df_cut['rating']=='bad']"
   ]
  },
  {
   "cell_type": "code",
   "execution_count": 81,
   "metadata": {},
   "outputs": [],
   "source": [
    "# Класс bad\n",
    "bad_upsampled = resample(bad ,\n",
    "                          replace=True, \n",
    "                          n_samples=len(great), \n",
    "                          random_state=21) \n",
    "\n",
    "# Класс so-so\n",
    "so_so_upsampled = resample(so_so ,\n",
    "                          replace=True, \n",
    "                          n_samples=len(great), \n",
    "                          random_state=21) "
   ]
  },
  {
   "cell_type": "code",
   "execution_count": 82,
   "metadata": {},
   "outputs": [],
   "source": [
    "# Новый датасет\n",
    "df_sample = pd.concat([great, bad_upsampled, so_so_upsampled])"
   ]
  },
  {
   "cell_type": "markdown",
   "metadata": {},
   "source": [
    "Теперь классы сбалансированы"
   ]
  },
  {
   "cell_type": "code",
   "execution_count": 83,
   "metadata": {},
   "outputs": [
    {
     "data": {
      "text/plain": [
       "bad      0.333333\n",
       "so-so    0.333333\n",
       "great    0.333333\n",
       "Name: rating, dtype: float64"
      ]
     },
     "execution_count": 83,
     "metadata": {},
     "output_type": "execute_result"
    }
   ],
   "source": [
    "y = df_sample['rating']\n",
    "y.value_counts(normalize=True)"
   ]
  },
  {
   "cell_type": "code",
   "execution_count": 84,
   "metadata": {},
   "outputs": [],
   "source": [
    "X_train = df_sample.drop(['rating'],axis=1)\n",
    "y_train = df_sample['rating']"
   ]
  },
  {
   "cell_type": "markdown",
   "metadata": {},
   "source": [
    "--------------------------"
   ]
  },
  {
   "cell_type": "markdown",
   "metadata": {},
   "source": [
    "##### 1.3.8.3 Выбор алгоритма классификатора с новой метрикой и ребалансом классов"
   ]
  },
  {
   "cell_type": "code",
   "execution_count": 87,
   "metadata": {},
   "outputs": [],
   "source": [
    "algs_clf = []\n",
    "set_algs_clf = []\n",
    "# Линейные алгоритмы:\n",
    "algs_clf.append(RidgeClassifier()) \n",
    "set_algs_clf.append({})\n",
    "algs_clf.append((LogisticRegression()))\n",
    "set_algs_clf.append({})\n",
    "algs_clf.append((LinearDiscriminantAnalysis()))\n",
    "set_algs_clf.append({})\n",
    "# Нелинейные алгоритмы:\n",
    "algs_clf.append((KNeighborsClassifier()))\n",
    "set_algs_clf.append({})\n",
    "algs_clf.append((DecisionTreeClassifier()))\n",
    "set_algs_clf.append({})\n",
    "# algs_clf.append((LinearSVC()))\n",
    "# set_algs_clf.append({})\n",
    "# algs_clf.append((SVC()))\n",
    "# set_algs_clf.append({})\n",
    "# Алгоритм искусственной нейронной сети:\n",
    "algs_clf.append((MLPClassifier()))\n",
    "set_algs_clf.append({})\n",
    "# Ансамблевые алгоритмы:\n",
    "algs_clf.append((AdaBoostClassifier(algorithm='SAMME')))\n",
    "set_algs_clf.append({})\n",
    "algs_clf.append((RandomForestClassifier()))\n",
    "set_algs_clf.append({})\n",
    "algs_clf.append((BaggingClassifier()))\n",
    "set_algs_clf.append({})\n",
    "algs_clf.append((ExtraTreesClassifier()))\n",
    "set_algs_clf.append({})\n",
    "algs_clf.append((GradientBoostingClassifier()))\n",
    "set_algs_clf.append({})"
   ]
  },
  {
   "cell_type": "code",
   "execution_count": 89,
   "metadata": {},
   "outputs": [
    {
     "data": {
      "text/html": [
       "<div>\n",
       "<style scoped>\n",
       "    .dataframe tbody tr th:only-of-type {\n",
       "        vertical-align: middle;\n",
       "    }\n",
       "\n",
       "    .dataframe tbody tr th {\n",
       "        vertical-align: top;\n",
       "    }\n",
       "\n",
       "    .dataframe thead th {\n",
       "        text-align: right;\n",
       "    }\n",
       "</style>\n",
       "<table border=\"1\" class=\"dataframe\">\n",
       "  <thead>\n",
       "    <tr style=\"text-align: right;\">\n",
       "      <th></th>\n",
       "      <th>model</th>\n",
       "      <th>train_score</th>\n",
       "      <th>time</th>\n",
       "      <th>params</th>\n",
       "    </tr>\n",
       "  </thead>\n",
       "  <tbody>\n",
       "    <tr>\n",
       "      <th>0</th>\n",
       "      <td>ExtraTreesClassifier</td>\n",
       "      <td>0.97673</td>\n",
       "      <td>35.644</td>\n",
       "      <td>{}</td>\n",
       "    </tr>\n",
       "    <tr>\n",
       "      <th>1</th>\n",
       "      <td>RandomForestClassifier</td>\n",
       "      <td>0.96745</td>\n",
       "      <td>24.352</td>\n",
       "      <td>{}</td>\n",
       "    </tr>\n",
       "    <tr>\n",
       "      <th>2</th>\n",
       "      <td>MLPClassifier</td>\n",
       "      <td>0.94422</td>\n",
       "      <td>149.005</td>\n",
       "      <td>{}</td>\n",
       "    </tr>\n",
       "    <tr>\n",
       "      <th>3</th>\n",
       "      <td>BaggingClassifier</td>\n",
       "      <td>0.92714</td>\n",
       "      <td>27.529</td>\n",
       "      <td>{}</td>\n",
       "    </tr>\n",
       "    <tr>\n",
       "      <th>4</th>\n",
       "      <td>DecisionTreeClassifier</td>\n",
       "      <td>0.91042</td>\n",
       "      <td>4.286</td>\n",
       "      <td>{}</td>\n",
       "    </tr>\n",
       "    <tr>\n",
       "      <th>9</th>\n",
       "      <td>KNeighborsClassifier</td>\n",
       "      <td>0.79584</td>\n",
       "      <td>4.684</td>\n",
       "      <td>{}</td>\n",
       "    </tr>\n",
       "    <tr>\n",
       "      <th>6</th>\n",
       "      <td>GradientBoostingClassifier</td>\n",
       "      <td>0.58636</td>\n",
       "      <td>72.626</td>\n",
       "      <td>{}</td>\n",
       "    </tr>\n",
       "    <tr>\n",
       "      <th>7</th>\n",
       "      <td>LogisticRegression</td>\n",
       "      <td>0.57385</td>\n",
       "      <td>7.101</td>\n",
       "      <td>{}</td>\n",
       "    </tr>\n",
       "    <tr>\n",
       "      <th>8</th>\n",
       "      <td>RidgeClassifier</td>\n",
       "      <td>0.56709</td>\n",
       "      <td>1.198</td>\n",
       "      <td>{}</td>\n",
       "    </tr>\n",
       "    <tr>\n",
       "      <th>5</th>\n",
       "      <td>LinearDiscriminantAnalysis</td>\n",
       "      <td>0.56464</td>\n",
       "      <td>6.019</td>\n",
       "      <td>{}</td>\n",
       "    </tr>\n",
       "    <tr>\n",
       "      <th>10</th>\n",
       "      <td>AdaBoostClassifier</td>\n",
       "      <td>0.46014</td>\n",
       "      <td>11.550</td>\n",
       "      <td>{}</td>\n",
       "    </tr>\n",
       "  </tbody>\n",
       "</table>\n",
       "</div>"
      ],
      "text/plain": [
       "                         model  train_score     time params\n",
       "0         ExtraTreesClassifier      0.97673   35.644     {}\n",
       "1       RandomForestClassifier      0.96745   24.352     {}\n",
       "2                MLPClassifier      0.94422  149.005     {}\n",
       "3            BaggingClassifier      0.92714   27.529     {}\n",
       "4       DecisionTreeClassifier      0.91042    4.286     {}\n",
       "9         KNeighborsClassifier      0.79584    4.684     {}\n",
       "6   GradientBoostingClassifier      0.58636   72.626     {}\n",
       "7           LogisticRegression      0.57385    7.101     {}\n",
       "8              RidgeClassifier      0.56709    1.198     {}\n",
       "5   LinearDiscriminantAnalysis      0.56464    6.019     {}\n",
       "10          AdaBoostClassifier      0.46014   11.550     {}"
      ]
     },
     "execution_count": 89,
     "metadata": {},
     "output_type": "execute_result"
    }
   ],
   "source": [
    "#   4. Алгоритмы для Ресамплинга и Precision\n",
    "# ? -----------------------------------\n",
    "res_clf4_a, mod_clf4_a = run_select(\n",
    "    X_train, y_train, X_valid, y_valid,\n",
    "    './results/clf4_best_alg.csv', \n",
    "    'No', # модели не сохранять\n",
    "    m_select,\n",
    "    algs_clf, \n",
    "    set_algs_clf, \n",
    "    'gscv', \n",
    "    precision_scorer, \n",
    "    cv=10,\n",
    "    scor_test=False, # проводить проверку на тесте\n",
    "    time_drop=False # не удалять из вывода время на поиск\n",
    ")\n",
    "res_clf4_a\n",
    "# ? -----------------------------------"
   ]
  },
  {
   "cell_type": "code",
   "execution_count": 200,
   "metadata": {},
   "outputs": [],
   "source": [
    "# -----------------------------------------\n",
    "# \n",
    "# -----------------------------------------\n",
    "# mod_len = ExtraTreesClassifier(random_state=21)\n",
    "# mod_len.fit(X_train, y_train)\n",
    "# saving_model(mod_len,'./models/ETClf(0.95880)_1.sav')"
   ]
  },
  {
   "cell_type": "markdown",
   "metadata": {},
   "source": [
    "##### 1.3.8.3 Гиперпараметры классификаторов с новой метрикой и ребалансом"
   ]
  },
  {
   "cell_type": "code",
   "execution_count": 90,
   "metadata": {},
   "outputs": [],
   "source": [
    "mdls_clf4 = []\n",
    "set_mdls_clf4 = []\n",
    "# ---------------------------\n",
    "mdls_clf4.append(ExtraTreesClassifier(random_state=21))\n",
    "set_mdls_clf4.append( {\n",
    "    'class_weight':['balanced'],\n",
    "    'n_estimators':[int(x) for x in np.linspace(5, 1000, 4)],\n",
    "    # 'criterion':[\"gini\",\"entropy\",\"log_loss\"],\n",
    "    'max_depth':[int(x) for x in np.linspace(2, 50, 3)],\n",
    "    'min_samples_split':[int(x) for x in np.linspace(2, 5, 3)],\n",
    "    'min_samples_leaf':[int(x) for x in np.linspace(1, 5, 3)],\n",
    "    # 'bootstrap': [True, False],\n",
    "})\n",
    "# ---------------------------\n",
    "# fit_intercept=False,\n",
    "mdls_clf4.append(RandomForestClassifier(random_state=21))\n",
    "set_mdls_clf4.append({\n",
    "    'class_weight':['balanced'],\n",
    "    'n_estimators':[int(x) for x in np.linspace(5, 1000, 4)],\n",
    "    # 'criterion':[\"gini\",\"entropy\",\"log_loss\"],\n",
    "    'max_depth':[int(x) for x in np.linspace(2, 50, 3)],\n",
    "    'min_samples_split':[int(x) for x in np.linspace(2, 5, 3)],\n",
    "    'min_samples_leaf':[int(x) for x in np.linspace(1, 5, 3)],\n",
    "    # 'bootstrap': [True, False],\n",
    "})\n",
    "\n",
    "# ---------------------------\n",
    "mdls_clf4.append(DecisionTreeClassifier(random_state=21))\n",
    "set_mdls_clf4.append({\n",
    "    'class_weight':['balanced'],\n",
    "    'splitter':['best', 'random'],\n",
    "    # 'criterion':[\"gini\",\"entropy\",\"log_loss\"],\n",
    "    'max_depth':[int(x) for x in np.linspace(2, 50, 3)],\n",
    "    'min_samples_split':[int(x) for x in np.linspace(2, 5, 3)],\n",
    "    'min_samples_leaf':[int(x) for x in np.linspace(1, 5, 3)],\n",
    "})"
   ]
  },
  {
   "cell_type": "code",
   "execution_count": 91,
   "metadata": {},
   "outputs": [
    {
     "data": {
      "text/html": [
       "<div>\n",
       "<style scoped>\n",
       "    .dataframe tbody tr th:only-of-type {\n",
       "        vertical-align: middle;\n",
       "    }\n",
       "\n",
       "    .dataframe tbody tr th {\n",
       "        vertical-align: top;\n",
       "    }\n",
       "\n",
       "    .dataframe thead th {\n",
       "        text-align: right;\n",
       "    }\n",
       "</style>\n",
       "<table border=\"1\" class=\"dataframe\">\n",
       "  <thead>\n",
       "    <tr style=\"text-align: right;\">\n",
       "      <th></th>\n",
       "      <th>model</th>\n",
       "      <th>test_score</th>\n",
       "      <th>train_score</th>\n",
       "      <th>params</th>\n",
       "    </tr>\n",
       "  </thead>\n",
       "  <tbody>\n",
       "    <tr>\n",
       "      <th>0</th>\n",
       "      <td>ExtraTreesClassifier</td>\n",
       "      <td>0.76249</td>\n",
       "      <td>0.98420</td>\n",
       "      <td>{'class_weight': 'balanced', 'n_estimators': 6...</td>\n",
       "    </tr>\n",
       "    <tr>\n",
       "      <th>1</th>\n",
       "      <td>RandomForestClassifier</td>\n",
       "      <td>0.75673</td>\n",
       "      <td>0.98277</td>\n",
       "      <td>{'class_weight': 'balanced', 'n_estimators': 1...</td>\n",
       "    </tr>\n",
       "    <tr>\n",
       "      <th>2</th>\n",
       "      <td>DecisionTreeClassifier</td>\n",
       "      <td>0.58347</td>\n",
       "      <td>0.96374</td>\n",
       "      <td>{'class_weight': 'balanced', 'splitter': 'rand...</td>\n",
       "    </tr>\n",
       "  </tbody>\n",
       "</table>\n",
       "</div>"
      ],
      "text/plain": [
       "                    model  test_score  train_score  \\\n",
       "0    ExtraTreesClassifier     0.76249      0.98420   \n",
       "1  RandomForestClassifier     0.75673      0.98277   \n",
       "2  DecisionTreeClassifier     0.58347      0.96374   \n",
       "\n",
       "                                              params  \n",
       "0  {'class_weight': 'balanced', 'n_estimators': 6...  \n",
       "1  {'class_weight': 'balanced', 'n_estimators': 1...  \n",
       "2  {'class_weight': 'balanced', 'splitter': 'rand...  "
      ]
     },
     "execution_count": 91,
     "metadata": {},
     "output_type": "execute_result"
    }
   ],
   "source": [
    "#   3. Гиперпараметры для классификаторов с новой метрикой\n",
    "# ? -----------------------------------\n",
    "res_clf4_m, mod_clf4_m = run_select(\n",
    "    X_train, y_train, X_test, y_test,\n",
    "    './results/clf4_best_mod.csv', \n",
    "    './results/clf4_best_mod.sav',\n",
    "    m_select,\n",
    "    mdls_clf4, \n",
    "    set_mdls_clf4, \n",
    "    'gspb', \n",
    "    precision_scorer, \n",
    "    cv=5,\n",
    "    scor_test=True, # проводить проверку на тесте\n",
    "    time_drop=True\n",
    ")\n",
    "res_clf4_m\n",
    "# ? -----------------------------------"
   ]
  },
  {
   "cell_type": "markdown",
   "metadata": {},
   "source": [
    "Топ-20 важных признаков"
   ]
  },
  {
   "cell_type": "code",
   "execution_count": 92,
   "metadata": {},
   "outputs": [
    {
     "data": {
      "image/png": "[encoded data removed]",
      "text/plain": [
       "<Figure size 1200x500 with 1 Axes>"
      ]
     },
     "metadata": {},
     "output_type": "display_data"
    }
   ],
   "source": [
    "f_importances(abs(mod_clf4_m[0].feature_importances_[0:20]), X_train.columns, top=20)"
   ]
  },
  {
   "cell_type": "markdown",
   "metadata": {},
   "source": [
    "#### 1.3.9 Попробуйте различные ансамбли и их гиперпараметры. Выберите лучшее решение и посчитайте метрику на тестовой подвыборке."
   ]
  },
  {
   "cell_type": "markdown",
   "metadata": {},
   "source": [
    "##### 1.3.9.1 Обучить лучшие модели перед использованием в ансамблях"
   ]
  },
  {
   "cell_type": "markdown",
   "metadata": {},
   "source": [
    "`Модели обучены на предыдущем этапе`"
   ]
  },
  {
   "cell_type": "markdown",
   "metadata": {},
   "source": [
    "##### 1.3.9.2 Подбор гиперпараметров для ансамблей классификаторов"
   ]
  },
  {
   "cell_type": "code",
   "execution_count": 93,
   "metadata": {},
   "outputs": [],
   "source": [
    "ens_clf = []\n",
    "ens_clf_set = []\n",
    "\n",
    "estimators = [\n",
    "    ('etclf',mod_clf4_m[0]),\n",
    "    ('rfclf',mod_clf4_m[1]),\n",
    "    ('dtclf',mod_clf4_m[2]),\n",
    "]\n",
    "\n",
    "skfolds = []\n",
    "for i in range(2, 10):\n",
    "    skfolds.append(StratifiedKFold(shuffle=True, random_state=21))\n",
    "\n",
    "# -----------------------------------------------------\n",
    "ens_clf.append(StackingClassifier(estimators=estimators))\n",
    "ens_clf_set.append({\n",
    "    'final_estimator': [\n",
    "        RandomForestClassifier()\n",
    "        ],\n",
    "    'cv': skfolds,\n",
    "})\n",
    "# -----------------------------------------------------\n",
    "ens_clf.append(VotingClassifier(estimators=estimators))\n",
    "ens_clf_set.append({\n",
    "    'weights': [[1,2,3],[3,2,1],[2,3,1],[3,1,2]],\n",
    "})\n",
    "# ---------------------------\n",
    "ens_clf.append(BaggingClassifier(random_state=21))\n",
    "ens_clf_set.append({\n",
    "    #int, default=10\n",
    "    'n_estimators':[int(x) for x in np.linspace(5, 100, 4)],\n",
    "    #bool, default=True\n",
    "    'bootstrap':[True, False],\n",
    "    #bool, default=False\n",
    "    'bootstrap_features':[True, False],\n",
    "})"
   ]
  },
  {
   "cell_type": "code",
   "execution_count": 94,
   "metadata": {},
   "outputs": [
    {
     "data": {
      "text/html": [
       "<div>\n",
       "<style scoped>\n",
       "    .dataframe tbody tr th:only-of-type {\n",
       "        vertical-align: middle;\n",
       "    }\n",
       "\n",
       "    .dataframe tbody tr th {\n",
       "        vertical-align: top;\n",
       "    }\n",
       "\n",
       "    .dataframe thead th {\n",
       "        text-align: right;\n",
       "    }\n",
       "</style>\n",
       "<table border=\"1\" class=\"dataframe\">\n",
       "  <thead>\n",
       "    <tr style=\"text-align: right;\">\n",
       "      <th></th>\n",
       "      <th>model</th>\n",
       "      <th>test_score</th>\n",
       "      <th>train_score</th>\n",
       "      <th>params</th>\n",
       "    </tr>\n",
       "  </thead>\n",
       "  <tbody>\n",
       "    <tr>\n",
       "      <th>0</th>\n",
       "      <td>StackingClassifier</td>\n",
       "      <td>0.79325</td>\n",
       "      <td>0.99451</td>\n",
       "      <td>{'final_estimator': RandomForestClassifier(), ...</td>\n",
       "    </tr>\n",
       "    <tr>\n",
       "      <th>1</th>\n",
       "      <td>BaggingClassifier</td>\n",
       "      <td>0.78171</td>\n",
       "      <td>0.98983</td>\n",
       "      <td>{'n_estimators': 100, 'bootstrap': False, 'boo...</td>\n",
       "    </tr>\n",
       "    <tr>\n",
       "      <th>2</th>\n",
       "      <td>VotingClassifier</td>\n",
       "      <td>0.75975</td>\n",
       "      <td>0.98240</td>\n",
       "      <td>{'weights': [3, 2, 1]}</td>\n",
       "    </tr>\n",
       "  </tbody>\n",
       "</table>\n",
       "</div>"
      ],
      "text/plain": [
       "                model  test_score  train_score  \\\n",
       "0  StackingClassifier     0.79325      0.99451   \n",
       "1   BaggingClassifier     0.78171      0.98983   \n",
       "2    VotingClassifier     0.75975      0.98240   \n",
       "\n",
       "                                              params  \n",
       "0  {'final_estimator': RandomForestClassifier(), ...  \n",
       "1  {'n_estimators': 100, 'bootstrap': False, 'boo...  \n",
       "2                             {'weights': [3, 2, 1]}  "
      ]
     },
     "execution_count": 94,
     "metadata": {},
     "output_type": "execute_result"
    }
   ],
   "source": [
    "#    Гиперпараметры для ансамблей\n",
    "# ? -----------------------------------\n",
    "res_clf4_e, mod_clf4_e = run_select(\n",
    "    X_train, y_train, X_test, y_test,\n",
    "    './results/clf4_best_ens_pb.csv', \n",
    "    './results/clf4_best_ens_pb.sav',\n",
    "    m_select,\n",
    "    ens_clf, \n",
    "    ens_clf_set, \n",
    "    'gspb', \n",
    "    precision_scorer, \n",
    "    cv=5,\n",
    "    scor_test = True # проводить проверку на тесте\n",
    ")\n",
    "res_clf4_e\n",
    "# ? -----------------------------------"
   ]
  },
  {
   "cell_type": "markdown",
   "metadata": {},
   "source": [
    "### 1.4 Принятие решения"
   ]
  },
  {
   "cell_type": "markdown",
   "metadata": {},
   "source": [
    "- Примите решение о том, что лучше использовать: регрессионную модель или классификацию. Сохраните выбранную модель. Вы будете использовать ее в основной программе."
   ]
  },
  {
   "cell_type": "markdown",
   "metadata": {},
   "source": [
    "Метрики лучших регрессионных моделей (RMSE: `-1.24597`) не сильно отличаются от метрики наивного регрессора (RMSE: `-1.32974`). Метрики лучших классификаторов на тестовой выборке (Precision: `0.79325`) лучше метрики наивного классификатора (Precision: `0.6327`)."
   ]
  },
  {
   "cell_type": "markdown",
   "metadata": {},
   "source": [
    "Лучше использовать классификацию."
   ]
  },
  {
   "cell_type": "code",
   "execution_count": 206,
   "metadata": {},
   "outputs": [
    {
     "name": "stdout",
     "output_type": "stream",
     "text": [
      "Models saved!\n"
     ]
    }
   ],
   "source": [
    "# -----------------------------------------\n",
    "#  Сохранение модели\n",
    "# -----------------------------------------\n",
    "# saving_model(mod_clf4_e[0],'./models/StackingClassifier(0.79325).sav')"
   ]
  },
  {
   "cell_type": "markdown",
   "metadata": {},
   "source": []
  },
  {
   "cell_type": "markdown",
   "metadata": {},
   "source": [
    "## 2. Пищевая ценность"
   ]
  },
  {
   "cell_type": "markdown",
   "metadata": {},
   "source": [
    "- Соберите в датафрейм всю информацию о пищевой ценности продуктов из подготовленного вами и отфильтрованного набора данных (только столбцы с продуктами). Используйте для этого следующий API.\n",
    "- Конвертируйте все значения в % от суточной нормы потребления. Сохраняйте только те ингридиенты, которые находятся в этой и этой таблицах.\n",
    "- Сохраните измененный датафрейм в CSV-файл, который вы будете использовать в своей основной программе."
   ]
  },
  {
   "cell_type": "code",
   "execution_count": 95,
   "metadata": {},
   "outputs": [
    {
     "data": {
      "text/html": [
       "<div>\n",
       "<style scoped>\n",
       "    .dataframe tbody tr th:only-of-type {\n",
       "        vertical-align: middle;\n",
       "    }\n",
       "\n",
       "    .dataframe tbody tr th {\n",
       "        vertical-align: top;\n",
       "    }\n",
       "\n",
       "    .dataframe thead th {\n",
       "        text-align: right;\n",
       "    }\n",
       "</style>\n",
       "<table border=\"1\" class=\"dataframe\">\n",
       "  <thead>\n",
       "    <tr style=\"text-align: right;\">\n",
       "      <th></th>\n",
       "      <th>Food\\rComponent</th>\n",
       "      <th>Unit of measure</th>\n",
       "      <th>Adults and Children ≥ 4\\ryears</th>\n",
       "      <th>Infants through 12\\rmonths</th>\n",
       "      <th>Children 1 through 3\\ryears</th>\n",
       "      <th>Pregnant women and\\rlactating women</th>\n",
       "    </tr>\n",
       "  </thead>\n",
       "  <tbody>\n",
       "    <tr>\n",
       "      <th>0</th>\n",
       "      <td>Fat</td>\n",
       "      <td>Grams (g)</td>\n",
       "      <td>178</td>\n",
       "      <td>30</td>\n",
       "      <td>239</td>\n",
       "      <td>178</td>\n",
       "    </tr>\n",
       "    <tr>\n",
       "      <th>1</th>\n",
       "      <td>Saturated fat</td>\n",
       "      <td>Grams (g)</td>\n",
       "      <td>120</td>\n",
       "      <td>N/A</td>\n",
       "      <td>210</td>\n",
       "      <td>120</td>\n",
       "    </tr>\n",
       "    <tr>\n",
       "      <th>2</th>\n",
       "      <td>Cholesterol</td>\n",
       "      <td>Milligrams (mg)</td>\n",
       "      <td>300</td>\n",
       "      <td>N/A</td>\n",
       "      <td>300</td>\n",
       "      <td>300</td>\n",
       "    </tr>\n",
       "    <tr>\n",
       "      <th>3</th>\n",
       "      <td>Total\\rcarbohydrates</td>\n",
       "      <td>Grams (g)</td>\n",
       "      <td>1275</td>\n",
       "      <td>95</td>\n",
       "      <td>2150</td>\n",
       "      <td>1275</td>\n",
       "    </tr>\n",
       "    <tr>\n",
       "      <th>4</th>\n",
       "      <td>Sodium</td>\n",
       "      <td>Milligrams (mg)</td>\n",
       "      <td>2,300</td>\n",
       "      <td>N/A</td>\n",
       "      <td>1,500</td>\n",
       "      <td>2,300</td>\n",
       "    </tr>\n",
       "    <tr>\n",
       "      <th>5</th>\n",
       "      <td>Dietary Fiber</td>\n",
       "      <td>Grams (g)</td>\n",
       "      <td>128</td>\n",
       "      <td>N/A</td>\n",
       "      <td>214</td>\n",
       "      <td>128</td>\n",
       "    </tr>\n",
       "    <tr>\n",
       "      <th>6</th>\n",
       "      <td>Protein</td>\n",
       "      <td>Grams (g)</td>\n",
       "      <td>150</td>\n",
       "      <td>N/A</td>\n",
       "      <td>213</td>\n",
       "      <td>N/A</td>\n",
       "    </tr>\n",
       "    <tr>\n",
       "      <th>7</th>\n",
       "      <td>Added sugars</td>\n",
       "      <td>Grams (g)</td>\n",
       "      <td>150</td>\n",
       "      <td>N/A</td>\n",
       "      <td>225</td>\n",
       "      <td>150</td>\n",
       "    </tr>\n",
       "  </tbody>\n",
       "</table>\n",
       "</div>"
      ],
      "text/plain": [
       "0       Food\\rComponent  Unit of measure Adults and Children ≥ 4\\ryears  \\\n",
       "0                   Fat        Grams (g)                            178   \n",
       "1         Saturated fat        Grams (g)                            120   \n",
       "2           Cholesterol  Milligrams (mg)                            300   \n",
       "3  Total\\rcarbohydrates        Grams (g)                           1275   \n",
       "4                Sodium  Milligrams (mg)                          2,300   \n",
       "5         Dietary Fiber        Grams (g)                            128   \n",
       "6               Protein        Grams (g)                            150   \n",
       "7          Added sugars        Grams (g)                            150   \n",
       "\n",
       "0 Infants through 12\\rmonths Children 1 through 3\\ryears  \\\n",
       "0                         30                         239   \n",
       "1                        N/A                         210   \n",
       "2                        N/A                         300   \n",
       "3                         95                        2150   \n",
       "4                        N/A                       1,500   \n",
       "5                        N/A                         214   \n",
       "6                        N/A                         213   \n",
       "7                        N/A                         225   \n",
       "\n",
       "0 Pregnant women and\\rlactating women  \n",
       "0                                 178  \n",
       "1                                 120  \n",
       "2                                 300  \n",
       "3                                1275  \n",
       "4                               2,300  \n",
       "5                                 128  \n",
       "6                                 N/A  \n",
       "7                                 150  "
      ]
     },
     "execution_count": 95,
     "metadata": {},
     "output_type": "execute_result"
    }
   ],
   "source": [
    "# Чтение из pdf\n",
    "from tabula import read_pdf\n",
    "df_nutr_0 = read_pdf(\".\\data\\Daily-Reference-Values-_DRVs_-under-the-New-NFL.pdf\", pages=\"all\")\n",
    "df_nutr_0 = df_nutr_0[0]\n",
    "headers = df_nutr_0.iloc[0]\n",
    "df_nutr_0  = pd.DataFrame(df_nutr_0.values[1:], columns=headers)\n",
    "df_nutr_0 "
   ]
  },
  {
   "cell_type": "code",
   "execution_count": 96,
   "metadata": {},
   "outputs": [
    {
     "data": {
      "text/html": [
       "<div>\n",
       "<style scoped>\n",
       "    .dataframe tbody tr th:only-of-type {\n",
       "        vertical-align: middle;\n",
       "    }\n",
       "\n",
       "    .dataframe tbody tr th {\n",
       "        vertical-align: top;\n",
       "    }\n",
       "\n",
       "    .dataframe thead th {\n",
       "        text-align: right;\n",
       "    }\n",
       "</style>\n",
       "<table border=\"1\" class=\"dataframe\">\n",
       "  <thead>\n",
       "    <tr style=\"text-align: right;\">\n",
       "      <th></th>\n",
       "      <th>Nutrient</th>\n",
       "      <th>Unit of measure</th>\n",
       "      <th>Adults and Children\\r≥ 4 years</th>\n",
       "      <th>1Infants through 12\\rmonths</th>\n",
       "      <th>Children 1 through 3\\ryears</th>\n",
       "      <th>Pregnant women\\rand lactating women</th>\n",
       "    </tr>\n",
       "  </thead>\n",
       "  <tbody>\n",
       "    <tr>\n",
       "      <th>0</th>\n",
       "      <td>Vitamin A</td>\n",
       "      <td>Micrograms RAE2 (mcg)</td>\n",
       "      <td>900</td>\n",
       "      <td>500</td>\n",
       "      <td>300</td>\n",
       "      <td>1,300</td>\n",
       "    </tr>\n",
       "    <tr>\n",
       "      <th>1</th>\n",
       "      <td>Vitamin C</td>\n",
       "      <td>Milligrams (mg)</td>\n",
       "      <td>90</td>\n",
       "      <td>50</td>\n",
       "      <td>15</td>\n",
       "      <td>120</td>\n",
       "    </tr>\n",
       "    <tr>\n",
       "      <th>2</th>\n",
       "      <td>Calcium</td>\n",
       "      <td>Milligrams (mg)</td>\n",
       "      <td>1,300</td>\n",
       "      <td>260</td>\n",
       "      <td>700</td>\n",
       "      <td>1,300</td>\n",
       "    </tr>\n",
       "    <tr>\n",
       "      <th>3</th>\n",
       "      <td>Iron</td>\n",
       "      <td>Milligrams (mg)</td>\n",
       "      <td>18</td>\n",
       "      <td>11</td>\n",
       "      <td>7</td>\n",
       "      <td>27</td>\n",
       "    </tr>\n",
       "    <tr>\n",
       "      <th>4</th>\n",
       "      <td>Vitamin D</td>\n",
       "      <td>Micrograms (mcg)3</td>\n",
       "      <td>20</td>\n",
       "      <td>10</td>\n",
       "      <td>15</td>\n",
       "      <td>15</td>\n",
       "    </tr>\n",
       "  </tbody>\n",
       "</table>\n",
       "</div>"
      ],
      "text/plain": [
       "0   Nutrient        Unit of measure Adults and Children\\r≥ 4 years  \\\n",
       "0  Vitamin A  Micrograms RAE2 (mcg)                            900   \n",
       "1  Vitamin C        Milligrams (mg)                             90   \n",
       "2    Calcium        Milligrams (mg)                          1,300   \n",
       "3       Iron        Milligrams (mg)                             18   \n",
       "4  Vitamin D      Micrograms (mcg)3                             20   \n",
       "\n",
       "0 1Infants through 12\\rmonths Children 1 through 3\\ryears  \\\n",
       "0                         500                         300   \n",
       "1                          50                          15   \n",
       "2                         260                         700   \n",
       "3                          11                           7   \n",
       "4                          10                          15   \n",
       "\n",
       "0 Pregnant women\\rand lactating women  \n",
       "0                               1,300  \n",
       "1                                 120  \n",
       "2                               1,300  \n",
       "3                                  27  \n",
       "4                                  15  "
      ]
     },
     "execution_count": 96,
     "metadata": {},
     "output_type": "execute_result"
    }
   ],
   "source": [
    "# Чтение из pdf\n",
    "from tabula import read_pdf\n",
    "df_nutr_1 = read_pdf(\".\\data\\Reference-Daily-Intakes-_RDIs_-in-the-New-Nutrition-Facts-Label.pdf\", pages=\"all\")\n",
    "df_nutr_1 = df_nutr_1[0]\n",
    "headers = df_nutr_1.iloc[0]\n",
    "df_nutr_1  = pd.DataFrame(df_nutr_1.values[1:], columns=headers)\n",
    "df_nutr_1.head() "
   ]
  },
  {
   "cell_type": "code",
   "execution_count": 97,
   "metadata": {},
   "outputs": [],
   "source": [
    "# Редакция имен столбцов и содание объединенного df нутриентов\n",
    "# --------------------------------------------\n",
    "df_nutr_0.rename({'Food\\rComponent':'Nutrient'},axis=1,inplace=True)\n",
    "\n",
    "df_nutr_0.rename({'Infants through 12\\rmonths':'Infants through 12 months'},axis=1,inplace=True)\n",
    "df_nutr_1.rename({'1Infants through 12\\rmonths':'Infants through 12 months'},axis=1,inplace=True)\n",
    "\n",
    "df_nutr_0.rename({'Pregnant women and\\rlactating women':'Pregnant women and lactating women'},axis=1,inplace=True)\n",
    "df_nutr_1.rename({'Pregnant women\\rand lactating women':'Pregnant women and lactating women'},axis=1,inplace=True)\n",
    "\n",
    "df_nutr_0.rename({'Adults and Children ≥ 4\\ryears':'Adults and Children ≥ 4 years'},axis=1,inplace=True)\n",
    "df_nutr_1.rename({'Adults and Children\\r≥ 4 years':'Adults and Children ≥ 4 years'},axis=1,inplace=True)\n",
    "\n",
    "df_nutr_0.rename({'Adults and Children ≥ 4\\ryears':'Adults and Children ≥ 4 years'},axis=1,inplace=True)\n",
    "df_nutr_1.rename({'Adults and Children\\r≥ 4 years':'Adults and Children ≥ 4 years'},axis=1,inplace=True)\n",
    "# --------------------------------------------\n",
    "df_nutr = pd.concat([df_nutr_0, df_nutr_1], ignore_index=True)"
   ]
  },
  {
   "cell_type": "code",
   "execution_count": 98,
   "metadata": {},
   "outputs": [],
   "source": [
    "# --------------------------------------------\n",
    "api_key = 'jxa3IoyvuTRnSoB2BHOGyh3iWINu5uZEjZgyHA24'"
   ]
  },
  {
   "cell_type": "code",
   "execution_count": 99,
   "metadata": {},
   "outputs": [],
   "source": [
    "# --------------------------------------------\n",
    "# Функция\n",
    "# --------------------------------------------\n",
    "def nutrient_explorer():\n",
    "    ''' \n",
    "    Собирает информацию по указанным нутриентам для указанных ингредиентов\n",
    "    \n",
    "    '''\n",
    "    # --------------------------------------------\n",
    "    # Создать датафрейм размером len(X.columns) X len(df_nutr['Nutrient']) заполненный 0\n",
    "    # --------------------------------------------\n",
    "    dict_n = {'ingr':X.columns.to_list()}\n",
    "    for ingred in df_nutr['Nutrient']:\n",
    "        dict_n[ingred] = [0]*len(X.columns)\n",
    "    dict_dff = pd.DataFrame(dict_n)\n",
    "    dict_dff = dict_dff.set_index('ingr')\n",
    "    # --------------------------------------------\n",
    "    log_err = [] # сбор информации об ощибках\n",
    "    # --------------------------------------------\n",
    "    for i, ingr in  enumerate(dict_dff.index): # итерация по строкам-ингредиентам\n",
    "        print(f\"Собрано {i} из {dict_dff.shape[0]}\")\n",
    "        try:\n",
    "            url_api = f'https://api.nal.usda.gov/fdc/v1/foods/search?query={ingr}&api_key={api_key}'\n",
    "            request = requests.get(url_api).json()\n",
    "            nutrs = request['foods'][0]['foodNutrients']\n",
    "            # --------------\n",
    "            print(ingr)\n",
    "            # Нутриенты по ингредиенту\n",
    "            for j, nutr in enumerate(nutrs): # итерация по колонкам-нутриентам\n",
    "                dkey = nutr['nutrientName']\n",
    "                if dkey in dict_dff.columns:\n",
    "                    print(\"in df_nutr['Nutrient']\", dkey, nutr['value'])\n",
    "                    dict_dff.at[ingr, dkey] = nutr['value']\n",
    "        except:\n",
    "            log_err.append(ingr) # сохранить все неудачные попытки\n",
    "            print(f\"Информацию об{ingr},собрать не удалось\")\n",
    "\n",
    "        # if i==10: break\n",
    "\n",
    "    # --------------------------------------------\n",
    "    # Сохранить результат в файл\n",
    "    dict_dff.to_csv('./data/NUTR_FRAME.csv') # датафрейм\n",
    "    saving_model(log_err, './data/log_err_nutr_frame.list') # ошибки\n",
    "\n",
    "    return dict_dff\n"
   ]
  },
  {
   "cell_type": "code",
   "execution_count": 100,
   "metadata": {},
   "outputs": [],
   "source": [
    "# --------------------------------------------\n",
    "# Время работы ф-ии может быть очень долгим!\n",
    "# --------------------------------------------\n",
    "# dict_dff = nutrient_explorer()"
   ]
  },
  {
   "cell_type": "code",
   "execution_count": 101,
   "metadata": {},
   "outputs": [
    {
     "data": {
      "text/html": [
       "<div>\n",
       "<style scoped>\n",
       "    .dataframe tbody tr th:only-of-type {\n",
       "        vertical-align: middle;\n",
       "    }\n",
       "\n",
       "    .dataframe tbody tr th {\n",
       "        vertical-align: top;\n",
       "    }\n",
       "\n",
       "    .dataframe thead th {\n",
       "        text-align: right;\n",
       "    }\n",
       "</style>\n",
       "<table border=\"1\" class=\"dataframe\">\n",
       "  <thead>\n",
       "    <tr style=\"text-align: right;\">\n",
       "      <th></th>\n",
       "      <th>ingr</th>\n",
       "      <th>Fat</th>\n",
       "      <th>Saturated fat</th>\n",
       "      <th>Cholesterol</th>\n",
       "      <th>Total\\rcarbohydrates</th>\n",
       "      <th>Sodium</th>\n",
       "      <th>Dietary Fiber</th>\n",
       "      <th>Protein</th>\n",
       "      <th>Added sugars</th>\n",
       "      <th>Vitamin A</th>\n",
       "      <th>...</th>\n",
       "      <th>Magnesium</th>\n",
       "      <th>Zinc</th>\n",
       "      <th>Selenium</th>\n",
       "      <th>Copper</th>\n",
       "      <th>Manganese</th>\n",
       "      <th>Chromium</th>\n",
       "      <th>Molybdenum</th>\n",
       "      <th>Chloride</th>\n",
       "      <th>Potassium</th>\n",
       "      <th>Choline</th>\n",
       "    </tr>\n",
       "  </thead>\n",
       "  <tbody>\n",
       "    <tr>\n",
       "      <th>0</th>\n",
       "      <td>almond</td>\n",
       "      <td>0</td>\n",
       "      <td>0</td>\n",
       "      <td>0</td>\n",
       "      <td>0</td>\n",
       "      <td>0</td>\n",
       "      <td>0</td>\n",
       "      <td>21.00</td>\n",
       "      <td>0</td>\n",
       "      <td>0</td>\n",
       "      <td>...</td>\n",
       "      <td>0</td>\n",
       "      <td>0</td>\n",
       "      <td>0</td>\n",
       "      <td>0</td>\n",
       "      <td>0</td>\n",
       "      <td>0</td>\n",
       "      <td>0</td>\n",
       "      <td>0</td>\n",
       "      <td>0</td>\n",
       "      <td>0</td>\n",
       "    </tr>\n",
       "    <tr>\n",
       "      <th>1</th>\n",
       "      <td>amaretto</td>\n",
       "      <td>0</td>\n",
       "      <td>0</td>\n",
       "      <td>0</td>\n",
       "      <td>0</td>\n",
       "      <td>0</td>\n",
       "      <td>0</td>\n",
       "      <td>0.00</td>\n",
       "      <td>0</td>\n",
       "      <td>0</td>\n",
       "      <td>...</td>\n",
       "      <td>0</td>\n",
       "      <td>0</td>\n",
       "      <td>0</td>\n",
       "      <td>0</td>\n",
       "      <td>0</td>\n",
       "      <td>0</td>\n",
       "      <td>0</td>\n",
       "      <td>0</td>\n",
       "      <td>0</td>\n",
       "      <td>0</td>\n",
       "    </tr>\n",
       "    <tr>\n",
       "      <th>2</th>\n",
       "      <td>anchovy</td>\n",
       "      <td>0</td>\n",
       "      <td>0</td>\n",
       "      <td>85</td>\n",
       "      <td>0</td>\n",
       "      <td>0</td>\n",
       "      <td>0</td>\n",
       "      <td>28.90</td>\n",
       "      <td>0</td>\n",
       "      <td>0</td>\n",
       "      <td>...</td>\n",
       "      <td>0</td>\n",
       "      <td>0</td>\n",
       "      <td>0</td>\n",
       "      <td>0</td>\n",
       "      <td>0</td>\n",
       "      <td>0</td>\n",
       "      <td>0</td>\n",
       "      <td>0</td>\n",
       "      <td>0</td>\n",
       "      <td>0</td>\n",
       "    </tr>\n",
       "    <tr>\n",
       "      <th>3</th>\n",
       "      <td>anise</td>\n",
       "      <td>0</td>\n",
       "      <td>0</td>\n",
       "      <td>0</td>\n",
       "      <td>0</td>\n",
       "      <td>0</td>\n",
       "      <td>0</td>\n",
       "      <td>17.60</td>\n",
       "      <td>0</td>\n",
       "      <td>0</td>\n",
       "      <td>...</td>\n",
       "      <td>0</td>\n",
       "      <td>0</td>\n",
       "      <td>0</td>\n",
       "      <td>0</td>\n",
       "      <td>0</td>\n",
       "      <td>0</td>\n",
       "      <td>0</td>\n",
       "      <td>0</td>\n",
       "      <td>0</td>\n",
       "      <td>0</td>\n",
       "    </tr>\n",
       "    <tr>\n",
       "      <th>4</th>\n",
       "      <td>anniversary</td>\n",
       "      <td>0</td>\n",
       "      <td>0</td>\n",
       "      <td>65</td>\n",
       "      <td>0</td>\n",
       "      <td>0</td>\n",
       "      <td>0</td>\n",
       "      <td>4.62</td>\n",
       "      <td>0</td>\n",
       "      <td>0</td>\n",
       "      <td>...</td>\n",
       "      <td>0</td>\n",
       "      <td>0</td>\n",
       "      <td>0</td>\n",
       "      <td>0</td>\n",
       "      <td>0</td>\n",
       "      <td>0</td>\n",
       "      <td>0</td>\n",
       "      <td>0</td>\n",
       "      <td>0</td>\n",
       "      <td>0</td>\n",
       "    </tr>\n",
       "    <tr>\n",
       "      <th>...</th>\n",
       "      <td>...</td>\n",
       "      <td>...</td>\n",
       "      <td>...</td>\n",
       "      <td>...</td>\n",
       "      <td>...</td>\n",
       "      <td>...</td>\n",
       "      <td>...</td>\n",
       "      <td>...</td>\n",
       "      <td>...</td>\n",
       "      <td>...</td>\n",
       "      <td>...</td>\n",
       "      <td>...</td>\n",
       "      <td>...</td>\n",
       "      <td>...</td>\n",
       "      <td>...</td>\n",
       "      <td>...</td>\n",
       "      <td>...</td>\n",
       "      <td>...</td>\n",
       "      <td>...</td>\n",
       "      <td>...</td>\n",
       "      <td>...</td>\n",
       "    </tr>\n",
       "    <tr>\n",
       "      <th>404</th>\n",
       "      <td>green onion/scallion</td>\n",
       "      <td>0</td>\n",
       "      <td>0</td>\n",
       "      <td>0</td>\n",
       "      <td>0</td>\n",
       "      <td>0</td>\n",
       "      <td>0</td>\n",
       "      <td>0.00</td>\n",
       "      <td>0</td>\n",
       "      <td>0</td>\n",
       "      <td>...</td>\n",
       "      <td>0</td>\n",
       "      <td>0</td>\n",
       "      <td>0</td>\n",
       "      <td>0</td>\n",
       "      <td>0</td>\n",
       "      <td>0</td>\n",
       "      <td>0</td>\n",
       "      <td>0</td>\n",
       "      <td>0</td>\n",
       "      <td>0</td>\n",
       "    </tr>\n",
       "    <tr>\n",
       "      <th>405</th>\n",
       "      <td>hominy/cornmeal/masa</td>\n",
       "      <td>0</td>\n",
       "      <td>0</td>\n",
       "      <td>4</td>\n",
       "      <td>0</td>\n",
       "      <td>0</td>\n",
       "      <td>0</td>\n",
       "      <td>1.45</td>\n",
       "      <td>0</td>\n",
       "      <td>0</td>\n",
       "      <td>...</td>\n",
       "      <td>0</td>\n",
       "      <td>0</td>\n",
       "      <td>0</td>\n",
       "      <td>0</td>\n",
       "      <td>0</td>\n",
       "      <td>0</td>\n",
       "      <td>0</td>\n",
       "      <td>0</td>\n",
       "      <td>0</td>\n",
       "      <td>0</td>\n",
       "    </tr>\n",
       "    <tr>\n",
       "      <th>406</th>\n",
       "      <td>phyllo/puff pastry dough</td>\n",
       "      <td>0</td>\n",
       "      <td>0</td>\n",
       "      <td>0</td>\n",
       "      <td>0</td>\n",
       "      <td>0</td>\n",
       "      <td>0</td>\n",
       "      <td>0.00</td>\n",
       "      <td>0</td>\n",
       "      <td>0</td>\n",
       "      <td>...</td>\n",
       "      <td>0</td>\n",
       "      <td>0</td>\n",
       "      <td>0</td>\n",
       "      <td>0</td>\n",
       "      <td>0</td>\n",
       "      <td>0</td>\n",
       "      <td>0</td>\n",
       "      <td>0</td>\n",
       "      <td>0</td>\n",
       "      <td>0</td>\n",
       "    </tr>\n",
       "    <tr>\n",
       "      <th>407</th>\n",
       "      <td>soufflé/meringue</td>\n",
       "      <td>0</td>\n",
       "      <td>0</td>\n",
       "      <td>0</td>\n",
       "      <td>0</td>\n",
       "      <td>0</td>\n",
       "      <td>0</td>\n",
       "      <td>0.00</td>\n",
       "      <td>0</td>\n",
       "      <td>0</td>\n",
       "      <td>...</td>\n",
       "      <td>0</td>\n",
       "      <td>0</td>\n",
       "      <td>0</td>\n",
       "      <td>0</td>\n",
       "      <td>0</td>\n",
       "      <td>0</td>\n",
       "      <td>0</td>\n",
       "      <td>0</td>\n",
       "      <td>0</td>\n",
       "      <td>0</td>\n",
       "    </tr>\n",
       "    <tr>\n",
       "      <th>408</th>\n",
       "      <td>stuffing/dressing</td>\n",
       "      <td>0</td>\n",
       "      <td>0</td>\n",
       "      <td>0</td>\n",
       "      <td>0</td>\n",
       "      <td>0</td>\n",
       "      <td>0</td>\n",
       "      <td>0.00</td>\n",
       "      <td>0</td>\n",
       "      <td>0</td>\n",
       "      <td>...</td>\n",
       "      <td>0</td>\n",
       "      <td>0</td>\n",
       "      <td>0</td>\n",
       "      <td>0</td>\n",
       "      <td>0</td>\n",
       "      <td>0</td>\n",
       "      <td>0</td>\n",
       "      <td>0</td>\n",
       "      <td>0</td>\n",
       "      <td>0</td>\n",
       "    </tr>\n",
       "  </tbody>\n",
       "</table>\n",
       "<p>409 rows × 36 columns</p>\n",
       "</div>"
      ],
      "text/plain": [
       "                         ingr  Fat  Saturated fat  Cholesterol  \\\n",
       "0                      almond    0              0            0   \n",
       "1                    amaretto    0              0            0   \n",
       "2                     anchovy    0              0           85   \n",
       "3                       anise    0              0            0   \n",
       "4                 anniversary    0              0           65   \n",
       "..                        ...  ...            ...          ...   \n",
       "404      green onion/scallion    0              0            0   \n",
       "405      hominy/cornmeal/masa    0              0            4   \n",
       "406  phyllo/puff pastry dough    0              0            0   \n",
       "407          soufflé/meringue    0              0            0   \n",
       "408         stuffing/dressing    0              0            0   \n",
       "\n",
       "     Total\\rcarbohydrates  Sodium  Dietary Fiber  Protein  Added sugars  \\\n",
       "0                       0       0              0    21.00             0   \n",
       "1                       0       0              0     0.00             0   \n",
       "2                       0       0              0    28.90             0   \n",
       "3                       0       0              0    17.60             0   \n",
       "4                       0       0              0     4.62             0   \n",
       "..                    ...     ...            ...      ...           ...   \n",
       "404                     0       0              0     0.00             0   \n",
       "405                     0       0              0     1.45             0   \n",
       "406                     0       0              0     0.00             0   \n",
       "407                     0       0              0     0.00             0   \n",
       "408                     0       0              0     0.00             0   \n",
       "\n",
       "     Vitamin A  ...  Magnesium  Zinc  Selenium  Copper  Manganese  Chromium  \\\n",
       "0            0  ...          0     0         0       0          0         0   \n",
       "1            0  ...          0     0         0       0          0         0   \n",
       "2            0  ...          0     0         0       0          0         0   \n",
       "3            0  ...          0     0         0       0          0         0   \n",
       "4            0  ...          0     0         0       0          0         0   \n",
       "..         ...  ...        ...   ...       ...     ...        ...       ...   \n",
       "404          0  ...          0     0         0       0          0         0   \n",
       "405          0  ...          0     0         0       0          0         0   \n",
       "406          0  ...          0     0         0       0          0         0   \n",
       "407          0  ...          0     0         0       0          0         0   \n",
       "408          0  ...          0     0         0       0          0         0   \n",
       "\n",
       "     Molybdenum  Chloride  Potassium  Choline  \n",
       "0             0         0          0        0  \n",
       "1             0         0          0        0  \n",
       "2             0         0          0        0  \n",
       "3             0         0          0        0  \n",
       "4             0         0          0        0  \n",
       "..          ...       ...        ...      ...  \n",
       "404           0         0          0        0  \n",
       "405           0         0          0        0  \n",
       "406           0         0          0        0  \n",
       "407           0         0          0        0  \n",
       "408           0         0          0        0  \n",
       "\n",
       "[409 rows x 36 columns]"
      ]
     },
     "execution_count": 101,
     "metadata": {},
     "output_type": "execute_result"
    }
   ],
   "source": [
    "dict_dff = pd.read_csv('./data/NUTR_FRAME.csv')\n",
    "dict_dff"
   ]
  },
  {
   "cell_type": "markdown",
   "metadata": {},
   "source": [
    "## 3. Похожие рецепты"
   ]
  },
  {
   "cell_type": "markdown",
   "metadata": {},
   "source": [
    "- Для каждого рецепта из набора данных найдите ссылку на сайте epicurious.com и подробную информацию о нем (название рецепта, рейтинг на платформе и URl). Если сделать это не удалось, найдите для данного рецепта похожую ссылку в Интернете.\n",
    "- Сохраните новый датафрейм в CSV-файл, который вы будете использовать в своей основной программе."
   ]
  },
  {
   "cell_type": "code",
   "execution_count": 102,
   "metadata": {},
   "outputs": [],
   "source": [
    "# -------------------------------------------\n",
    "# Функция. Проверка символов запросной строки\n",
    "# -------------------------------------------\n",
    "def check_query(query_string):\n",
    "    ''' \n",
    "    Проверка символов из которых состоит будущая строка запроса\n",
    "    Просто выводит все уникальные символы\n",
    "    '''\n",
    "    unique_chars = set()\n",
    "    for ttl in query_string:\n",
    "        for char in ttl.lower():\n",
    "            unique_chars.add(char)\n",
    "    print(sorted(unique_chars))"
   ]
  },
  {
   "cell_type": "code",
   "execution_count": 103,
   "metadata": {},
   "outputs": [],
   "source": [
    "# -------------------------------------------\n",
    "# Функция. Очищение запросной строки\n",
    "# -------------------------------------------\n",
    "def clean_query(query):\n",
    "    symb = set()\n",
    "    for ttl in query:\n",
    "        ttl = re.sub(r\"[\\W]+\", \" \", ttl) \n",
    "        # ttl = re.sub(r\"[\\d]+\", \" \", ttl)\n",
    "        ttl = re.sub(r\"à|á|â|ã|ä\", \"a\", ttl)\n",
    "        ttl = re.sub(r\"è|é|ê|ë|é\", \"e\", ttl)\n",
    "        ttl = re.sub(r\"í|î|ï\", \"i\", ttl)\n",
    "        ttl = re.sub(r\"ó|ô|ö|ø\", \"o\", ttl)\n",
    "        ttl = re.sub(r\"ú|û|ü|ù\", \"u\", ttl)\n",
    "        ttl = re.sub(r\"ç\", \"c\", ttl)\n",
    "        ttl = re.sub(r\"ñ\", \"n\", ttl)\n",
    "\n",
    "        for char in ttl.lower():\n",
    "            symb.add(char)\n",
    "    print(sorted(symb))"
   ]
  },
  {
   "cell_type": "code",
   "execution_count": 104,
   "metadata": {},
   "outputs": [],
   "source": [
    "# -------------------------------------------\n",
    "# Функция. Получение ссылки на сайте https://www.epicurious.com \n",
    "# -------------------------------------------\n",
    "def get_url(title): \n",
    "    result = None \n",
    "    try:\n",
    "        url = f'https://www.epicurious.com/search/{title}?content=recipe'\n",
    "        # Получаем ответ\n",
    "        request = requests.get(url)\n",
    "        # Обрабатываем ответ\n",
    "        soup = bs(request.text, \"html.parser\")\n",
    "        # Ищем рецепт\n",
    "        tree = soup.find(class_=\"show-quick-view\", title=title)\n",
    "        \n",
    "        if not tree:\n",
    "            tree = soup.find(class_=\"show-quick-view\")\n",
    "        if tree:\n",
    "            result = f\"https://www.epicurious.com{tree['href']}\"\n",
    "        return result\n",
    "    except:\n",
    "        print(\"Ошибка. Информацию о {title} собрать не удалось\")"
   ]
  },
  {
   "cell_type": "code",
   "execution_count": 105,
   "metadata": {},
   "outputs": [],
   "source": [
    "# -------------------------------------------\n",
    "# Функция. Поиск нужных ссылок на сайте https://www.epicurious.com \n",
    "# -------------------------------------------\n",
    "def search_url(df_urls, collector, stop):\n",
    "    # for i, title in enumerate(collector.index):\n",
    "    for i, title in enumerate(collector):\n",
    "        url = get_url(title)\n",
    "        if url:\n",
    "            df_urls.at[title, 'url'] = url\n",
    "        \n",
    "        print(i, title)\n",
    "        \n",
    "        if i == stop: break \n"
   ]
  },
  {
   "cell_type": "code",
   "execution_count": 106,
   "metadata": {},
   "outputs": [],
   "source": [
    "# -------------------------------------------\n",
    "# Поиск в Google тех ссылок которые не нашлись на https://www.epicurious.com\n",
    "# -------------------------------------------\n",
    "def find_google(df_urls, collector, stop):\n",
    "    for i, title in enumerate(collector):\n",
    "        print(i, title)\n",
    "        query = title\n",
    "        try:\n",
    "            for url in search(query, tld=\"co.in\", num=1, stop=1, pause=1):\n",
    "                df_urls.at[title, 'url'] = url\n",
    "        except HTTPError:\n",
    "            print(\"HTTPError \")\n",
    "        \n",
    "        if i == stop: break \n"
   ]
  },
  {
   "cell_type": "code",
   "execution_count": 108,
   "metadata": {},
   "outputs": [],
   "source": [
    "# -------------------------------------------\n",
    "# Запуск ф-ии поиска ссылок. \n",
    "# -------------------------------------------\n",
    "def run_search(epicur, df_urls):\n",
    "\n",
    "    if epicur:\n",
    "        # ----- https://www.epicurious.com ----------\n",
    "        search_url(df_urls, collector, 50)\n",
    "    else:\n",
    "        # --------------- Google ---------------------\n",
    "        find_google(df_urls, collector, 25)\n",
    "        # -------------------------------------------\n",
    "\n",
    "    df_urls.to_csv('./data/URLS_RECIPS.csv')"
   ]
  },
  {
   "cell_type": "code",
   "execution_count": 109,
   "metadata": {},
   "outputs": [
    {
     "name": "stdout",
     "output_type": "stream",
     "text": [
      "Нужно собрать 0 ссылок\n"
     ]
    }
   ],
   "source": [
    "# Подготовка\n",
    "# -------------------------------------------\n",
    "file_path = './data/URLS_RECIPS.csv' # Файл с сохраненными ссылками\n",
    "\n",
    "if os.path.isfile(file_path): # если существует - загрузить в df_urls\n",
    "    df_urls = pd.read_csv(file_path)\n",
    "else: # --------------------- если НЕ существует - создать df_urls\n",
    "    # Создать список запросных строк из title очищенного датасета\n",
    "    # -------------------------------------------\n",
    "    title_clean = title.to_list()\n",
    "    # посмотреть из каких символов состоит список\n",
    "    check_query(title_clean) \n",
    "    # Очистить список запросных строк\n",
    "    # -------------------------------------------\n",
    "    clean_query(title_clean) # выведет те символы которые остались\n",
    "    # Создать df для сбора ссылок\n",
    "    # -------------------------------------------\n",
    "    df_urls = pd.DataFrame({'title':title_clean, 'url':'0'})\n",
    "    \n",
    "df_urls = df_urls.set_index('title')\n",
    "\n",
    "# Создать список из рецептов для которых не собраны ссылки\n",
    "# -------------------------------------------\n",
    "collector = df_urls[df_urls['url'] == '0'].index.to_list()\n",
    "print(f\"Нужно собрать {len(collector)} ссылок\")"
   ]
  },
  {
   "cell_type": "code",
   "execution_count": 110,
   "metadata": {},
   "outputs": [],
   "source": [
    "# -------------------------------------------\n",
    "# Запуск ф-ии поиска ссылок. \n",
    "# -------------------------------------------\n",
    "# run_search(True, df_urls)"
   ]
  }
 ],
 "metadata": {
  "kernelspec": {
   "display_name": "Python 3 (ipykernel)",
   "language": "python",
   "name": "python3"
  },
  "language_info": {
   "codemirror_mode": {
    "name": "ipython",
    "version": 3
   },
   "file_extension": ".py",
   "mimetype": "text/x-python",
   "name": "python",
   "nbconvert_exporter": "python",
   "pygments_lexer": "ipython3",
   "version": "3.9.13"
  },
  "vscode": {
   "interpreter": {
    "hash": "7190580cc4f848591d3719244630559fa447e98a91e76cdd325bc08bdf56d84e"
   }
  }
 },
 "nbformat": 4,
 "nbformat_minor": 4
}
